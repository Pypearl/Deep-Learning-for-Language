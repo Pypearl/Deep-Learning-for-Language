{
 "cells": [
  {
   "cell_type": "markdown",
   "metadata": {},
   "source": [
    "# Introduction to Natural Language Processing 2 Lab04\n",
    "\n",
    "## Introduction\n",
    "\n",
    "We want to sell a moderation API tackling toxic content on Twitter. We find a collection of tweets labeled on [HuggingFace](https://huggingface.co/datasets/tweet_eval).  \n",
    "We want to train a model to predict the toxicity of a tweet. Two datasets seem close to our needs: `hate` and `offensive`.\n",
    "\n",
    "We will use the `hate` dataset due to its greatest toxicity. The moderation we need here is to detect some type of high toxicity firstly instead of offensive language.\n",
    "\n",
    "---\n",
    "\n",
    "## Load the dataset\n"
   ]
  },
  {
   "cell_type": "code",
   "execution_count": 1,
   "metadata": {},
   "outputs": [
    {
     "name": "stderr",
     "output_type": "stream",
     "text": [
      "Downloading builder script: 9.72kB [00:00, 4.89MB/s]                   \n",
      "Downloading metadata: 30.4kB [00:00, 19.9MB/s]                   \n"
     ]
    },
    {
     "name": "stdout",
     "output_type": "stream",
     "text": [
      "Downloading and preparing dataset tweet_eval/hate (download: 1.62 MiB, generated: 1.72 MiB, post-processed: Unknown size, total: 3.35 MiB) to /home/bictole/.cache/huggingface/datasets/tweet_eval/hate/1.1.0/12aee5282b8784f3e95459466db4cdf45c6bf49719c25cdb0743d71ed0410343...\n"
     ]
    },
    {
     "name": "stderr",
     "output_type": "stream",
     "text": [
      "Downloading data: 1.13MB [00:00, 39.9MB/s]                  ]\n",
      "Downloading data: 18.0kB [00:00, 19.9MB/s]                   .15it/s]\n",
      "Downloading data: 399kB [00:00, 18.7MB/s]                   2.77it/s]\n",
      "Downloading data: 5.94kB [00:00, 5.28MB/s]                  2.61it/s]\n",
      "Downloading data: 144kB [00:00, 17.8MB/s]                    .55it/s]\n",
      "Downloading data: 2.00kB [00:00, 2.14MB/s]                  2.72it/s]\n",
      "Downloading data files: 100%|██████████| 6/6 [00:02<00:00,  2.70it/s]\n",
      "Extracting data files: 100%|██████████| 6/6 [00:00<00:00, 3024.37it/s]\n",
      "                                                                            \r"
     ]
    },
    {
     "name": "stdout",
     "output_type": "stream",
     "text": [
      "Dataset tweet_eval downloaded and prepared to /home/bictole/.cache/huggingface/datasets/tweet_eval/hate/1.1.0/12aee5282b8784f3e95459466db4cdf45c6bf49719c25cdb0743d71ed0410343. Subsequent calls will reuse this data.\n"
     ]
    },
    {
     "name": "stderr",
     "output_type": "stream",
     "text": [
      "100%|██████████| 3/3 [00:00<00:00, 936.72it/s]\n"
     ]
    }
   ],
   "source": [
    "from datasets import load_dataset\n",
    "dataset = load_dataset('tweet_eval', 'hate')"
   ]
  },
  {
   "cell_type": "markdown",
   "metadata": {},
   "source": [
    "## Evaluating the dataset"
   ]
  },
  {
   "cell_type": "code",
   "execution_count": 2,
   "metadata": {},
   "outputs": [
    {
     "data": {
      "text/plain": [
       "DatasetDict({\n",
       "    train: Dataset({\n",
       "        features: ['text', 'label'],\n",
       "        num_rows: 9000\n",
       "    })\n",
       "    test: Dataset({\n",
       "        features: ['text', 'label'],\n",
       "        num_rows: 2970\n",
       "    })\n",
       "    validation: Dataset({\n",
       "        features: ['text', 'label'],\n",
       "        num_rows: 1000\n",
       "    })\n",
       "})"
      ]
     },
     "execution_count": 2,
     "metadata": {},
     "output_type": "execute_result"
    }
   ],
   "source": [
    "dataset"
   ]
  },
  {
   "cell_type": "markdown",
   "metadata": {},
   "source": [
    "The dataset is composed of 3 splits: `train`, `test` and `validation`.  \n",
    "The `train` split is composed of **9,000** tweets.  \n",
    "The `test` split is composed of **2,970** tweets.  \n",
    "The `validation` split is composed of **1,000** tweets.  \n",
    "\n",
    "\n",
    "Each split is composed of two features: `text` and `label`.\n"
   ]
  },
  {
   "cell_type": "code",
   "execution_count": 5,
   "metadata": {},
   "outputs": [
    {
     "name": "stderr",
     "output_type": "stream",
     "text": [
      "Loading cached processed dataset at /home/bictole/.cache/huggingface/datasets/tweet_eval/hate/1.1.0/12aee5282b8784f3e95459466db4cdf45c6bf49719c25cdb0743d71ed0410343/cache-64a2f09d35003d57.arrow\n",
      "Loading cached processed dataset at /home/bictole/.cache/huggingface/datasets/tweet_eval/hate/1.1.0/12aee5282b8784f3e95459466db4cdf45c6bf49719c25cdb0743d71ed0410343/cache-5a71c3687b1e1ece.arrow\n",
      "Loading cached processed dataset at /home/bictole/.cache/huggingface/datasets/tweet_eval/hate/1.1.0/12aee5282b8784f3e95459466db4cdf45c6bf49719c25cdb0743d71ed0410343/cache-6cb6426c5dba15f5.arrow\n",
      "Loading cached processed dataset at /home/bictole/.cache/huggingface/datasets/tweet_eval/hate/1.1.0/12aee5282b8784f3e95459466db4cdf45c6bf49719c25cdb0743d71ed0410343/cache-9cc66ca5333ae6aa.arrow\n",
      "Loading cached processed dataset at /home/bictole/.cache/huggingface/datasets/tweet_eval/hate/1.1.0/12aee5282b8784f3e95459466db4cdf45c6bf49719c25cdb0743d71ed0410343/cache-c31554a090f8450d.arrow\n",
      "Loading cached processed dataset at /home/bictole/.cache/huggingface/datasets/tweet_eval/hate/1.1.0/12aee5282b8784f3e95459466db4cdf45c6bf49719c25cdb0743d71ed0410343/cache-50465f82d5bb13bd.arrow\n"
     ]
    },
    {
     "name": "stdout",
     "output_type": "stream",
     "text": [
      "Number of non hate tweets in each split:\n",
      "{'train': 5217, 'test': 1718, 'validation': 573}\n",
      "Number of hate tweets in each split:\n",
      "{'train': 3783, 'test': 1252, 'validation': 427}\n"
     ]
    }
   ],
   "source": [
    "print(\"Number of non hate tweets in each split:\")\n",
    "print(dataset.filter(lambda split: split['label'] == 0).num_rows)\n",
    "print(\"Number of hate tweets in each split:\")\n",
    "print(dataset.filter(lambda split: split['label'] == 1).num_rows)"
   ]
  },
  {
   "cell_type": "markdown",
   "metadata": {},
   "source": [
    "We can observe that the labels are binary: `0` for non-hate tweets and `1` for hate tweets.  \n",
    "We can observe that the dataset is unbalanced: there are more non-hate tweets than hate tweets."
   ]
  },
  {
   "cell_type": "markdown",
   "metadata": {},
   "source": [
    "Let's see some examples of tweets and their labels."
   ]
  },
  {
   "cell_type": "code",
   "execution_count": 6,
   "metadata": {},
   "outputs": [
    {
     "name": "stdout",
     "output_type": "stream",
     "text": [
      "Label: 0 | @user nice new signage. Are you not concerned by Beatlemania -style hysterical crowds crongregating on you…\n",
      "Label: 1 | A woman who you fucked multiple times saying yo dick small is a compliment you know u hit that spot 😎\n",
      "Label: 1 | @user @user real talk do you have eyes or were they gouged out by a rapefugee?\n",
      "Label: 1 | your girlfriend lookin at me like a groupie in this bitch!\n",
      "Label: 0 | Hysterical woman like @user\n",
      "Label: 0 | Me flirting- So tell me about your father...\n",
      "Label: 0 | The Philippine Catholic bishops' work for migrant workers should focus on families who are \"paying the great...\n",
      "Label: 1 | I AM NOT GOING AFTER YOUR EX BF YOU LIEING SACK OF SHIT ! I'm done with you dude that's why I dumped your ass cause your a lieing 😂😡 bitch\n",
      "Label: 0 | When cuffin season is finally over\n",
      "Label: 1 | Send home migrants not in need of protection, Peter Dutton tells UN, HEY DUTTON HOW ABOUT THE ONES THAT HAVE STAYED AND NOT LEFT THE COUNTRY WHEN THEY SHOULD OVERSTAYERS ? WHY DONT YOU GO AND ROUND ALL THEM UP ?\n"
     ]
    }
   ],
   "source": [
    "texts, labels = dataset['train'][:10].items()\n",
    "for text, label in zip(texts[1], labels[1]):\n",
    "    print(f\"Label: {label} | {text}\")"
   ]
  },
  {
   "cell_type": "markdown",
   "metadata": {},
   "source": [
    "In most of the hate tweets, we can observe some juron, insult and vulgarity. We can also observe that words in capital letters are used to emphasize the hate."
   ]
  },
  {
   "cell_type": "markdown",
   "metadata": {},
   "source": [
    "**Now let's use [BERTopic](https://github.com/MaartenGr/BERTopic) to extract the topics within the data, and the main topics within each class.**"
   ]
  },
  {
   "cell_type": "code",
   "execution_count": null,
   "metadata": {},
   "outputs": [],
   "source": [
    "! pip install bertopic"
   ]
  },
  {
   "cell_type": "code",
   "execution_count": 8,
   "metadata": {},
   "outputs": [
    {
     "name": "stderr",
     "output_type": "stream",
     "text": [
      "2022-11-23 15:47:30.554615: W tensorflow/stream_executor/platform/default/dso_loader.cc:64] Could not load dynamic library 'libcudart.so.11.0'; dlerror: libcudart.so.11.0: cannot open shared object file: No such file or directory\n",
      "2022-11-23 15:47:30.554629: I tensorflow/stream_executor/cuda/cudart_stub.cc:29] Ignore above cudart dlerror if you do not have a GPU set up on your machine.\n"
     ]
    }
   ],
   "source": [
    "from bertopic import BERTopic\n",
    "from umap import UMAP\n",
    "\n",
    "umap_model = UMAP(random_state=42)\n",
    "topic_model = BERTopic(umap_model=umap_model, embedding_model=\"all-MiniLM-L6-v2\")"
   ]
  },
  {
   "cell_type": "code",
   "execution_count": 9,
   "metadata": {},
   "outputs": [
    {
     "name": "stderr",
     "output_type": "stream",
     "text": [
      "Downloading: 100%|██████████| 1.18k/1.18k [00:00<00:00, 1.05MB/s]\n",
      "Downloading: 100%|██████████| 190/190 [00:00<00:00, 199kB/s]\n",
      "Downloading: 100%|██████████| 10.6k/10.6k [00:00<00:00, 9.22MB/s]\n",
      "Downloading: 100%|██████████| 612/612 [00:00<00:00, 631kB/s]\n",
      "Downloading: 100%|██████████| 116/116 [00:00<00:00, 100kB/s]\n",
      "Downloading: 100%|██████████| 39.3k/39.3k [00:00<00:00, 25.4MB/s]\n",
      "Downloading: 100%|██████████| 90.9M/90.9M [00:02<00:00, 37.6MB/s]\n",
      "Downloading: 100%|██████████| 53.0/53.0 [00:00<00:00, 63.1kB/s]\n",
      "Downloading: 100%|██████████| 112/112 [00:00<00:00, 137kB/s]\n",
      "Downloading: 100%|██████████| 466k/466k [00:00<00:00, 1.03MB/s]\n",
      "Downloading: 100%|██████████| 350/350 [00:00<00:00, 284kB/s]\n",
      "Downloading: 100%|██████████| 13.2k/13.2k [00:00<00:00, 147kB/s]\n",
      "Downloading: 100%|██████████| 232k/232k [00:00<00:00, 645kB/s] \n",
      "Downloading: 100%|██████████| 349/349 [00:00<00:00, 285kB/s]\n"
     ]
    }
   ],
   "source": [
    "topics, _ = topic_model.fit_transform(dataset['train']['text'])"
   ]
  },
  {
   "cell_type": "code",
   "execution_count": 10,
   "metadata": {},
   "outputs": [
    {
     "data": {
      "application/vnd.plotly.v1+json": {
       "config": {
        "plotlyServerURL": "https://plot.ly"
       },
       "data": [
        {
         "customdata": [
          [
           0,
           "the | to | in | of | user",
           4173
          ],
          [
           1,
           "bitch | cunt | user | you | whore",
           363
          ],
          [
           2,
           "when | you | your | re | life",
           331
          ],
          [
           3,
           "rape | women | woman | raped | user",
           274
          ],
          [
           4,
           "hoe | hoes | bitch | you | my",
           154
          ],
          [
           5,
           "india | delhi | illegal | migrants | amp",
           91
          ],
          [
           6,
           "skank | you | user | re | stupid",
           87
          ],
          [
           7,
           "dick | my | you | your | if",
           82
          ],
          [
           8,
           "ram | you | mandir | temple | user",
           75
          ],
          [
           9,
           "user | ha | me | try | cause",
           74
          ],
          [
           10,
           "skank | halloween | you | ass | girl",
           64
          ],
          [
           11,
           "hysterical | women | abortion | men | woman",
           64
          ],
          [
           12,
           "rohingya | myanmar | bangladesh | user | refugees",
           63
          ],
          [
           13,
           "men | all | not | you | same",
           62
          ],
          [
           14,
           "womensuck | women | girls | skinny | you",
           60
          ],
          [
           15,
           "hysterical | woman | booker | harris | most",
           60
          ],
          [
           16,
           "slut | whore | or | bitch | me",
           60
          ],
          [
           17,
           "womensuck | don | women | spread | you",
           56
          ],
          [
           18,
           "hysterical | hystericalyou | woman | user | re",
           55
          ],
          [
           19,
           "cunt | woman | women | user | princess",
           51
          ],
          [
           20,
           "men | blog | rights | fighting | feminism",
           41
          ],
          [
           21,
           "kunt | you | fckin | user | know",
           39
          ],
          [
           22,
           "rape | islam | muslim | women | woman",
           35
          ],
          [
           23,
           "drinking | drunk | when | alcohol | bar",
           35
          ],
          [
           24,
           "cunt | bitch | fuck | fucking | shit",
           33
          ],
          [
           25,
           "whore | bitch | ass | fucking | shit",
           32
          ],
          [
           26,
           "pussy | bitch | da | dick | down",
           32
          ],
          [
           27,
           "hoe | dm | bitch | you | user",
           32
          ],
          [
           28,
           "maledominance | thanks | account | support | parody",
           30
          ],
          [
           29,
           "bitch | pussy | dat | yo | nigga",
           30
          ],
          [
           30,
           "tip | pro | condoms | wear | condom",
           27
          ],
          [
           31,
           "rt | tweets | twitter | user | only",
           27
          ],
          [
           32,
           "yesallmen | notallmen | rt | yesallwomen | hours",
           26
          ],
          [
           33,
           "men | all | not | abuse | women",
           24
          ],
          [
           34,
           "cunt | constantly | up | all | she",
           24
          ],
          [
           35,
           "slut | bitch | whore | mistress | user",
           24
          ],
          [
           36,
           "nelly | accused | case | rape | woman",
           22
          ],
          [
           37,
           "trash | men | all | not | are",
           22
          ],
          [
           38,
           "burundi | burundian | refugees | nkurunziza | kigoma",
           21
          ],
          [
           39,
           "me | her | person | table | what",
           19
          ],
          [
           40,
           "russian | alaska | putin | seat | nod",
           18
          ],
          [
           41,
           "madonna | sacred | women | dichotomy | virgin",
           17
          ],
          [
           42,
           "womensuck | tease | trashy | fuck | girls",
           17
          ],
          [
           43,
           "slut | cunt | daddy | rhymes | tiny",
           17
          ],
          [
           44,
           "filipino | philippines | bishops | catholic | philippine",
           16
          ],
          [
           45,
           "hysterical | woman | most | speak | mountain",
           16
          ],
          [
           46,
           "flirting | flirt | me | trying | 2016",
           16
          ],
          [
           47,
           "birthday | happy | ya | bday | spankings",
           15
          ],
          [
           48,
           "cunt | brick | claire | women | word",
           15
          ],
          [
           49,
           "weekend | tuesday | happy | friday | friend",
           15
          ],
          [
           50,
           "advertising | facebook | political | civil | denounced",
           15
          ],
          [
           51,
           "whore | my | liddo | sparkles | farting",
           14
          ],
          [
           52,
           "cock | cum | my | dick | you",
           14
          ],
          [
           53,
           "girls | rings | washing | machine | fake",
           13
          ],
          [
           54,
           "goals | count | af | first | right",
           13
          ],
          [
           55,
           "men | all | not | sexist | feminists",
           12
          ],
          [
           56,
           "slag | pimp | em | trays | skrewed",
           12
          ],
          [
           57,
           "little | cum | cocks | ugly | honestly",
           12
          ],
          [
           58,
           "sandwich | maker | sweeps | kitchen | authority",
           11
          ],
          [
           59,
           "nyc | brain | god | women | kitchen",
           11
          ],
          [
           60,
           "metoo | victim | rape | woman | assault",
           10
          ],
          [
           61,
           "mom | katie | whore | dad | picture",
           10
          ],
          [
           62,
           "cough | fucking | buy | whores | bitch",
           10
          ],
          [
           63,
           "ask | unfunny | delight | unfollow | cause",
           10
          ]
         ],
         "hovertemplate": "<b>Topic %{customdata[0]}</b><br>Words: %{customdata[1]}<br>Size: %{customdata[2]}",
         "legendgroup": "",
         "marker": {
          "color": "#B0BEC5",
          "line": {
           "color": "DarkSlateGrey",
           "width": 2
          },
          "size": [
           4173,
           363,
           331,
           274,
           154,
           91,
           87,
           82,
           75,
           74,
           64,
           64,
           63,
           62,
           60,
           60,
           60,
           56,
           55,
           51,
           41,
           39,
           35,
           35,
           33,
           32,
           32,
           32,
           30,
           30,
           27,
           27,
           26,
           24,
           24,
           24,
           22,
           22,
           21,
           19,
           18,
           17,
           17,
           17,
           16,
           16,
           16,
           15,
           15,
           15,
           15,
           14,
           14,
           13,
           13,
           12,
           12,
           12,
           11,
           11,
           10,
           10,
           10,
           10
          ],
          "sizemode": "area",
          "sizeref": 2.608125,
          "symbol": "circle"
         },
         "mode": "markers",
         "name": "",
         "orientation": "v",
         "showlegend": false,
         "type": "scatter",
         "x": [
          15.105236053466797,
          2.954585552215576,
          -2.7441935539245605,
          15.316963195800781,
          2.711846351623535,
          21.467525482177734,
          15.351214408874512,
          15.307411193847656,
          -0.7638279795646667,
          15.679679870605469,
          15.341196060180664,
          -8.242696762084961,
          21.43413734436035,
          -8.398730278015137,
          15.583910942077637,
          -8.151484489440918,
          4.2072577476501465,
          15.662959098815918,
          -0.9048509001731873,
          4.546008110046387,
          -8.151914596557617,
          4.709874629974365,
          1.5241280794143677,
          -3.008148670196533,
          3.3310561180114746,
          3.3844287395477295,
          2.4363324642181396,
          -3.4424991607666016,
          3.9761013984680176,
          2.8474526405334473,
          -5.760008335113525,
          -0.6267785429954529,
          -2.9198496341705322,
          1.1754347085952759,
          3.9545187950134277,
          -3.5253634452819824,
          -2.4854557514190674,
          -8.56342887878418,
          21.36766815185547,
          -2.7630207538604736,
          4.086145877838135,
          1.1157790422439575,
          2.001091241836548,
          -2.8029303550720215,
          1.4957224130630493,
          -2.471168279647827,
          -0.7197769284248352,
          -3.3351128101348877,
          -0.30012646317481995,
          -5.620145797729492,
          -2.3742516040802,
          -2.8726189136505127,
          -3.3012564182281494,
          15.414274215698242,
          -3.0422675609588623,
          -8.587428092956543,
          -3.4560229778289795,
          2.210646867752075,
          2.014993190765381,
          -0.1907820999622345,
          1.322593331336975,
          4.277474403381348,
          4.27751350402832,
          -5.703088760375977
         ],
         "xaxis": "x",
         "y": [
          11.15617561340332,
          3.9378249645233154,
          10.850469589233398,
          11.034335136413574,
          4.18882942199707,
          7.417777061462402,
          9.591564178466797,
          10.315946578979492,
          -7.683724403381348,
          10.807753562927246,
          9.736044883728027,
          2.9176676273345947,
          7.451618671417236,
          2.6130008697509766,
          10.888497352600098,
          2.9283695220947266,
          4.572080135345459,
          11.085100173950195,
          -7.546511650085449,
          4.7000041007995605,
          2.4852921962738037,
          4.821316719055176,
          8.642117500305176,
          11.031732559204102,
          4.683337211608887,
          4.540591716766357,
          3.6630263328552246,
          10.834329605102539,
          4.235545635223389,
          4.090014457702637,
          20.945446014404297,
          -7.819970607757568,
          5.1221513748168945,
          8.291694641113281,
          4.499220371246338,
          10.711206436157227,
          4.8146185874938965,
          2.4016668796539307,
          7.517655849456787,
          5.3492536544799805,
          4.113885879516602,
          8.229022026062012,
          3.0387027263641357,
          5.872176170349121,
          8.612736701965332,
          4.967507839202881,
          -7.72406530380249,
          11.37557315826416,
          -8.163043975830078,
          20.809185028076172,
          4.940230846405029,
          5.726192951202393,
          11.173165321350098,
          10.176639556884766,
          5.293960094451904,
          2.235872268676758,
          11.283782005310059,
          3.3682444095611572,
          2.9820075035095215,
          -8.273247718811035,
          8.444713592529297,
          14.187747955322266,
          14.18775749206543,
          20.890674591064453
         ],
         "yaxis": "y"
        }
       ],
       "layout": {
        "annotations": [
         {
          "showarrow": false,
          "text": "D1",
          "x": -9.875542306900025,
          "y": 7.286514019966126,
          "yshift": 10
         },
         {
          "showarrow": false,
          "text": "D2",
          "x": 7.406055998802185,
          "xshift": 10,
          "y": 24.087262916564942
         }
        ],
        "height": 650,
        "hoverlabel": {
         "bgcolor": "white",
         "font": {
          "family": "Rockwell",
          "size": 16
         }
        },
        "legend": {
         "itemsizing": "constant",
         "tracegroupgap": 0
        },
        "margin": {
         "t": 60
        },
        "shapes": [
         {
          "line": {
           "color": "#CFD8DC",
           "width": 2
          },
          "type": "line",
          "x0": 7.406055998802185,
          "x1": 7.406055998802185,
          "y0": -9.51423487663269,
          "y1": 24.087262916564942
         },
         {
          "line": {
           "color": "#9E9E9E",
           "width": 2
          },
          "type": "line",
          "x0": -9.875542306900025,
          "x1": 24.687654304504395,
          "y0": 7.286514019966126,
          "y1": 7.286514019966126
         }
        ],
        "sliders": [
         {
          "active": 0,
          "pad": {
           "t": 50
          },
          "steps": [
           {
            "args": [
             {
              "marker.color": [
               [
                "red",
                "#B0BEC5",
                "#B0BEC5",
                "#B0BEC5",
                "#B0BEC5",
                "#B0BEC5",
                "#B0BEC5",
                "#B0BEC5",
                "#B0BEC5",
                "#B0BEC5",
                "#B0BEC5",
                "#B0BEC5",
                "#B0BEC5",
                "#B0BEC5",
                "#B0BEC5",
                "#B0BEC5",
                "#B0BEC5",
                "#B0BEC5",
                "#B0BEC5",
                "#B0BEC5",
                "#B0BEC5",
                "#B0BEC5",
                "#B0BEC5",
                "#B0BEC5",
                "#B0BEC5",
                "#B0BEC5",
                "#B0BEC5",
                "#B0BEC5",
                "#B0BEC5",
                "#B0BEC5",
                "#B0BEC5",
                "#B0BEC5",
                "#B0BEC5",
                "#B0BEC5",
                "#B0BEC5",
                "#B0BEC5",
                "#B0BEC5",
                "#B0BEC5",
                "#B0BEC5",
                "#B0BEC5",
                "#B0BEC5",
                "#B0BEC5",
                "#B0BEC5",
                "#B0BEC5",
                "#B0BEC5",
                "#B0BEC5",
                "#B0BEC5",
                "#B0BEC5",
                "#B0BEC5",
                "#B0BEC5",
                "#B0BEC5",
                "#B0BEC5",
                "#B0BEC5",
                "#B0BEC5",
                "#B0BEC5",
                "#B0BEC5",
                "#B0BEC5",
                "#B0BEC5",
                "#B0BEC5",
                "#B0BEC5",
                "#B0BEC5",
                "#B0BEC5",
                "#B0BEC5",
                "#B0BEC5"
               ]
              ]
             }
            ],
            "label": "Topic 0",
            "method": "update"
           },
           {
            "args": [
             {
              "marker.color": [
               [
                "#B0BEC5",
                "red",
                "#B0BEC5",
                "#B0BEC5",
                "#B0BEC5",
                "#B0BEC5",
                "#B0BEC5",
                "#B0BEC5",
                "#B0BEC5",
                "#B0BEC5",
                "#B0BEC5",
                "#B0BEC5",
                "#B0BEC5",
                "#B0BEC5",
                "#B0BEC5",
                "#B0BEC5",
                "#B0BEC5",
                "#B0BEC5",
                "#B0BEC5",
                "#B0BEC5",
                "#B0BEC5",
                "#B0BEC5",
                "#B0BEC5",
                "#B0BEC5",
                "#B0BEC5",
                "#B0BEC5",
                "#B0BEC5",
                "#B0BEC5",
                "#B0BEC5",
                "#B0BEC5",
                "#B0BEC5",
                "#B0BEC5",
                "#B0BEC5",
                "#B0BEC5",
                "#B0BEC5",
                "#B0BEC5",
                "#B0BEC5",
                "#B0BEC5",
                "#B0BEC5",
                "#B0BEC5",
                "#B0BEC5",
                "#B0BEC5",
                "#B0BEC5",
                "#B0BEC5",
                "#B0BEC5",
                "#B0BEC5",
                "#B0BEC5",
                "#B0BEC5",
                "#B0BEC5",
                "#B0BEC5",
                "#B0BEC5",
                "#B0BEC5",
                "#B0BEC5",
                "#B0BEC5",
                "#B0BEC5",
                "#B0BEC5",
                "#B0BEC5",
                "#B0BEC5",
                "#B0BEC5",
                "#B0BEC5",
                "#B0BEC5",
                "#B0BEC5",
                "#B0BEC5",
                "#B0BEC5"
               ]
              ]
             }
            ],
            "label": "Topic 1",
            "method": "update"
           },
           {
            "args": [
             {
              "marker.color": [
               [
                "#B0BEC5",
                "#B0BEC5",
                "red",
                "#B0BEC5",
                "#B0BEC5",
                "#B0BEC5",
                "#B0BEC5",
                "#B0BEC5",
                "#B0BEC5",
                "#B0BEC5",
                "#B0BEC5",
                "#B0BEC5",
                "#B0BEC5",
                "#B0BEC5",
                "#B0BEC5",
                "#B0BEC5",
                "#B0BEC5",
                "#B0BEC5",
                "#B0BEC5",
                "#B0BEC5",
                "#B0BEC5",
                "#B0BEC5",
                "#B0BEC5",
                "#B0BEC5",
                "#B0BEC5",
                "#B0BEC5",
                "#B0BEC5",
                "#B0BEC5",
                "#B0BEC5",
                "#B0BEC5",
                "#B0BEC5",
                "#B0BEC5",
                "#B0BEC5",
                "#B0BEC5",
                "#B0BEC5",
                "#B0BEC5",
                "#B0BEC5",
                "#B0BEC5",
                "#B0BEC5",
                "#B0BEC5",
                "#B0BEC5",
                "#B0BEC5",
                "#B0BEC5",
                "#B0BEC5",
                "#B0BEC5",
                "#B0BEC5",
                "#B0BEC5",
                "#B0BEC5",
                "#B0BEC5",
                "#B0BEC5",
                "#B0BEC5",
                "#B0BEC5",
                "#B0BEC5",
                "#B0BEC5",
                "#B0BEC5",
                "#B0BEC5",
                "#B0BEC5",
                "#B0BEC5",
                "#B0BEC5",
                "#B0BEC5",
                "#B0BEC5",
                "#B0BEC5",
                "#B0BEC5",
                "#B0BEC5"
               ]
              ]
             }
            ],
            "label": "Topic 2",
            "method": "update"
           },
           {
            "args": [
             {
              "marker.color": [
               [
                "#B0BEC5",
                "#B0BEC5",
                "#B0BEC5",
                "red",
                "#B0BEC5",
                "#B0BEC5",
                "#B0BEC5",
                "#B0BEC5",
                "#B0BEC5",
                "#B0BEC5",
                "#B0BEC5",
                "#B0BEC5",
                "#B0BEC5",
                "#B0BEC5",
                "#B0BEC5",
                "#B0BEC5",
                "#B0BEC5",
                "#B0BEC5",
                "#B0BEC5",
                "#B0BEC5",
                "#B0BEC5",
                "#B0BEC5",
                "#B0BEC5",
                "#B0BEC5",
                "#B0BEC5",
                "#B0BEC5",
                "#B0BEC5",
                "#B0BEC5",
                "#B0BEC5",
                "#B0BEC5",
                "#B0BEC5",
                "#B0BEC5",
                "#B0BEC5",
                "#B0BEC5",
                "#B0BEC5",
                "#B0BEC5",
                "#B0BEC5",
                "#B0BEC5",
                "#B0BEC5",
                "#B0BEC5",
                "#B0BEC5",
                "#B0BEC5",
                "#B0BEC5",
                "#B0BEC5",
                "#B0BEC5",
                "#B0BEC5",
                "#B0BEC5",
                "#B0BEC5",
                "#B0BEC5",
                "#B0BEC5",
                "#B0BEC5",
                "#B0BEC5",
                "#B0BEC5",
                "#B0BEC5",
                "#B0BEC5",
                "#B0BEC5",
                "#B0BEC5",
                "#B0BEC5",
                "#B0BEC5",
                "#B0BEC5",
                "#B0BEC5",
                "#B0BEC5",
                "#B0BEC5",
                "#B0BEC5"
               ]
              ]
             }
            ],
            "label": "Topic 3",
            "method": "update"
           },
           {
            "args": [
             {
              "marker.color": [
               [
                "#B0BEC5",
                "#B0BEC5",
                "#B0BEC5",
                "#B0BEC5",
                "red",
                "#B0BEC5",
                "#B0BEC5",
                "#B0BEC5",
                "#B0BEC5",
                "#B0BEC5",
                "#B0BEC5",
                "#B0BEC5",
                "#B0BEC5",
                "#B0BEC5",
                "#B0BEC5",
                "#B0BEC5",
                "#B0BEC5",
                "#B0BEC5",
                "#B0BEC5",
                "#B0BEC5",
                "#B0BEC5",
                "#B0BEC5",
                "#B0BEC5",
                "#B0BEC5",
                "#B0BEC5",
                "#B0BEC5",
                "#B0BEC5",
                "#B0BEC5",
                "#B0BEC5",
                "#B0BEC5",
                "#B0BEC5",
                "#B0BEC5",
                "#B0BEC5",
                "#B0BEC5",
                "#B0BEC5",
                "#B0BEC5",
                "#B0BEC5",
                "#B0BEC5",
                "#B0BEC5",
                "#B0BEC5",
                "#B0BEC5",
                "#B0BEC5",
                "#B0BEC5",
                "#B0BEC5",
                "#B0BEC5",
                "#B0BEC5",
                "#B0BEC5",
                "#B0BEC5",
                "#B0BEC5",
                "#B0BEC5",
                "#B0BEC5",
                "#B0BEC5",
                "#B0BEC5",
                "#B0BEC5",
                "#B0BEC5",
                "#B0BEC5",
                "#B0BEC5",
                "#B0BEC5",
                "#B0BEC5",
                "#B0BEC5",
                "#B0BEC5",
                "#B0BEC5",
                "#B0BEC5",
                "#B0BEC5"
               ]
              ]
             }
            ],
            "label": "Topic 4",
            "method": "update"
           },
           {
            "args": [
             {
              "marker.color": [
               [
                "#B0BEC5",
                "#B0BEC5",
                "#B0BEC5",
                "#B0BEC5",
                "#B0BEC5",
                "red",
                "#B0BEC5",
                "#B0BEC5",
                "#B0BEC5",
                "#B0BEC5",
                "#B0BEC5",
                "#B0BEC5",
                "#B0BEC5",
                "#B0BEC5",
                "#B0BEC5",
                "#B0BEC5",
                "#B0BEC5",
                "#B0BEC5",
                "#B0BEC5",
                "#B0BEC5",
                "#B0BEC5",
                "#B0BEC5",
                "#B0BEC5",
                "#B0BEC5",
                "#B0BEC5",
                "#B0BEC5",
                "#B0BEC5",
                "#B0BEC5",
                "#B0BEC5",
                "#B0BEC5",
                "#B0BEC5",
                "#B0BEC5",
                "#B0BEC5",
                "#B0BEC5",
                "#B0BEC5",
                "#B0BEC5",
                "#B0BEC5",
                "#B0BEC5",
                "#B0BEC5",
                "#B0BEC5",
                "#B0BEC5",
                "#B0BEC5",
                "#B0BEC5",
                "#B0BEC5",
                "#B0BEC5",
                "#B0BEC5",
                "#B0BEC5",
                "#B0BEC5",
                "#B0BEC5",
                "#B0BEC5",
                "#B0BEC5",
                "#B0BEC5",
                "#B0BEC5",
                "#B0BEC5",
                "#B0BEC5",
                "#B0BEC5",
                "#B0BEC5",
                "#B0BEC5",
                "#B0BEC5",
                "#B0BEC5",
                "#B0BEC5",
                "#B0BEC5",
                "#B0BEC5",
                "#B0BEC5"
               ]
              ]
             }
            ],
            "label": "Topic 5",
            "method": "update"
           },
           {
            "args": [
             {
              "marker.color": [
               [
                "#B0BEC5",
                "#B0BEC5",
                "#B0BEC5",
                "#B0BEC5",
                "#B0BEC5",
                "#B0BEC5",
                "red",
                "#B0BEC5",
                "#B0BEC5",
                "#B0BEC5",
                "#B0BEC5",
                "#B0BEC5",
                "#B0BEC5",
                "#B0BEC5",
                "#B0BEC5",
                "#B0BEC5",
                "#B0BEC5",
                "#B0BEC5",
                "#B0BEC5",
                "#B0BEC5",
                "#B0BEC5",
                "#B0BEC5",
                "#B0BEC5",
                "#B0BEC5",
                "#B0BEC5",
                "#B0BEC5",
                "#B0BEC5",
                "#B0BEC5",
                "#B0BEC5",
                "#B0BEC5",
                "#B0BEC5",
                "#B0BEC5",
                "#B0BEC5",
                "#B0BEC5",
                "#B0BEC5",
                "#B0BEC5",
                "#B0BEC5",
                "#B0BEC5",
                "#B0BEC5",
                "#B0BEC5",
                "#B0BEC5",
                "#B0BEC5",
                "#B0BEC5",
                "#B0BEC5",
                "#B0BEC5",
                "#B0BEC5",
                "#B0BEC5",
                "#B0BEC5",
                "#B0BEC5",
                "#B0BEC5",
                "#B0BEC5",
                "#B0BEC5",
                "#B0BEC5",
                "#B0BEC5",
                "#B0BEC5",
                "#B0BEC5",
                "#B0BEC5",
                "#B0BEC5",
                "#B0BEC5",
                "#B0BEC5",
                "#B0BEC5",
                "#B0BEC5",
                "#B0BEC5",
                "#B0BEC5"
               ]
              ]
             }
            ],
            "label": "Topic 6",
            "method": "update"
           },
           {
            "args": [
             {
              "marker.color": [
               [
                "#B0BEC5",
                "#B0BEC5",
                "#B0BEC5",
                "#B0BEC5",
                "#B0BEC5",
                "#B0BEC5",
                "#B0BEC5",
                "red",
                "#B0BEC5",
                "#B0BEC5",
                "#B0BEC5",
                "#B0BEC5",
                "#B0BEC5",
                "#B0BEC5",
                "#B0BEC5",
                "#B0BEC5",
                "#B0BEC5",
                "#B0BEC5",
                "#B0BEC5",
                "#B0BEC5",
                "#B0BEC5",
                "#B0BEC5",
                "#B0BEC5",
                "#B0BEC5",
                "#B0BEC5",
                "#B0BEC5",
                "#B0BEC5",
                "#B0BEC5",
                "#B0BEC5",
                "#B0BEC5",
                "#B0BEC5",
                "#B0BEC5",
                "#B0BEC5",
                "#B0BEC5",
                "#B0BEC5",
                "#B0BEC5",
                "#B0BEC5",
                "#B0BEC5",
                "#B0BEC5",
                "#B0BEC5",
                "#B0BEC5",
                "#B0BEC5",
                "#B0BEC5",
                "#B0BEC5",
                "#B0BEC5",
                "#B0BEC5",
                "#B0BEC5",
                "#B0BEC5",
                "#B0BEC5",
                "#B0BEC5",
                "#B0BEC5",
                "#B0BEC5",
                "#B0BEC5",
                "#B0BEC5",
                "#B0BEC5",
                "#B0BEC5",
                "#B0BEC5",
                "#B0BEC5",
                "#B0BEC5",
                "#B0BEC5",
                "#B0BEC5",
                "#B0BEC5",
                "#B0BEC5",
                "#B0BEC5"
               ]
              ]
             }
            ],
            "label": "Topic 7",
            "method": "update"
           },
           {
            "args": [
             {
              "marker.color": [
               [
                "#B0BEC5",
                "#B0BEC5",
                "#B0BEC5",
                "#B0BEC5",
                "#B0BEC5",
                "#B0BEC5",
                "#B0BEC5",
                "#B0BEC5",
                "red",
                "#B0BEC5",
                "#B0BEC5",
                "#B0BEC5",
                "#B0BEC5",
                "#B0BEC5",
                "#B0BEC5",
                "#B0BEC5",
                "#B0BEC5",
                "#B0BEC5",
                "#B0BEC5",
                "#B0BEC5",
                "#B0BEC5",
                "#B0BEC5",
                "#B0BEC5",
                "#B0BEC5",
                "#B0BEC5",
                "#B0BEC5",
                "#B0BEC5",
                "#B0BEC5",
                "#B0BEC5",
                "#B0BEC5",
                "#B0BEC5",
                "#B0BEC5",
                "#B0BEC5",
                "#B0BEC5",
                "#B0BEC5",
                "#B0BEC5",
                "#B0BEC5",
                "#B0BEC5",
                "#B0BEC5",
                "#B0BEC5",
                "#B0BEC5",
                "#B0BEC5",
                "#B0BEC5",
                "#B0BEC5",
                "#B0BEC5",
                "#B0BEC5",
                "#B0BEC5",
                "#B0BEC5",
                "#B0BEC5",
                "#B0BEC5",
                "#B0BEC5",
                "#B0BEC5",
                "#B0BEC5",
                "#B0BEC5",
                "#B0BEC5",
                "#B0BEC5",
                "#B0BEC5",
                "#B0BEC5",
                "#B0BEC5",
                "#B0BEC5",
                "#B0BEC5",
                "#B0BEC5",
                "#B0BEC5",
                "#B0BEC5"
               ]
              ]
             }
            ],
            "label": "Topic 8",
            "method": "update"
           },
           {
            "args": [
             {
              "marker.color": [
               [
                "#B0BEC5",
                "#B0BEC5",
                "#B0BEC5",
                "#B0BEC5",
                "#B0BEC5",
                "#B0BEC5",
                "#B0BEC5",
                "#B0BEC5",
                "#B0BEC5",
                "red",
                "#B0BEC5",
                "#B0BEC5",
                "#B0BEC5",
                "#B0BEC5",
                "#B0BEC5",
                "#B0BEC5",
                "#B0BEC5",
                "#B0BEC5",
                "#B0BEC5",
                "#B0BEC5",
                "#B0BEC5",
                "#B0BEC5",
                "#B0BEC5",
                "#B0BEC5",
                "#B0BEC5",
                "#B0BEC5",
                "#B0BEC5",
                "#B0BEC5",
                "#B0BEC5",
                "#B0BEC5",
                "#B0BEC5",
                "#B0BEC5",
                "#B0BEC5",
                "#B0BEC5",
                "#B0BEC5",
                "#B0BEC5",
                "#B0BEC5",
                "#B0BEC5",
                "#B0BEC5",
                "#B0BEC5",
                "#B0BEC5",
                "#B0BEC5",
                "#B0BEC5",
                "#B0BEC5",
                "#B0BEC5",
                "#B0BEC5",
                "#B0BEC5",
                "#B0BEC5",
                "#B0BEC5",
                "#B0BEC5",
                "#B0BEC5",
                "#B0BEC5",
                "#B0BEC5",
                "#B0BEC5",
                "#B0BEC5",
                "#B0BEC5",
                "#B0BEC5",
                "#B0BEC5",
                "#B0BEC5",
                "#B0BEC5",
                "#B0BEC5",
                "#B0BEC5",
                "#B0BEC5",
                "#B0BEC5"
               ]
              ]
             }
            ],
            "label": "Topic 9",
            "method": "update"
           },
           {
            "args": [
             {
              "marker.color": [
               [
                "#B0BEC5",
                "#B0BEC5",
                "#B0BEC5",
                "#B0BEC5",
                "#B0BEC5",
                "#B0BEC5",
                "#B0BEC5",
                "#B0BEC5",
                "#B0BEC5",
                "#B0BEC5",
                "red",
                "#B0BEC5",
                "#B0BEC5",
                "#B0BEC5",
                "#B0BEC5",
                "#B0BEC5",
                "#B0BEC5",
                "#B0BEC5",
                "#B0BEC5",
                "#B0BEC5",
                "#B0BEC5",
                "#B0BEC5",
                "#B0BEC5",
                "#B0BEC5",
                "#B0BEC5",
                "#B0BEC5",
                "#B0BEC5",
                "#B0BEC5",
                "#B0BEC5",
                "#B0BEC5",
                "#B0BEC5",
                "#B0BEC5",
                "#B0BEC5",
                "#B0BEC5",
                "#B0BEC5",
                "#B0BEC5",
                "#B0BEC5",
                "#B0BEC5",
                "#B0BEC5",
                "#B0BEC5",
                "#B0BEC5",
                "#B0BEC5",
                "#B0BEC5",
                "#B0BEC5",
                "#B0BEC5",
                "#B0BEC5",
                "#B0BEC5",
                "#B0BEC5",
                "#B0BEC5",
                "#B0BEC5",
                "#B0BEC5",
                "#B0BEC5",
                "#B0BEC5",
                "#B0BEC5",
                "#B0BEC5",
                "#B0BEC5",
                "#B0BEC5",
                "#B0BEC5",
                "#B0BEC5",
                "#B0BEC5",
                "#B0BEC5",
                "#B0BEC5",
                "#B0BEC5",
                "#B0BEC5"
               ]
              ]
             }
            ],
            "label": "Topic 10",
            "method": "update"
           },
           {
            "args": [
             {
              "marker.color": [
               [
                "#B0BEC5",
                "#B0BEC5",
                "#B0BEC5",
                "#B0BEC5",
                "#B0BEC5",
                "#B0BEC5",
                "#B0BEC5",
                "#B0BEC5",
                "#B0BEC5",
                "#B0BEC5",
                "#B0BEC5",
                "red",
                "#B0BEC5",
                "#B0BEC5",
                "#B0BEC5",
                "#B0BEC5",
                "#B0BEC5",
                "#B0BEC5",
                "#B0BEC5",
                "#B0BEC5",
                "#B0BEC5",
                "#B0BEC5",
                "#B0BEC5",
                "#B0BEC5",
                "#B0BEC5",
                "#B0BEC5",
                "#B0BEC5",
                "#B0BEC5",
                "#B0BEC5",
                "#B0BEC5",
                "#B0BEC5",
                "#B0BEC5",
                "#B0BEC5",
                "#B0BEC5",
                "#B0BEC5",
                "#B0BEC5",
                "#B0BEC5",
                "#B0BEC5",
                "#B0BEC5",
                "#B0BEC5",
                "#B0BEC5",
                "#B0BEC5",
                "#B0BEC5",
                "#B0BEC5",
                "#B0BEC5",
                "#B0BEC5",
                "#B0BEC5",
                "#B0BEC5",
                "#B0BEC5",
                "#B0BEC5",
                "#B0BEC5",
                "#B0BEC5",
                "#B0BEC5",
                "#B0BEC5",
                "#B0BEC5",
                "#B0BEC5",
                "#B0BEC5",
                "#B0BEC5",
                "#B0BEC5",
                "#B0BEC5",
                "#B0BEC5",
                "#B0BEC5",
                "#B0BEC5",
                "#B0BEC5"
               ]
              ]
             }
            ],
            "label": "Topic 11",
            "method": "update"
           },
           {
            "args": [
             {
              "marker.color": [
               [
                "#B0BEC5",
                "#B0BEC5",
                "#B0BEC5",
                "#B0BEC5",
                "#B0BEC5",
                "#B0BEC5",
                "#B0BEC5",
                "#B0BEC5",
                "#B0BEC5",
                "#B0BEC5",
                "#B0BEC5",
                "#B0BEC5",
                "red",
                "#B0BEC5",
                "#B0BEC5",
                "#B0BEC5",
                "#B0BEC5",
                "#B0BEC5",
                "#B0BEC5",
                "#B0BEC5",
                "#B0BEC5",
                "#B0BEC5",
                "#B0BEC5",
                "#B0BEC5",
                "#B0BEC5",
                "#B0BEC5",
                "#B0BEC5",
                "#B0BEC5",
                "#B0BEC5",
                "#B0BEC5",
                "#B0BEC5",
                "#B0BEC5",
                "#B0BEC5",
                "#B0BEC5",
                "#B0BEC5",
                "#B0BEC5",
                "#B0BEC5",
                "#B0BEC5",
                "#B0BEC5",
                "#B0BEC5",
                "#B0BEC5",
                "#B0BEC5",
                "#B0BEC5",
                "#B0BEC5",
                "#B0BEC5",
                "#B0BEC5",
                "#B0BEC5",
                "#B0BEC5",
                "#B0BEC5",
                "#B0BEC5",
                "#B0BEC5",
                "#B0BEC5",
                "#B0BEC5",
                "#B0BEC5",
                "#B0BEC5",
                "#B0BEC5",
                "#B0BEC5",
                "#B0BEC5",
                "#B0BEC5",
                "#B0BEC5",
                "#B0BEC5",
                "#B0BEC5",
                "#B0BEC5",
                "#B0BEC5"
               ]
              ]
             }
            ],
            "label": "Topic 12",
            "method": "update"
           },
           {
            "args": [
             {
              "marker.color": [
               [
                "#B0BEC5",
                "#B0BEC5",
                "#B0BEC5",
                "#B0BEC5",
                "#B0BEC5",
                "#B0BEC5",
                "#B0BEC5",
                "#B0BEC5",
                "#B0BEC5",
                "#B0BEC5",
                "#B0BEC5",
                "#B0BEC5",
                "#B0BEC5",
                "red",
                "#B0BEC5",
                "#B0BEC5",
                "#B0BEC5",
                "#B0BEC5",
                "#B0BEC5",
                "#B0BEC5",
                "#B0BEC5",
                "#B0BEC5",
                "#B0BEC5",
                "#B0BEC5",
                "#B0BEC5",
                "#B0BEC5",
                "#B0BEC5",
                "#B0BEC5",
                "#B0BEC5",
                "#B0BEC5",
                "#B0BEC5",
                "#B0BEC5",
                "#B0BEC5",
                "#B0BEC5",
                "#B0BEC5",
                "#B0BEC5",
                "#B0BEC5",
                "#B0BEC5",
                "#B0BEC5",
                "#B0BEC5",
                "#B0BEC5",
                "#B0BEC5",
                "#B0BEC5",
                "#B0BEC5",
                "#B0BEC5",
                "#B0BEC5",
                "#B0BEC5",
                "#B0BEC5",
                "#B0BEC5",
                "#B0BEC5",
                "#B0BEC5",
                "#B0BEC5",
                "#B0BEC5",
                "#B0BEC5",
                "#B0BEC5",
                "#B0BEC5",
                "#B0BEC5",
                "#B0BEC5",
                "#B0BEC5",
                "#B0BEC5",
                "#B0BEC5",
                "#B0BEC5",
                "#B0BEC5",
                "#B0BEC5"
               ]
              ]
             }
            ],
            "label": "Topic 13",
            "method": "update"
           },
           {
            "args": [
             {
              "marker.color": [
               [
                "#B0BEC5",
                "#B0BEC5",
                "#B0BEC5",
                "#B0BEC5",
                "#B0BEC5",
                "#B0BEC5",
                "#B0BEC5",
                "#B0BEC5",
                "#B0BEC5",
                "#B0BEC5",
                "#B0BEC5",
                "#B0BEC5",
                "#B0BEC5",
                "#B0BEC5",
                "red",
                "#B0BEC5",
                "#B0BEC5",
                "#B0BEC5",
                "#B0BEC5",
                "#B0BEC5",
                "#B0BEC5",
                "#B0BEC5",
                "#B0BEC5",
                "#B0BEC5",
                "#B0BEC5",
                "#B0BEC5",
                "#B0BEC5",
                "#B0BEC5",
                "#B0BEC5",
                "#B0BEC5",
                "#B0BEC5",
                "#B0BEC5",
                "#B0BEC5",
                "#B0BEC5",
                "#B0BEC5",
                "#B0BEC5",
                "#B0BEC5",
                "#B0BEC5",
                "#B0BEC5",
                "#B0BEC5",
                "#B0BEC5",
                "#B0BEC5",
                "#B0BEC5",
                "#B0BEC5",
                "#B0BEC5",
                "#B0BEC5",
                "#B0BEC5",
                "#B0BEC5",
                "#B0BEC5",
                "#B0BEC5",
                "#B0BEC5",
                "#B0BEC5",
                "#B0BEC5",
                "#B0BEC5",
                "#B0BEC5",
                "#B0BEC5",
                "#B0BEC5",
                "#B0BEC5",
                "#B0BEC5",
                "#B0BEC5",
                "#B0BEC5",
                "#B0BEC5",
                "#B0BEC5",
                "#B0BEC5"
               ]
              ]
             }
            ],
            "label": "Topic 14",
            "method": "update"
           },
           {
            "args": [
             {
              "marker.color": [
               [
                "#B0BEC5",
                "#B0BEC5",
                "#B0BEC5",
                "#B0BEC5",
                "#B0BEC5",
                "#B0BEC5",
                "#B0BEC5",
                "#B0BEC5",
                "#B0BEC5",
                "#B0BEC5",
                "#B0BEC5",
                "#B0BEC5",
                "#B0BEC5",
                "#B0BEC5",
                "#B0BEC5",
                "red",
                "#B0BEC5",
                "#B0BEC5",
                "#B0BEC5",
                "#B0BEC5",
                "#B0BEC5",
                "#B0BEC5",
                "#B0BEC5",
                "#B0BEC5",
                "#B0BEC5",
                "#B0BEC5",
                "#B0BEC5",
                "#B0BEC5",
                "#B0BEC5",
                "#B0BEC5",
                "#B0BEC5",
                "#B0BEC5",
                "#B0BEC5",
                "#B0BEC5",
                "#B0BEC5",
                "#B0BEC5",
                "#B0BEC5",
                "#B0BEC5",
                "#B0BEC5",
                "#B0BEC5",
                "#B0BEC5",
                "#B0BEC5",
                "#B0BEC5",
                "#B0BEC5",
                "#B0BEC5",
                "#B0BEC5",
                "#B0BEC5",
                "#B0BEC5",
                "#B0BEC5",
                "#B0BEC5",
                "#B0BEC5",
                "#B0BEC5",
                "#B0BEC5",
                "#B0BEC5",
                "#B0BEC5",
                "#B0BEC5",
                "#B0BEC5",
                "#B0BEC5",
                "#B0BEC5",
                "#B0BEC5",
                "#B0BEC5",
                "#B0BEC5",
                "#B0BEC5",
                "#B0BEC5"
               ]
              ]
             }
            ],
            "label": "Topic 15",
            "method": "update"
           },
           {
            "args": [
             {
              "marker.color": [
               [
                "#B0BEC5",
                "#B0BEC5",
                "#B0BEC5",
                "#B0BEC5",
                "#B0BEC5",
                "#B0BEC5",
                "#B0BEC5",
                "#B0BEC5",
                "#B0BEC5",
                "#B0BEC5",
                "#B0BEC5",
                "#B0BEC5",
                "#B0BEC5",
                "#B0BEC5",
                "#B0BEC5",
                "#B0BEC5",
                "red",
                "#B0BEC5",
                "#B0BEC5",
                "#B0BEC5",
                "#B0BEC5",
                "#B0BEC5",
                "#B0BEC5",
                "#B0BEC5",
                "#B0BEC5",
                "#B0BEC5",
                "#B0BEC5",
                "#B0BEC5",
                "#B0BEC5",
                "#B0BEC5",
                "#B0BEC5",
                "#B0BEC5",
                "#B0BEC5",
                "#B0BEC5",
                "#B0BEC5",
                "#B0BEC5",
                "#B0BEC5",
                "#B0BEC5",
                "#B0BEC5",
                "#B0BEC5",
                "#B0BEC5",
                "#B0BEC5",
                "#B0BEC5",
                "#B0BEC5",
                "#B0BEC5",
                "#B0BEC5",
                "#B0BEC5",
                "#B0BEC5",
                "#B0BEC5",
                "#B0BEC5",
                "#B0BEC5",
                "#B0BEC5",
                "#B0BEC5",
                "#B0BEC5",
                "#B0BEC5",
                "#B0BEC5",
                "#B0BEC5",
                "#B0BEC5",
                "#B0BEC5",
                "#B0BEC5",
                "#B0BEC5",
                "#B0BEC5",
                "#B0BEC5",
                "#B0BEC5"
               ]
              ]
             }
            ],
            "label": "Topic 16",
            "method": "update"
           },
           {
            "args": [
             {
              "marker.color": [
               [
                "#B0BEC5",
                "#B0BEC5",
                "#B0BEC5",
                "#B0BEC5",
                "#B0BEC5",
                "#B0BEC5",
                "#B0BEC5",
                "#B0BEC5",
                "#B0BEC5",
                "#B0BEC5",
                "#B0BEC5",
                "#B0BEC5",
                "#B0BEC5",
                "#B0BEC5",
                "#B0BEC5",
                "#B0BEC5",
                "#B0BEC5",
                "red",
                "#B0BEC5",
                "#B0BEC5",
                "#B0BEC5",
                "#B0BEC5",
                "#B0BEC5",
                "#B0BEC5",
                "#B0BEC5",
                "#B0BEC5",
                "#B0BEC5",
                "#B0BEC5",
                "#B0BEC5",
                "#B0BEC5",
                "#B0BEC5",
                "#B0BEC5",
                "#B0BEC5",
                "#B0BEC5",
                "#B0BEC5",
                "#B0BEC5",
                "#B0BEC5",
                "#B0BEC5",
                "#B0BEC5",
                "#B0BEC5",
                "#B0BEC5",
                "#B0BEC5",
                "#B0BEC5",
                "#B0BEC5",
                "#B0BEC5",
                "#B0BEC5",
                "#B0BEC5",
                "#B0BEC5",
                "#B0BEC5",
                "#B0BEC5",
                "#B0BEC5",
                "#B0BEC5",
                "#B0BEC5",
                "#B0BEC5",
                "#B0BEC5",
                "#B0BEC5",
                "#B0BEC5",
                "#B0BEC5",
                "#B0BEC5",
                "#B0BEC5",
                "#B0BEC5",
                "#B0BEC5",
                "#B0BEC5",
                "#B0BEC5"
               ]
              ]
             }
            ],
            "label": "Topic 17",
            "method": "update"
           },
           {
            "args": [
             {
              "marker.color": [
               [
                "#B0BEC5",
                "#B0BEC5",
                "#B0BEC5",
                "#B0BEC5",
                "#B0BEC5",
                "#B0BEC5",
                "#B0BEC5",
                "#B0BEC5",
                "#B0BEC5",
                "#B0BEC5",
                "#B0BEC5",
                "#B0BEC5",
                "#B0BEC5",
                "#B0BEC5",
                "#B0BEC5",
                "#B0BEC5",
                "#B0BEC5",
                "#B0BEC5",
                "red",
                "#B0BEC5",
                "#B0BEC5",
                "#B0BEC5",
                "#B0BEC5",
                "#B0BEC5",
                "#B0BEC5",
                "#B0BEC5",
                "#B0BEC5",
                "#B0BEC5",
                "#B0BEC5",
                "#B0BEC5",
                "#B0BEC5",
                "#B0BEC5",
                "#B0BEC5",
                "#B0BEC5",
                "#B0BEC5",
                "#B0BEC5",
                "#B0BEC5",
                "#B0BEC5",
                "#B0BEC5",
                "#B0BEC5",
                "#B0BEC5",
                "#B0BEC5",
                "#B0BEC5",
                "#B0BEC5",
                "#B0BEC5",
                "#B0BEC5",
                "#B0BEC5",
                "#B0BEC5",
                "#B0BEC5",
                "#B0BEC5",
                "#B0BEC5",
                "#B0BEC5",
                "#B0BEC5",
                "#B0BEC5",
                "#B0BEC5",
                "#B0BEC5",
                "#B0BEC5",
                "#B0BEC5",
                "#B0BEC5",
                "#B0BEC5",
                "#B0BEC5",
                "#B0BEC5",
                "#B0BEC5",
                "#B0BEC5"
               ]
              ]
             }
            ],
            "label": "Topic 18",
            "method": "update"
           },
           {
            "args": [
             {
              "marker.color": [
               [
                "#B0BEC5",
                "#B0BEC5",
                "#B0BEC5",
                "#B0BEC5",
                "#B0BEC5",
                "#B0BEC5",
                "#B0BEC5",
                "#B0BEC5",
                "#B0BEC5",
                "#B0BEC5",
                "#B0BEC5",
                "#B0BEC5",
                "#B0BEC5",
                "#B0BEC5",
                "#B0BEC5",
                "#B0BEC5",
                "#B0BEC5",
                "#B0BEC5",
                "#B0BEC5",
                "red",
                "#B0BEC5",
                "#B0BEC5",
                "#B0BEC5",
                "#B0BEC5",
                "#B0BEC5",
                "#B0BEC5",
                "#B0BEC5",
                "#B0BEC5",
                "#B0BEC5",
                "#B0BEC5",
                "#B0BEC5",
                "#B0BEC5",
                "#B0BEC5",
                "#B0BEC5",
                "#B0BEC5",
                "#B0BEC5",
                "#B0BEC5",
                "#B0BEC5",
                "#B0BEC5",
                "#B0BEC5",
                "#B0BEC5",
                "#B0BEC5",
                "#B0BEC5",
                "#B0BEC5",
                "#B0BEC5",
                "#B0BEC5",
                "#B0BEC5",
                "#B0BEC5",
                "#B0BEC5",
                "#B0BEC5",
                "#B0BEC5",
                "#B0BEC5",
                "#B0BEC5",
                "#B0BEC5",
                "#B0BEC5",
                "#B0BEC5",
                "#B0BEC5",
                "#B0BEC5",
                "#B0BEC5",
                "#B0BEC5",
                "#B0BEC5",
                "#B0BEC5",
                "#B0BEC5",
                "#B0BEC5"
               ]
              ]
             }
            ],
            "label": "Topic 19",
            "method": "update"
           },
           {
            "args": [
             {
              "marker.color": [
               [
                "#B0BEC5",
                "#B0BEC5",
                "#B0BEC5",
                "#B0BEC5",
                "#B0BEC5",
                "#B0BEC5",
                "#B0BEC5",
                "#B0BEC5",
                "#B0BEC5",
                "#B0BEC5",
                "#B0BEC5",
                "#B0BEC5",
                "#B0BEC5",
                "#B0BEC5",
                "#B0BEC5",
                "#B0BEC5",
                "#B0BEC5",
                "#B0BEC5",
                "#B0BEC5",
                "#B0BEC5",
                "red",
                "#B0BEC5",
                "#B0BEC5",
                "#B0BEC5",
                "#B0BEC5",
                "#B0BEC5",
                "#B0BEC5",
                "#B0BEC5",
                "#B0BEC5",
                "#B0BEC5",
                "#B0BEC5",
                "#B0BEC5",
                "#B0BEC5",
                "#B0BEC5",
                "#B0BEC5",
                "#B0BEC5",
                "#B0BEC5",
                "#B0BEC5",
                "#B0BEC5",
                "#B0BEC5",
                "#B0BEC5",
                "#B0BEC5",
                "#B0BEC5",
                "#B0BEC5",
                "#B0BEC5",
                "#B0BEC5",
                "#B0BEC5",
                "#B0BEC5",
                "#B0BEC5",
                "#B0BEC5",
                "#B0BEC5",
                "#B0BEC5",
                "#B0BEC5",
                "#B0BEC5",
                "#B0BEC5",
                "#B0BEC5",
                "#B0BEC5",
                "#B0BEC5",
                "#B0BEC5",
                "#B0BEC5",
                "#B0BEC5",
                "#B0BEC5",
                "#B0BEC5",
                "#B0BEC5"
               ]
              ]
             }
            ],
            "label": "Topic 20",
            "method": "update"
           },
           {
            "args": [
             {
              "marker.color": [
               [
                "#B0BEC5",
                "#B0BEC5",
                "#B0BEC5",
                "#B0BEC5",
                "#B0BEC5",
                "#B0BEC5",
                "#B0BEC5",
                "#B0BEC5",
                "#B0BEC5",
                "#B0BEC5",
                "#B0BEC5",
                "#B0BEC5",
                "#B0BEC5",
                "#B0BEC5",
                "#B0BEC5",
                "#B0BEC5",
                "#B0BEC5",
                "#B0BEC5",
                "#B0BEC5",
                "#B0BEC5",
                "#B0BEC5",
                "red",
                "#B0BEC5",
                "#B0BEC5",
                "#B0BEC5",
                "#B0BEC5",
                "#B0BEC5",
                "#B0BEC5",
                "#B0BEC5",
                "#B0BEC5",
                "#B0BEC5",
                "#B0BEC5",
                "#B0BEC5",
                "#B0BEC5",
                "#B0BEC5",
                "#B0BEC5",
                "#B0BEC5",
                "#B0BEC5",
                "#B0BEC5",
                "#B0BEC5",
                "#B0BEC5",
                "#B0BEC5",
                "#B0BEC5",
                "#B0BEC5",
                "#B0BEC5",
                "#B0BEC5",
                "#B0BEC5",
                "#B0BEC5",
                "#B0BEC5",
                "#B0BEC5",
                "#B0BEC5",
                "#B0BEC5",
                "#B0BEC5",
                "#B0BEC5",
                "#B0BEC5",
                "#B0BEC5",
                "#B0BEC5",
                "#B0BEC5",
                "#B0BEC5",
                "#B0BEC5",
                "#B0BEC5",
                "#B0BEC5",
                "#B0BEC5",
                "#B0BEC5"
               ]
              ]
             }
            ],
            "label": "Topic 21",
            "method": "update"
           },
           {
            "args": [
             {
              "marker.color": [
               [
                "#B0BEC5",
                "#B0BEC5",
                "#B0BEC5",
                "#B0BEC5",
                "#B0BEC5",
                "#B0BEC5",
                "#B0BEC5",
                "#B0BEC5",
                "#B0BEC5",
                "#B0BEC5",
                "#B0BEC5",
                "#B0BEC5",
                "#B0BEC5",
                "#B0BEC5",
                "#B0BEC5",
                "#B0BEC5",
                "#B0BEC5",
                "#B0BEC5",
                "#B0BEC5",
                "#B0BEC5",
                "#B0BEC5",
                "#B0BEC5",
                "red",
                "#B0BEC5",
                "#B0BEC5",
                "#B0BEC5",
                "#B0BEC5",
                "#B0BEC5",
                "#B0BEC5",
                "#B0BEC5",
                "#B0BEC5",
                "#B0BEC5",
                "#B0BEC5",
                "#B0BEC5",
                "#B0BEC5",
                "#B0BEC5",
                "#B0BEC5",
                "#B0BEC5",
                "#B0BEC5",
                "#B0BEC5",
                "#B0BEC5",
                "#B0BEC5",
                "#B0BEC5",
                "#B0BEC5",
                "#B0BEC5",
                "#B0BEC5",
                "#B0BEC5",
                "#B0BEC5",
                "#B0BEC5",
                "#B0BEC5",
                "#B0BEC5",
                "#B0BEC5",
                "#B0BEC5",
                "#B0BEC5",
                "#B0BEC5",
                "#B0BEC5",
                "#B0BEC5",
                "#B0BEC5",
                "#B0BEC5",
                "#B0BEC5",
                "#B0BEC5",
                "#B0BEC5",
                "#B0BEC5",
                "#B0BEC5"
               ]
              ]
             }
            ],
            "label": "Topic 22",
            "method": "update"
           },
           {
            "args": [
             {
              "marker.color": [
               [
                "#B0BEC5",
                "#B0BEC5",
                "#B0BEC5",
                "#B0BEC5",
                "#B0BEC5",
                "#B0BEC5",
                "#B0BEC5",
                "#B0BEC5",
                "#B0BEC5",
                "#B0BEC5",
                "#B0BEC5",
                "#B0BEC5",
                "#B0BEC5",
                "#B0BEC5",
                "#B0BEC5",
                "#B0BEC5",
                "#B0BEC5",
                "#B0BEC5",
                "#B0BEC5",
                "#B0BEC5",
                "#B0BEC5",
                "#B0BEC5",
                "#B0BEC5",
                "red",
                "#B0BEC5",
                "#B0BEC5",
                "#B0BEC5",
                "#B0BEC5",
                "#B0BEC5",
                "#B0BEC5",
                "#B0BEC5",
                "#B0BEC5",
                "#B0BEC5",
                "#B0BEC5",
                "#B0BEC5",
                "#B0BEC5",
                "#B0BEC5",
                "#B0BEC5",
                "#B0BEC5",
                "#B0BEC5",
                "#B0BEC5",
                "#B0BEC5",
                "#B0BEC5",
                "#B0BEC5",
                "#B0BEC5",
                "#B0BEC5",
                "#B0BEC5",
                "#B0BEC5",
                "#B0BEC5",
                "#B0BEC5",
                "#B0BEC5",
                "#B0BEC5",
                "#B0BEC5",
                "#B0BEC5",
                "#B0BEC5",
                "#B0BEC5",
                "#B0BEC5",
                "#B0BEC5",
                "#B0BEC5",
                "#B0BEC5",
                "#B0BEC5",
                "#B0BEC5",
                "#B0BEC5",
                "#B0BEC5"
               ]
              ]
             }
            ],
            "label": "Topic 23",
            "method": "update"
           },
           {
            "args": [
             {
              "marker.color": [
               [
                "#B0BEC5",
                "#B0BEC5",
                "#B0BEC5",
                "#B0BEC5",
                "#B0BEC5",
                "#B0BEC5",
                "#B0BEC5",
                "#B0BEC5",
                "#B0BEC5",
                "#B0BEC5",
                "#B0BEC5",
                "#B0BEC5",
                "#B0BEC5",
                "#B0BEC5",
                "#B0BEC5",
                "#B0BEC5",
                "#B0BEC5",
                "#B0BEC5",
                "#B0BEC5",
                "#B0BEC5",
                "#B0BEC5",
                "#B0BEC5",
                "#B0BEC5",
                "#B0BEC5",
                "red",
                "#B0BEC5",
                "#B0BEC5",
                "#B0BEC5",
                "#B0BEC5",
                "#B0BEC5",
                "#B0BEC5",
                "#B0BEC5",
                "#B0BEC5",
                "#B0BEC5",
                "#B0BEC5",
                "#B0BEC5",
                "#B0BEC5",
                "#B0BEC5",
                "#B0BEC5",
                "#B0BEC5",
                "#B0BEC5",
                "#B0BEC5",
                "#B0BEC5",
                "#B0BEC5",
                "#B0BEC5",
                "#B0BEC5",
                "#B0BEC5",
                "#B0BEC5",
                "#B0BEC5",
                "#B0BEC5",
                "#B0BEC5",
                "#B0BEC5",
                "#B0BEC5",
                "#B0BEC5",
                "#B0BEC5",
                "#B0BEC5",
                "#B0BEC5",
                "#B0BEC5",
                "#B0BEC5",
                "#B0BEC5",
                "#B0BEC5",
                "#B0BEC5",
                "#B0BEC5",
                "#B0BEC5"
               ]
              ]
             }
            ],
            "label": "Topic 24",
            "method": "update"
           },
           {
            "args": [
             {
              "marker.color": [
               [
                "#B0BEC5",
                "#B0BEC5",
                "#B0BEC5",
                "#B0BEC5",
                "#B0BEC5",
                "#B0BEC5",
                "#B0BEC5",
                "#B0BEC5",
                "#B0BEC5",
                "#B0BEC5",
                "#B0BEC5",
                "#B0BEC5",
                "#B0BEC5",
                "#B0BEC5",
                "#B0BEC5",
                "#B0BEC5",
                "#B0BEC5",
                "#B0BEC5",
                "#B0BEC5",
                "#B0BEC5",
                "#B0BEC5",
                "#B0BEC5",
                "#B0BEC5",
                "#B0BEC5",
                "#B0BEC5",
                "red",
                "#B0BEC5",
                "#B0BEC5",
                "#B0BEC5",
                "#B0BEC5",
                "#B0BEC5",
                "#B0BEC5",
                "#B0BEC5",
                "#B0BEC5",
                "#B0BEC5",
                "#B0BEC5",
                "#B0BEC5",
                "#B0BEC5",
                "#B0BEC5",
                "#B0BEC5",
                "#B0BEC5",
                "#B0BEC5",
                "#B0BEC5",
                "#B0BEC5",
                "#B0BEC5",
                "#B0BEC5",
                "#B0BEC5",
                "#B0BEC5",
                "#B0BEC5",
                "#B0BEC5",
                "#B0BEC5",
                "#B0BEC5",
                "#B0BEC5",
                "#B0BEC5",
                "#B0BEC5",
                "#B0BEC5",
                "#B0BEC5",
                "#B0BEC5",
                "#B0BEC5",
                "#B0BEC5",
                "#B0BEC5",
                "#B0BEC5",
                "#B0BEC5",
                "#B0BEC5"
               ]
              ]
             }
            ],
            "label": "Topic 25",
            "method": "update"
           },
           {
            "args": [
             {
              "marker.color": [
               [
                "#B0BEC5",
                "#B0BEC5",
                "#B0BEC5",
                "#B0BEC5",
                "#B0BEC5",
                "#B0BEC5",
                "#B0BEC5",
                "#B0BEC5",
                "#B0BEC5",
                "#B0BEC5",
                "#B0BEC5",
                "#B0BEC5",
                "#B0BEC5",
                "#B0BEC5",
                "#B0BEC5",
                "#B0BEC5",
                "#B0BEC5",
                "#B0BEC5",
                "#B0BEC5",
                "#B0BEC5",
                "#B0BEC5",
                "#B0BEC5",
                "#B0BEC5",
                "#B0BEC5",
                "#B0BEC5",
                "#B0BEC5",
                "red",
                "#B0BEC5",
                "#B0BEC5",
                "#B0BEC5",
                "#B0BEC5",
                "#B0BEC5",
                "#B0BEC5",
                "#B0BEC5",
                "#B0BEC5",
                "#B0BEC5",
                "#B0BEC5",
                "#B0BEC5",
                "#B0BEC5",
                "#B0BEC5",
                "#B0BEC5",
                "#B0BEC5",
                "#B0BEC5",
                "#B0BEC5",
                "#B0BEC5",
                "#B0BEC5",
                "#B0BEC5",
                "#B0BEC5",
                "#B0BEC5",
                "#B0BEC5",
                "#B0BEC5",
                "#B0BEC5",
                "#B0BEC5",
                "#B0BEC5",
                "#B0BEC5",
                "#B0BEC5",
                "#B0BEC5",
                "#B0BEC5",
                "#B0BEC5",
                "#B0BEC5",
                "#B0BEC5",
                "#B0BEC5",
                "#B0BEC5",
                "#B0BEC5"
               ]
              ]
             }
            ],
            "label": "Topic 26",
            "method": "update"
           },
           {
            "args": [
             {
              "marker.color": [
               [
                "#B0BEC5",
                "#B0BEC5",
                "#B0BEC5",
                "#B0BEC5",
                "#B0BEC5",
                "#B0BEC5",
                "#B0BEC5",
                "#B0BEC5",
                "#B0BEC5",
                "#B0BEC5",
                "#B0BEC5",
                "#B0BEC5",
                "#B0BEC5",
                "#B0BEC5",
                "#B0BEC5",
                "#B0BEC5",
                "#B0BEC5",
                "#B0BEC5",
                "#B0BEC5",
                "#B0BEC5",
                "#B0BEC5",
                "#B0BEC5",
                "#B0BEC5",
                "#B0BEC5",
                "#B0BEC5",
                "#B0BEC5",
                "#B0BEC5",
                "red",
                "#B0BEC5",
                "#B0BEC5",
                "#B0BEC5",
                "#B0BEC5",
                "#B0BEC5",
                "#B0BEC5",
                "#B0BEC5",
                "#B0BEC5",
                "#B0BEC5",
                "#B0BEC5",
                "#B0BEC5",
                "#B0BEC5",
                "#B0BEC5",
                "#B0BEC5",
                "#B0BEC5",
                "#B0BEC5",
                "#B0BEC5",
                "#B0BEC5",
                "#B0BEC5",
                "#B0BEC5",
                "#B0BEC5",
                "#B0BEC5",
                "#B0BEC5",
                "#B0BEC5",
                "#B0BEC5",
                "#B0BEC5",
                "#B0BEC5",
                "#B0BEC5",
                "#B0BEC5",
                "#B0BEC5",
                "#B0BEC5",
                "#B0BEC5",
                "#B0BEC5",
                "#B0BEC5",
                "#B0BEC5",
                "#B0BEC5"
               ]
              ]
             }
            ],
            "label": "Topic 27",
            "method": "update"
           },
           {
            "args": [
             {
              "marker.color": [
               [
                "#B0BEC5",
                "#B0BEC5",
                "#B0BEC5",
                "#B0BEC5",
                "#B0BEC5",
                "#B0BEC5",
                "#B0BEC5",
                "#B0BEC5",
                "#B0BEC5",
                "#B0BEC5",
                "#B0BEC5",
                "#B0BEC5",
                "#B0BEC5",
                "#B0BEC5",
                "#B0BEC5",
                "#B0BEC5",
                "#B0BEC5",
                "#B0BEC5",
                "#B0BEC5",
                "#B0BEC5",
                "#B0BEC5",
                "#B0BEC5",
                "#B0BEC5",
                "#B0BEC5",
                "#B0BEC5",
                "#B0BEC5",
                "#B0BEC5",
                "#B0BEC5",
                "red",
                "#B0BEC5",
                "#B0BEC5",
                "#B0BEC5",
                "#B0BEC5",
                "#B0BEC5",
                "#B0BEC5",
                "#B0BEC5",
                "#B0BEC5",
                "#B0BEC5",
                "#B0BEC5",
                "#B0BEC5",
                "#B0BEC5",
                "#B0BEC5",
                "#B0BEC5",
                "#B0BEC5",
                "#B0BEC5",
                "#B0BEC5",
                "#B0BEC5",
                "#B0BEC5",
                "#B0BEC5",
                "#B0BEC5",
                "#B0BEC5",
                "#B0BEC5",
                "#B0BEC5",
                "#B0BEC5",
                "#B0BEC5",
                "#B0BEC5",
                "#B0BEC5",
                "#B0BEC5",
                "#B0BEC5",
                "#B0BEC5",
                "#B0BEC5",
                "#B0BEC5",
                "#B0BEC5",
                "#B0BEC5"
               ]
              ]
             }
            ],
            "label": "Topic 28",
            "method": "update"
           },
           {
            "args": [
             {
              "marker.color": [
               [
                "#B0BEC5",
                "#B0BEC5",
                "#B0BEC5",
                "#B0BEC5",
                "#B0BEC5",
                "#B0BEC5",
                "#B0BEC5",
                "#B0BEC5",
                "#B0BEC5",
                "#B0BEC5",
                "#B0BEC5",
                "#B0BEC5",
                "#B0BEC5",
                "#B0BEC5",
                "#B0BEC5",
                "#B0BEC5",
                "#B0BEC5",
                "#B0BEC5",
                "#B0BEC5",
                "#B0BEC5",
                "#B0BEC5",
                "#B0BEC5",
                "#B0BEC5",
                "#B0BEC5",
                "#B0BEC5",
                "#B0BEC5",
                "#B0BEC5",
                "#B0BEC5",
                "#B0BEC5",
                "red",
                "#B0BEC5",
                "#B0BEC5",
                "#B0BEC5",
                "#B0BEC5",
                "#B0BEC5",
                "#B0BEC5",
                "#B0BEC5",
                "#B0BEC5",
                "#B0BEC5",
                "#B0BEC5",
                "#B0BEC5",
                "#B0BEC5",
                "#B0BEC5",
                "#B0BEC5",
                "#B0BEC5",
                "#B0BEC5",
                "#B0BEC5",
                "#B0BEC5",
                "#B0BEC5",
                "#B0BEC5",
                "#B0BEC5",
                "#B0BEC5",
                "#B0BEC5",
                "#B0BEC5",
                "#B0BEC5",
                "#B0BEC5",
                "#B0BEC5",
                "#B0BEC5",
                "#B0BEC5",
                "#B0BEC5",
                "#B0BEC5",
                "#B0BEC5",
                "#B0BEC5",
                "#B0BEC5"
               ]
              ]
             }
            ],
            "label": "Topic 29",
            "method": "update"
           },
           {
            "args": [
             {
              "marker.color": [
               [
                "#B0BEC5",
                "#B0BEC5",
                "#B0BEC5",
                "#B0BEC5",
                "#B0BEC5",
                "#B0BEC5",
                "#B0BEC5",
                "#B0BEC5",
                "#B0BEC5",
                "#B0BEC5",
                "#B0BEC5",
                "#B0BEC5",
                "#B0BEC5",
                "#B0BEC5",
                "#B0BEC5",
                "#B0BEC5",
                "#B0BEC5",
                "#B0BEC5",
                "#B0BEC5",
                "#B0BEC5",
                "#B0BEC5",
                "#B0BEC5",
                "#B0BEC5",
                "#B0BEC5",
                "#B0BEC5",
                "#B0BEC5",
                "#B0BEC5",
                "#B0BEC5",
                "#B0BEC5",
                "#B0BEC5",
                "red",
                "#B0BEC5",
                "#B0BEC5",
                "#B0BEC5",
                "#B0BEC5",
                "#B0BEC5",
                "#B0BEC5",
                "#B0BEC5",
                "#B0BEC5",
                "#B0BEC5",
                "#B0BEC5",
                "#B0BEC5",
                "#B0BEC5",
                "#B0BEC5",
                "#B0BEC5",
                "#B0BEC5",
                "#B0BEC5",
                "#B0BEC5",
                "#B0BEC5",
                "#B0BEC5",
                "#B0BEC5",
                "#B0BEC5",
                "#B0BEC5",
                "#B0BEC5",
                "#B0BEC5",
                "#B0BEC5",
                "#B0BEC5",
                "#B0BEC5",
                "#B0BEC5",
                "#B0BEC5",
                "#B0BEC5",
                "#B0BEC5",
                "#B0BEC5",
                "#B0BEC5"
               ]
              ]
             }
            ],
            "label": "Topic 30",
            "method": "update"
           },
           {
            "args": [
             {
              "marker.color": [
               [
                "#B0BEC5",
                "#B0BEC5",
                "#B0BEC5",
                "#B0BEC5",
                "#B0BEC5",
                "#B0BEC5",
                "#B0BEC5",
                "#B0BEC5",
                "#B0BEC5",
                "#B0BEC5",
                "#B0BEC5",
                "#B0BEC5",
                "#B0BEC5",
                "#B0BEC5",
                "#B0BEC5",
                "#B0BEC5",
                "#B0BEC5",
                "#B0BEC5",
                "#B0BEC5",
                "#B0BEC5",
                "#B0BEC5",
                "#B0BEC5",
                "#B0BEC5",
                "#B0BEC5",
                "#B0BEC5",
                "#B0BEC5",
                "#B0BEC5",
                "#B0BEC5",
                "#B0BEC5",
                "#B0BEC5",
                "#B0BEC5",
                "red",
                "#B0BEC5",
                "#B0BEC5",
                "#B0BEC5",
                "#B0BEC5",
                "#B0BEC5",
                "#B0BEC5",
                "#B0BEC5",
                "#B0BEC5",
                "#B0BEC5",
                "#B0BEC5",
                "#B0BEC5",
                "#B0BEC5",
                "#B0BEC5",
                "#B0BEC5",
                "#B0BEC5",
                "#B0BEC5",
                "#B0BEC5",
                "#B0BEC5",
                "#B0BEC5",
                "#B0BEC5",
                "#B0BEC5",
                "#B0BEC5",
                "#B0BEC5",
                "#B0BEC5",
                "#B0BEC5",
                "#B0BEC5",
                "#B0BEC5",
                "#B0BEC5",
                "#B0BEC5",
                "#B0BEC5",
                "#B0BEC5",
                "#B0BEC5"
               ]
              ]
             }
            ],
            "label": "Topic 31",
            "method": "update"
           },
           {
            "args": [
             {
              "marker.color": [
               [
                "#B0BEC5",
                "#B0BEC5",
                "#B0BEC5",
                "#B0BEC5",
                "#B0BEC5",
                "#B0BEC5",
                "#B0BEC5",
                "#B0BEC5",
                "#B0BEC5",
                "#B0BEC5",
                "#B0BEC5",
                "#B0BEC5",
                "#B0BEC5",
                "#B0BEC5",
                "#B0BEC5",
                "#B0BEC5",
                "#B0BEC5",
                "#B0BEC5",
                "#B0BEC5",
                "#B0BEC5",
                "#B0BEC5",
                "#B0BEC5",
                "#B0BEC5",
                "#B0BEC5",
                "#B0BEC5",
                "#B0BEC5",
                "#B0BEC5",
                "#B0BEC5",
                "#B0BEC5",
                "#B0BEC5",
                "#B0BEC5",
                "#B0BEC5",
                "red",
                "#B0BEC5",
                "#B0BEC5",
                "#B0BEC5",
                "#B0BEC5",
                "#B0BEC5",
                "#B0BEC5",
                "#B0BEC5",
                "#B0BEC5",
                "#B0BEC5",
                "#B0BEC5",
                "#B0BEC5",
                "#B0BEC5",
                "#B0BEC5",
                "#B0BEC5",
                "#B0BEC5",
                "#B0BEC5",
                "#B0BEC5",
                "#B0BEC5",
                "#B0BEC5",
                "#B0BEC5",
                "#B0BEC5",
                "#B0BEC5",
                "#B0BEC5",
                "#B0BEC5",
                "#B0BEC5",
                "#B0BEC5",
                "#B0BEC5",
                "#B0BEC5",
                "#B0BEC5",
                "#B0BEC5",
                "#B0BEC5"
               ]
              ]
             }
            ],
            "label": "Topic 32",
            "method": "update"
           },
           {
            "args": [
             {
              "marker.color": [
               [
                "#B0BEC5",
                "#B0BEC5",
                "#B0BEC5",
                "#B0BEC5",
                "#B0BEC5",
                "#B0BEC5",
                "#B0BEC5",
                "#B0BEC5",
                "#B0BEC5",
                "#B0BEC5",
                "#B0BEC5",
                "#B0BEC5",
                "#B0BEC5",
                "#B0BEC5",
                "#B0BEC5",
                "#B0BEC5",
                "#B0BEC5",
                "#B0BEC5",
                "#B0BEC5",
                "#B0BEC5",
                "#B0BEC5",
                "#B0BEC5",
                "#B0BEC5",
                "#B0BEC5",
                "#B0BEC5",
                "#B0BEC5",
                "#B0BEC5",
                "#B0BEC5",
                "#B0BEC5",
                "#B0BEC5",
                "#B0BEC5",
                "#B0BEC5",
                "#B0BEC5",
                "red",
                "#B0BEC5",
                "#B0BEC5",
                "#B0BEC5",
                "#B0BEC5",
                "#B0BEC5",
                "#B0BEC5",
                "#B0BEC5",
                "#B0BEC5",
                "#B0BEC5",
                "#B0BEC5",
                "#B0BEC5",
                "#B0BEC5",
                "#B0BEC5",
                "#B0BEC5",
                "#B0BEC5",
                "#B0BEC5",
                "#B0BEC5",
                "#B0BEC5",
                "#B0BEC5",
                "#B0BEC5",
                "#B0BEC5",
                "#B0BEC5",
                "#B0BEC5",
                "#B0BEC5",
                "#B0BEC5",
                "#B0BEC5",
                "#B0BEC5",
                "#B0BEC5",
                "#B0BEC5",
                "#B0BEC5"
               ]
              ]
             }
            ],
            "label": "Topic 33",
            "method": "update"
           },
           {
            "args": [
             {
              "marker.color": [
               [
                "#B0BEC5",
                "#B0BEC5",
                "#B0BEC5",
                "#B0BEC5",
                "#B0BEC5",
                "#B0BEC5",
                "#B0BEC5",
                "#B0BEC5",
                "#B0BEC5",
                "#B0BEC5",
                "#B0BEC5",
                "#B0BEC5",
                "#B0BEC5",
                "#B0BEC5",
                "#B0BEC5",
                "#B0BEC5",
                "#B0BEC5",
                "#B0BEC5",
                "#B0BEC5",
                "#B0BEC5",
                "#B0BEC5",
                "#B0BEC5",
                "#B0BEC5",
                "#B0BEC5",
                "#B0BEC5",
                "#B0BEC5",
                "#B0BEC5",
                "#B0BEC5",
                "#B0BEC5",
                "#B0BEC5",
                "#B0BEC5",
                "#B0BEC5",
                "#B0BEC5",
                "#B0BEC5",
                "red",
                "#B0BEC5",
                "#B0BEC5",
                "#B0BEC5",
                "#B0BEC5",
                "#B0BEC5",
                "#B0BEC5",
                "#B0BEC5",
                "#B0BEC5",
                "#B0BEC5",
                "#B0BEC5",
                "#B0BEC5",
                "#B0BEC5",
                "#B0BEC5",
                "#B0BEC5",
                "#B0BEC5",
                "#B0BEC5",
                "#B0BEC5",
                "#B0BEC5",
                "#B0BEC5",
                "#B0BEC5",
                "#B0BEC5",
                "#B0BEC5",
                "#B0BEC5",
                "#B0BEC5",
                "#B0BEC5",
                "#B0BEC5",
                "#B0BEC5",
                "#B0BEC5",
                "#B0BEC5"
               ]
              ]
             }
            ],
            "label": "Topic 34",
            "method": "update"
           },
           {
            "args": [
             {
              "marker.color": [
               [
                "#B0BEC5",
                "#B0BEC5",
                "#B0BEC5",
                "#B0BEC5",
                "#B0BEC5",
                "#B0BEC5",
                "#B0BEC5",
                "#B0BEC5",
                "#B0BEC5",
                "#B0BEC5",
                "#B0BEC5",
                "#B0BEC5",
                "#B0BEC5",
                "#B0BEC5",
                "#B0BEC5",
                "#B0BEC5",
                "#B0BEC5",
                "#B0BEC5",
                "#B0BEC5",
                "#B0BEC5",
                "#B0BEC5",
                "#B0BEC5",
                "#B0BEC5",
                "#B0BEC5",
                "#B0BEC5",
                "#B0BEC5",
                "#B0BEC5",
                "#B0BEC5",
                "#B0BEC5",
                "#B0BEC5",
                "#B0BEC5",
                "#B0BEC5",
                "#B0BEC5",
                "#B0BEC5",
                "#B0BEC5",
                "red",
                "#B0BEC5",
                "#B0BEC5",
                "#B0BEC5",
                "#B0BEC5",
                "#B0BEC5",
                "#B0BEC5",
                "#B0BEC5",
                "#B0BEC5",
                "#B0BEC5",
                "#B0BEC5",
                "#B0BEC5",
                "#B0BEC5",
                "#B0BEC5",
                "#B0BEC5",
                "#B0BEC5",
                "#B0BEC5",
                "#B0BEC5",
                "#B0BEC5",
                "#B0BEC5",
                "#B0BEC5",
                "#B0BEC5",
                "#B0BEC5",
                "#B0BEC5",
                "#B0BEC5",
                "#B0BEC5",
                "#B0BEC5",
                "#B0BEC5",
                "#B0BEC5"
               ]
              ]
             }
            ],
            "label": "Topic 35",
            "method": "update"
           },
           {
            "args": [
             {
              "marker.color": [
               [
                "#B0BEC5",
                "#B0BEC5",
                "#B0BEC5",
                "#B0BEC5",
                "#B0BEC5",
                "#B0BEC5",
                "#B0BEC5",
                "#B0BEC5",
                "#B0BEC5",
                "#B0BEC5",
                "#B0BEC5",
                "#B0BEC5",
                "#B0BEC5",
                "#B0BEC5",
                "#B0BEC5",
                "#B0BEC5",
                "#B0BEC5",
                "#B0BEC5",
                "#B0BEC5",
                "#B0BEC5",
                "#B0BEC5",
                "#B0BEC5",
                "#B0BEC5",
                "#B0BEC5",
                "#B0BEC5",
                "#B0BEC5",
                "#B0BEC5",
                "#B0BEC5",
                "#B0BEC5",
                "#B0BEC5",
                "#B0BEC5",
                "#B0BEC5",
                "#B0BEC5",
                "#B0BEC5",
                "#B0BEC5",
                "#B0BEC5",
                "red",
                "#B0BEC5",
                "#B0BEC5",
                "#B0BEC5",
                "#B0BEC5",
                "#B0BEC5",
                "#B0BEC5",
                "#B0BEC5",
                "#B0BEC5",
                "#B0BEC5",
                "#B0BEC5",
                "#B0BEC5",
                "#B0BEC5",
                "#B0BEC5",
                "#B0BEC5",
                "#B0BEC5",
                "#B0BEC5",
                "#B0BEC5",
                "#B0BEC5",
                "#B0BEC5",
                "#B0BEC5",
                "#B0BEC5",
                "#B0BEC5",
                "#B0BEC5",
                "#B0BEC5",
                "#B0BEC5",
                "#B0BEC5",
                "#B0BEC5"
               ]
              ]
             }
            ],
            "label": "Topic 36",
            "method": "update"
           },
           {
            "args": [
             {
              "marker.color": [
               [
                "#B0BEC5",
                "#B0BEC5",
                "#B0BEC5",
                "#B0BEC5",
                "#B0BEC5",
                "#B0BEC5",
                "#B0BEC5",
                "#B0BEC5",
                "#B0BEC5",
                "#B0BEC5",
                "#B0BEC5",
                "#B0BEC5",
                "#B0BEC5",
                "#B0BEC5",
                "#B0BEC5",
                "#B0BEC5",
                "#B0BEC5",
                "#B0BEC5",
                "#B0BEC5",
                "#B0BEC5",
                "#B0BEC5",
                "#B0BEC5",
                "#B0BEC5",
                "#B0BEC5",
                "#B0BEC5",
                "#B0BEC5",
                "#B0BEC5",
                "#B0BEC5",
                "#B0BEC5",
                "#B0BEC5",
                "#B0BEC5",
                "#B0BEC5",
                "#B0BEC5",
                "#B0BEC5",
                "#B0BEC5",
                "#B0BEC5",
                "#B0BEC5",
                "red",
                "#B0BEC5",
                "#B0BEC5",
                "#B0BEC5",
                "#B0BEC5",
                "#B0BEC5",
                "#B0BEC5",
                "#B0BEC5",
                "#B0BEC5",
                "#B0BEC5",
                "#B0BEC5",
                "#B0BEC5",
                "#B0BEC5",
                "#B0BEC5",
                "#B0BEC5",
                "#B0BEC5",
                "#B0BEC5",
                "#B0BEC5",
                "#B0BEC5",
                "#B0BEC5",
                "#B0BEC5",
                "#B0BEC5",
                "#B0BEC5",
                "#B0BEC5",
                "#B0BEC5",
                "#B0BEC5",
                "#B0BEC5"
               ]
              ]
             }
            ],
            "label": "Topic 37",
            "method": "update"
           },
           {
            "args": [
             {
              "marker.color": [
               [
                "#B0BEC5",
                "#B0BEC5",
                "#B0BEC5",
                "#B0BEC5",
                "#B0BEC5",
                "#B0BEC5",
                "#B0BEC5",
                "#B0BEC5",
                "#B0BEC5",
                "#B0BEC5",
                "#B0BEC5",
                "#B0BEC5",
                "#B0BEC5",
                "#B0BEC5",
                "#B0BEC5",
                "#B0BEC5",
                "#B0BEC5",
                "#B0BEC5",
                "#B0BEC5",
                "#B0BEC5",
                "#B0BEC5",
                "#B0BEC5",
                "#B0BEC5",
                "#B0BEC5",
                "#B0BEC5",
                "#B0BEC5",
                "#B0BEC5",
                "#B0BEC5",
                "#B0BEC5",
                "#B0BEC5",
                "#B0BEC5",
                "#B0BEC5",
                "#B0BEC5",
                "#B0BEC5",
                "#B0BEC5",
                "#B0BEC5",
                "#B0BEC5",
                "#B0BEC5",
                "red",
                "#B0BEC5",
                "#B0BEC5",
                "#B0BEC5",
                "#B0BEC5",
                "#B0BEC5",
                "#B0BEC5",
                "#B0BEC5",
                "#B0BEC5",
                "#B0BEC5",
                "#B0BEC5",
                "#B0BEC5",
                "#B0BEC5",
                "#B0BEC5",
                "#B0BEC5",
                "#B0BEC5",
                "#B0BEC5",
                "#B0BEC5",
                "#B0BEC5",
                "#B0BEC5",
                "#B0BEC5",
                "#B0BEC5",
                "#B0BEC5",
                "#B0BEC5",
                "#B0BEC5",
                "#B0BEC5"
               ]
              ]
             }
            ],
            "label": "Topic 38",
            "method": "update"
           },
           {
            "args": [
             {
              "marker.color": [
               [
                "#B0BEC5",
                "#B0BEC5",
                "#B0BEC5",
                "#B0BEC5",
                "#B0BEC5",
                "#B0BEC5",
                "#B0BEC5",
                "#B0BEC5",
                "#B0BEC5",
                "#B0BEC5",
                "#B0BEC5",
                "#B0BEC5",
                "#B0BEC5",
                "#B0BEC5",
                "#B0BEC5",
                "#B0BEC5",
                "#B0BEC5",
                "#B0BEC5",
                "#B0BEC5",
                "#B0BEC5",
                "#B0BEC5",
                "#B0BEC5",
                "#B0BEC5",
                "#B0BEC5",
                "#B0BEC5",
                "#B0BEC5",
                "#B0BEC5",
                "#B0BEC5",
                "#B0BEC5",
                "#B0BEC5",
                "#B0BEC5",
                "#B0BEC5",
                "#B0BEC5",
                "#B0BEC5",
                "#B0BEC5",
                "#B0BEC5",
                "#B0BEC5",
                "#B0BEC5",
                "#B0BEC5",
                "red",
                "#B0BEC5",
                "#B0BEC5",
                "#B0BEC5",
                "#B0BEC5",
                "#B0BEC5",
                "#B0BEC5",
                "#B0BEC5",
                "#B0BEC5",
                "#B0BEC5",
                "#B0BEC5",
                "#B0BEC5",
                "#B0BEC5",
                "#B0BEC5",
                "#B0BEC5",
                "#B0BEC5",
                "#B0BEC5",
                "#B0BEC5",
                "#B0BEC5",
                "#B0BEC5",
                "#B0BEC5",
                "#B0BEC5",
                "#B0BEC5",
                "#B0BEC5",
                "#B0BEC5"
               ]
              ]
             }
            ],
            "label": "Topic 39",
            "method": "update"
           },
           {
            "args": [
             {
              "marker.color": [
               [
                "#B0BEC5",
                "#B0BEC5",
                "#B0BEC5",
                "#B0BEC5",
                "#B0BEC5",
                "#B0BEC5",
                "#B0BEC5",
                "#B0BEC5",
                "#B0BEC5",
                "#B0BEC5",
                "#B0BEC5",
                "#B0BEC5",
                "#B0BEC5",
                "#B0BEC5",
                "#B0BEC5",
                "#B0BEC5",
                "#B0BEC5",
                "#B0BEC5",
                "#B0BEC5",
                "#B0BEC5",
                "#B0BEC5",
                "#B0BEC5",
                "#B0BEC5",
                "#B0BEC5",
                "#B0BEC5",
                "#B0BEC5",
                "#B0BEC5",
                "#B0BEC5",
                "#B0BEC5",
                "#B0BEC5",
                "#B0BEC5",
                "#B0BEC5",
                "#B0BEC5",
                "#B0BEC5",
                "#B0BEC5",
                "#B0BEC5",
                "#B0BEC5",
                "#B0BEC5",
                "#B0BEC5",
                "#B0BEC5",
                "red",
                "#B0BEC5",
                "#B0BEC5",
                "#B0BEC5",
                "#B0BEC5",
                "#B0BEC5",
                "#B0BEC5",
                "#B0BEC5",
                "#B0BEC5",
                "#B0BEC5",
                "#B0BEC5",
                "#B0BEC5",
                "#B0BEC5",
                "#B0BEC5",
                "#B0BEC5",
                "#B0BEC5",
                "#B0BEC5",
                "#B0BEC5",
                "#B0BEC5",
                "#B0BEC5",
                "#B0BEC5",
                "#B0BEC5",
                "#B0BEC5",
                "#B0BEC5"
               ]
              ]
             }
            ],
            "label": "Topic 40",
            "method": "update"
           },
           {
            "args": [
             {
              "marker.color": [
               [
                "#B0BEC5",
                "#B0BEC5",
                "#B0BEC5",
                "#B0BEC5",
                "#B0BEC5",
                "#B0BEC5",
                "#B0BEC5",
                "#B0BEC5",
                "#B0BEC5",
                "#B0BEC5",
                "#B0BEC5",
                "#B0BEC5",
                "#B0BEC5",
                "#B0BEC5",
                "#B0BEC5",
                "#B0BEC5",
                "#B0BEC5",
                "#B0BEC5",
                "#B0BEC5",
                "#B0BEC5",
                "#B0BEC5",
                "#B0BEC5",
                "#B0BEC5",
                "#B0BEC5",
                "#B0BEC5",
                "#B0BEC5",
                "#B0BEC5",
                "#B0BEC5",
                "#B0BEC5",
                "#B0BEC5",
                "#B0BEC5",
                "#B0BEC5",
                "#B0BEC5",
                "#B0BEC5",
                "#B0BEC5",
                "#B0BEC5",
                "#B0BEC5",
                "#B0BEC5",
                "#B0BEC5",
                "#B0BEC5",
                "#B0BEC5",
                "red",
                "#B0BEC5",
                "#B0BEC5",
                "#B0BEC5",
                "#B0BEC5",
                "#B0BEC5",
                "#B0BEC5",
                "#B0BEC5",
                "#B0BEC5",
                "#B0BEC5",
                "#B0BEC5",
                "#B0BEC5",
                "#B0BEC5",
                "#B0BEC5",
                "#B0BEC5",
                "#B0BEC5",
                "#B0BEC5",
                "#B0BEC5",
                "#B0BEC5",
                "#B0BEC5",
                "#B0BEC5",
                "#B0BEC5",
                "#B0BEC5"
               ]
              ]
             }
            ],
            "label": "Topic 41",
            "method": "update"
           },
           {
            "args": [
             {
              "marker.color": [
               [
                "#B0BEC5",
                "#B0BEC5",
                "#B0BEC5",
                "#B0BEC5",
                "#B0BEC5",
                "#B0BEC5",
                "#B0BEC5",
                "#B0BEC5",
                "#B0BEC5",
                "#B0BEC5",
                "#B0BEC5",
                "#B0BEC5",
                "#B0BEC5",
                "#B0BEC5",
                "#B0BEC5",
                "#B0BEC5",
                "#B0BEC5",
                "#B0BEC5",
                "#B0BEC5",
                "#B0BEC5",
                "#B0BEC5",
                "#B0BEC5",
                "#B0BEC5",
                "#B0BEC5",
                "#B0BEC5",
                "#B0BEC5",
                "#B0BEC5",
                "#B0BEC5",
                "#B0BEC5",
                "#B0BEC5",
                "#B0BEC5",
                "#B0BEC5",
                "#B0BEC5",
                "#B0BEC5",
                "#B0BEC5",
                "#B0BEC5",
                "#B0BEC5",
                "#B0BEC5",
                "#B0BEC5",
                "#B0BEC5",
                "#B0BEC5",
                "#B0BEC5",
                "red",
                "#B0BEC5",
                "#B0BEC5",
                "#B0BEC5",
                "#B0BEC5",
                "#B0BEC5",
                "#B0BEC5",
                "#B0BEC5",
                "#B0BEC5",
                "#B0BEC5",
                "#B0BEC5",
                "#B0BEC5",
                "#B0BEC5",
                "#B0BEC5",
                "#B0BEC5",
                "#B0BEC5",
                "#B0BEC5",
                "#B0BEC5",
                "#B0BEC5",
                "#B0BEC5",
                "#B0BEC5",
                "#B0BEC5"
               ]
              ]
             }
            ],
            "label": "Topic 42",
            "method": "update"
           },
           {
            "args": [
             {
              "marker.color": [
               [
                "#B0BEC5",
                "#B0BEC5",
                "#B0BEC5",
                "#B0BEC5",
                "#B0BEC5",
                "#B0BEC5",
                "#B0BEC5",
                "#B0BEC5",
                "#B0BEC5",
                "#B0BEC5",
                "#B0BEC5",
                "#B0BEC5",
                "#B0BEC5",
                "#B0BEC5",
                "#B0BEC5",
                "#B0BEC5",
                "#B0BEC5",
                "#B0BEC5",
                "#B0BEC5",
                "#B0BEC5",
                "#B0BEC5",
                "#B0BEC5",
                "#B0BEC5",
                "#B0BEC5",
                "#B0BEC5",
                "#B0BEC5",
                "#B0BEC5",
                "#B0BEC5",
                "#B0BEC5",
                "#B0BEC5",
                "#B0BEC5",
                "#B0BEC5",
                "#B0BEC5",
                "#B0BEC5",
                "#B0BEC5",
                "#B0BEC5",
                "#B0BEC5",
                "#B0BEC5",
                "#B0BEC5",
                "#B0BEC5",
                "#B0BEC5",
                "#B0BEC5",
                "#B0BEC5",
                "red",
                "#B0BEC5",
                "#B0BEC5",
                "#B0BEC5",
                "#B0BEC5",
                "#B0BEC5",
                "#B0BEC5",
                "#B0BEC5",
                "#B0BEC5",
                "#B0BEC5",
                "#B0BEC5",
                "#B0BEC5",
                "#B0BEC5",
                "#B0BEC5",
                "#B0BEC5",
                "#B0BEC5",
                "#B0BEC5",
                "#B0BEC5",
                "#B0BEC5",
                "#B0BEC5",
                "#B0BEC5"
               ]
              ]
             }
            ],
            "label": "Topic 43",
            "method": "update"
           },
           {
            "args": [
             {
              "marker.color": [
               [
                "#B0BEC5",
                "#B0BEC5",
                "#B0BEC5",
                "#B0BEC5",
                "#B0BEC5",
                "#B0BEC5",
                "#B0BEC5",
                "#B0BEC5",
                "#B0BEC5",
                "#B0BEC5",
                "#B0BEC5",
                "#B0BEC5",
                "#B0BEC5",
                "#B0BEC5",
                "#B0BEC5",
                "#B0BEC5",
                "#B0BEC5",
                "#B0BEC5",
                "#B0BEC5",
                "#B0BEC5",
                "#B0BEC5",
                "#B0BEC5",
                "#B0BEC5",
                "#B0BEC5",
                "#B0BEC5",
                "#B0BEC5",
                "#B0BEC5",
                "#B0BEC5",
                "#B0BEC5",
                "#B0BEC5",
                "#B0BEC5",
                "#B0BEC5",
                "#B0BEC5",
                "#B0BEC5",
                "#B0BEC5",
                "#B0BEC5",
                "#B0BEC5",
                "#B0BEC5",
                "#B0BEC5",
                "#B0BEC5",
                "#B0BEC5",
                "#B0BEC5",
                "#B0BEC5",
                "#B0BEC5",
                "red",
                "#B0BEC5",
                "#B0BEC5",
                "#B0BEC5",
                "#B0BEC5",
                "#B0BEC5",
                "#B0BEC5",
                "#B0BEC5",
                "#B0BEC5",
                "#B0BEC5",
                "#B0BEC5",
                "#B0BEC5",
                "#B0BEC5",
                "#B0BEC5",
                "#B0BEC5",
                "#B0BEC5",
                "#B0BEC5",
                "#B0BEC5",
                "#B0BEC5",
                "#B0BEC5"
               ]
              ]
             }
            ],
            "label": "Topic 44",
            "method": "update"
           },
           {
            "args": [
             {
              "marker.color": [
               [
                "#B0BEC5",
                "#B0BEC5",
                "#B0BEC5",
                "#B0BEC5",
                "#B0BEC5",
                "#B0BEC5",
                "#B0BEC5",
                "#B0BEC5",
                "#B0BEC5",
                "#B0BEC5",
                "#B0BEC5",
                "#B0BEC5",
                "#B0BEC5",
                "#B0BEC5",
                "#B0BEC5",
                "#B0BEC5",
                "#B0BEC5",
                "#B0BEC5",
                "#B0BEC5",
                "#B0BEC5",
                "#B0BEC5",
                "#B0BEC5",
                "#B0BEC5",
                "#B0BEC5",
                "#B0BEC5",
                "#B0BEC5",
                "#B0BEC5",
                "#B0BEC5",
                "#B0BEC5",
                "#B0BEC5",
                "#B0BEC5",
                "#B0BEC5",
                "#B0BEC5",
                "#B0BEC5",
                "#B0BEC5",
                "#B0BEC5",
                "#B0BEC5",
                "#B0BEC5",
                "#B0BEC5",
                "#B0BEC5",
                "#B0BEC5",
                "#B0BEC5",
                "#B0BEC5",
                "#B0BEC5",
                "#B0BEC5",
                "red",
                "#B0BEC5",
                "#B0BEC5",
                "#B0BEC5",
                "#B0BEC5",
                "#B0BEC5",
                "#B0BEC5",
                "#B0BEC5",
                "#B0BEC5",
                "#B0BEC5",
                "#B0BEC5",
                "#B0BEC5",
                "#B0BEC5",
                "#B0BEC5",
                "#B0BEC5",
                "#B0BEC5",
                "#B0BEC5",
                "#B0BEC5",
                "#B0BEC5"
               ]
              ]
             }
            ],
            "label": "Topic 45",
            "method": "update"
           },
           {
            "args": [
             {
              "marker.color": [
               [
                "#B0BEC5",
                "#B0BEC5",
                "#B0BEC5",
                "#B0BEC5",
                "#B0BEC5",
                "#B0BEC5",
                "#B0BEC5",
                "#B0BEC5",
                "#B0BEC5",
                "#B0BEC5",
                "#B0BEC5",
                "#B0BEC5",
                "#B0BEC5",
                "#B0BEC5",
                "#B0BEC5",
                "#B0BEC5",
                "#B0BEC5",
                "#B0BEC5",
                "#B0BEC5",
                "#B0BEC5",
                "#B0BEC5",
                "#B0BEC5",
                "#B0BEC5",
                "#B0BEC5",
                "#B0BEC5",
                "#B0BEC5",
                "#B0BEC5",
                "#B0BEC5",
                "#B0BEC5",
                "#B0BEC5",
                "#B0BEC5",
                "#B0BEC5",
                "#B0BEC5",
                "#B0BEC5",
                "#B0BEC5",
                "#B0BEC5",
                "#B0BEC5",
                "#B0BEC5",
                "#B0BEC5",
                "#B0BEC5",
                "#B0BEC5",
                "#B0BEC5",
                "#B0BEC5",
                "#B0BEC5",
                "#B0BEC5",
                "#B0BEC5",
                "red",
                "#B0BEC5",
                "#B0BEC5",
                "#B0BEC5",
                "#B0BEC5",
                "#B0BEC5",
                "#B0BEC5",
                "#B0BEC5",
                "#B0BEC5",
                "#B0BEC5",
                "#B0BEC5",
                "#B0BEC5",
                "#B0BEC5",
                "#B0BEC5",
                "#B0BEC5",
                "#B0BEC5",
                "#B0BEC5",
                "#B0BEC5"
               ]
              ]
             }
            ],
            "label": "Topic 46",
            "method": "update"
           },
           {
            "args": [
             {
              "marker.color": [
               [
                "#B0BEC5",
                "#B0BEC5",
                "#B0BEC5",
                "#B0BEC5",
                "#B0BEC5",
                "#B0BEC5",
                "#B0BEC5",
                "#B0BEC5",
                "#B0BEC5",
                "#B0BEC5",
                "#B0BEC5",
                "#B0BEC5",
                "#B0BEC5",
                "#B0BEC5",
                "#B0BEC5",
                "#B0BEC5",
                "#B0BEC5",
                "#B0BEC5",
                "#B0BEC5",
                "#B0BEC5",
                "#B0BEC5",
                "#B0BEC5",
                "#B0BEC5",
                "#B0BEC5",
                "#B0BEC5",
                "#B0BEC5",
                "#B0BEC5",
                "#B0BEC5",
                "#B0BEC5",
                "#B0BEC5",
                "#B0BEC5",
                "#B0BEC5",
                "#B0BEC5",
                "#B0BEC5",
                "#B0BEC5",
                "#B0BEC5",
                "#B0BEC5",
                "#B0BEC5",
                "#B0BEC5",
                "#B0BEC5",
                "#B0BEC5",
                "#B0BEC5",
                "#B0BEC5",
                "#B0BEC5",
                "#B0BEC5",
                "#B0BEC5",
                "#B0BEC5",
                "red",
                "#B0BEC5",
                "#B0BEC5",
                "#B0BEC5",
                "#B0BEC5",
                "#B0BEC5",
                "#B0BEC5",
                "#B0BEC5",
                "#B0BEC5",
                "#B0BEC5",
                "#B0BEC5",
                "#B0BEC5",
                "#B0BEC5",
                "#B0BEC5",
                "#B0BEC5",
                "#B0BEC5",
                "#B0BEC5"
               ]
              ]
             }
            ],
            "label": "Topic 47",
            "method": "update"
           },
           {
            "args": [
             {
              "marker.color": [
               [
                "#B0BEC5",
                "#B0BEC5",
                "#B0BEC5",
                "#B0BEC5",
                "#B0BEC5",
                "#B0BEC5",
                "#B0BEC5",
                "#B0BEC5",
                "#B0BEC5",
                "#B0BEC5",
                "#B0BEC5",
                "#B0BEC5",
                "#B0BEC5",
                "#B0BEC5",
                "#B0BEC5",
                "#B0BEC5",
                "#B0BEC5",
                "#B0BEC5",
                "#B0BEC5",
                "#B0BEC5",
                "#B0BEC5",
                "#B0BEC5",
                "#B0BEC5",
                "#B0BEC5",
                "#B0BEC5",
                "#B0BEC5",
                "#B0BEC5",
                "#B0BEC5",
                "#B0BEC5",
                "#B0BEC5",
                "#B0BEC5",
                "#B0BEC5",
                "#B0BEC5",
                "#B0BEC5",
                "#B0BEC5",
                "#B0BEC5",
                "#B0BEC5",
                "#B0BEC5",
                "#B0BEC5",
                "#B0BEC5",
                "#B0BEC5",
                "#B0BEC5",
                "#B0BEC5",
                "#B0BEC5",
                "#B0BEC5",
                "#B0BEC5",
                "#B0BEC5",
                "#B0BEC5",
                "red",
                "#B0BEC5",
                "#B0BEC5",
                "#B0BEC5",
                "#B0BEC5",
                "#B0BEC5",
                "#B0BEC5",
                "#B0BEC5",
                "#B0BEC5",
                "#B0BEC5",
                "#B0BEC5",
                "#B0BEC5",
                "#B0BEC5",
                "#B0BEC5",
                "#B0BEC5",
                "#B0BEC5"
               ]
              ]
             }
            ],
            "label": "Topic 48",
            "method": "update"
           },
           {
            "args": [
             {
              "marker.color": [
               [
                "#B0BEC5",
                "#B0BEC5",
                "#B0BEC5",
                "#B0BEC5",
                "#B0BEC5",
                "#B0BEC5",
                "#B0BEC5",
                "#B0BEC5",
                "#B0BEC5",
                "#B0BEC5",
                "#B0BEC5",
                "#B0BEC5",
                "#B0BEC5",
                "#B0BEC5",
                "#B0BEC5",
                "#B0BEC5",
                "#B0BEC5",
                "#B0BEC5",
                "#B0BEC5",
                "#B0BEC5",
                "#B0BEC5",
                "#B0BEC5",
                "#B0BEC5",
                "#B0BEC5",
                "#B0BEC5",
                "#B0BEC5",
                "#B0BEC5",
                "#B0BEC5",
                "#B0BEC5",
                "#B0BEC5",
                "#B0BEC5",
                "#B0BEC5",
                "#B0BEC5",
                "#B0BEC5",
                "#B0BEC5",
                "#B0BEC5",
                "#B0BEC5",
                "#B0BEC5",
                "#B0BEC5",
                "#B0BEC5",
                "#B0BEC5",
                "#B0BEC5",
                "#B0BEC5",
                "#B0BEC5",
                "#B0BEC5",
                "#B0BEC5",
                "#B0BEC5",
                "#B0BEC5",
                "#B0BEC5",
                "red",
                "#B0BEC5",
                "#B0BEC5",
                "#B0BEC5",
                "#B0BEC5",
                "#B0BEC5",
                "#B0BEC5",
                "#B0BEC5",
                "#B0BEC5",
                "#B0BEC5",
                "#B0BEC5",
                "#B0BEC5",
                "#B0BEC5",
                "#B0BEC5",
                "#B0BEC5"
               ]
              ]
             }
            ],
            "label": "Topic 49",
            "method": "update"
           },
           {
            "args": [
             {
              "marker.color": [
               [
                "#B0BEC5",
                "#B0BEC5",
                "#B0BEC5",
                "#B0BEC5",
                "#B0BEC5",
                "#B0BEC5",
                "#B0BEC5",
                "#B0BEC5",
                "#B0BEC5",
                "#B0BEC5",
                "#B0BEC5",
                "#B0BEC5",
                "#B0BEC5",
                "#B0BEC5",
                "#B0BEC5",
                "#B0BEC5",
                "#B0BEC5",
                "#B0BEC5",
                "#B0BEC5",
                "#B0BEC5",
                "#B0BEC5",
                "#B0BEC5",
                "#B0BEC5",
                "#B0BEC5",
                "#B0BEC5",
                "#B0BEC5",
                "#B0BEC5",
                "#B0BEC5",
                "#B0BEC5",
                "#B0BEC5",
                "#B0BEC5",
                "#B0BEC5",
                "#B0BEC5",
                "#B0BEC5",
                "#B0BEC5",
                "#B0BEC5",
                "#B0BEC5",
                "#B0BEC5",
                "#B0BEC5",
                "#B0BEC5",
                "#B0BEC5",
                "#B0BEC5",
                "#B0BEC5",
                "#B0BEC5",
                "#B0BEC5",
                "#B0BEC5",
                "#B0BEC5",
                "#B0BEC5",
                "#B0BEC5",
                "#B0BEC5",
                "red",
                "#B0BEC5",
                "#B0BEC5",
                "#B0BEC5",
                "#B0BEC5",
                "#B0BEC5",
                "#B0BEC5",
                "#B0BEC5",
                "#B0BEC5",
                "#B0BEC5",
                "#B0BEC5",
                "#B0BEC5",
                "#B0BEC5",
                "#B0BEC5"
               ]
              ]
             }
            ],
            "label": "Topic 50",
            "method": "update"
           },
           {
            "args": [
             {
              "marker.color": [
               [
                "#B0BEC5",
                "#B0BEC5",
                "#B0BEC5",
                "#B0BEC5",
                "#B0BEC5",
                "#B0BEC5",
                "#B0BEC5",
                "#B0BEC5",
                "#B0BEC5",
                "#B0BEC5",
                "#B0BEC5",
                "#B0BEC5",
                "#B0BEC5",
                "#B0BEC5",
                "#B0BEC5",
                "#B0BEC5",
                "#B0BEC5",
                "#B0BEC5",
                "#B0BEC5",
                "#B0BEC5",
                "#B0BEC5",
                "#B0BEC5",
                "#B0BEC5",
                "#B0BEC5",
                "#B0BEC5",
                "#B0BEC5",
                "#B0BEC5",
                "#B0BEC5",
                "#B0BEC5",
                "#B0BEC5",
                "#B0BEC5",
                "#B0BEC5",
                "#B0BEC5",
                "#B0BEC5",
                "#B0BEC5",
                "#B0BEC5",
                "#B0BEC5",
                "#B0BEC5",
                "#B0BEC5",
                "#B0BEC5",
                "#B0BEC5",
                "#B0BEC5",
                "#B0BEC5",
                "#B0BEC5",
                "#B0BEC5",
                "#B0BEC5",
                "#B0BEC5",
                "#B0BEC5",
                "#B0BEC5",
                "#B0BEC5",
                "#B0BEC5",
                "red",
                "#B0BEC5",
                "#B0BEC5",
                "#B0BEC5",
                "#B0BEC5",
                "#B0BEC5",
                "#B0BEC5",
                "#B0BEC5",
                "#B0BEC5",
                "#B0BEC5",
                "#B0BEC5",
                "#B0BEC5",
                "#B0BEC5"
               ]
              ]
             }
            ],
            "label": "Topic 51",
            "method": "update"
           },
           {
            "args": [
             {
              "marker.color": [
               [
                "#B0BEC5",
                "#B0BEC5",
                "#B0BEC5",
                "#B0BEC5",
                "#B0BEC5",
                "#B0BEC5",
                "#B0BEC5",
                "#B0BEC5",
                "#B0BEC5",
                "#B0BEC5",
                "#B0BEC5",
                "#B0BEC5",
                "#B0BEC5",
                "#B0BEC5",
                "#B0BEC5",
                "#B0BEC5",
                "#B0BEC5",
                "#B0BEC5",
                "#B0BEC5",
                "#B0BEC5",
                "#B0BEC5",
                "#B0BEC5",
                "#B0BEC5",
                "#B0BEC5",
                "#B0BEC5",
                "#B0BEC5",
                "#B0BEC5",
                "#B0BEC5",
                "#B0BEC5",
                "#B0BEC5",
                "#B0BEC5",
                "#B0BEC5",
                "#B0BEC5",
                "#B0BEC5",
                "#B0BEC5",
                "#B0BEC5",
                "#B0BEC5",
                "#B0BEC5",
                "#B0BEC5",
                "#B0BEC5",
                "#B0BEC5",
                "#B0BEC5",
                "#B0BEC5",
                "#B0BEC5",
                "#B0BEC5",
                "#B0BEC5",
                "#B0BEC5",
                "#B0BEC5",
                "#B0BEC5",
                "#B0BEC5",
                "#B0BEC5",
                "#B0BEC5",
                "red",
                "#B0BEC5",
                "#B0BEC5",
                "#B0BEC5",
                "#B0BEC5",
                "#B0BEC5",
                "#B0BEC5",
                "#B0BEC5",
                "#B0BEC5",
                "#B0BEC5",
                "#B0BEC5",
                "#B0BEC5"
               ]
              ]
             }
            ],
            "label": "Topic 52",
            "method": "update"
           },
           {
            "args": [
             {
              "marker.color": [
               [
                "#B0BEC5",
                "#B0BEC5",
                "#B0BEC5",
                "#B0BEC5",
                "#B0BEC5",
                "#B0BEC5",
                "#B0BEC5",
                "#B0BEC5",
                "#B0BEC5",
                "#B0BEC5",
                "#B0BEC5",
                "#B0BEC5",
                "#B0BEC5",
                "#B0BEC5",
                "#B0BEC5",
                "#B0BEC5",
                "#B0BEC5",
                "#B0BEC5",
                "#B0BEC5",
                "#B0BEC5",
                "#B0BEC5",
                "#B0BEC5",
                "#B0BEC5",
                "#B0BEC5",
                "#B0BEC5",
                "#B0BEC5",
                "#B0BEC5",
                "#B0BEC5",
                "#B0BEC5",
                "#B0BEC5",
                "#B0BEC5",
                "#B0BEC5",
                "#B0BEC5",
                "#B0BEC5",
                "#B0BEC5",
                "#B0BEC5",
                "#B0BEC5",
                "#B0BEC5",
                "#B0BEC5",
                "#B0BEC5",
                "#B0BEC5",
                "#B0BEC5",
                "#B0BEC5",
                "#B0BEC5",
                "#B0BEC5",
                "#B0BEC5",
                "#B0BEC5",
                "#B0BEC5",
                "#B0BEC5",
                "#B0BEC5",
                "#B0BEC5",
                "#B0BEC5",
                "#B0BEC5",
                "red",
                "#B0BEC5",
                "#B0BEC5",
                "#B0BEC5",
                "#B0BEC5",
                "#B0BEC5",
                "#B0BEC5",
                "#B0BEC5",
                "#B0BEC5",
                "#B0BEC5",
                "#B0BEC5"
               ]
              ]
             }
            ],
            "label": "Topic 53",
            "method": "update"
           },
           {
            "args": [
             {
              "marker.color": [
               [
                "#B0BEC5",
                "#B0BEC5",
                "#B0BEC5",
                "#B0BEC5",
                "#B0BEC5",
                "#B0BEC5",
                "#B0BEC5",
                "#B0BEC5",
                "#B0BEC5",
                "#B0BEC5",
                "#B0BEC5",
                "#B0BEC5",
                "#B0BEC5",
                "#B0BEC5",
                "#B0BEC5",
                "#B0BEC5",
                "#B0BEC5",
                "#B0BEC5",
                "#B0BEC5",
                "#B0BEC5",
                "#B0BEC5",
                "#B0BEC5",
                "#B0BEC5",
                "#B0BEC5",
                "#B0BEC5",
                "#B0BEC5",
                "#B0BEC5",
                "#B0BEC5",
                "#B0BEC5",
                "#B0BEC5",
                "#B0BEC5",
                "#B0BEC5",
                "#B0BEC5",
                "#B0BEC5",
                "#B0BEC5",
                "#B0BEC5",
                "#B0BEC5",
                "#B0BEC5",
                "#B0BEC5",
                "#B0BEC5",
                "#B0BEC5",
                "#B0BEC5",
                "#B0BEC5",
                "#B0BEC5",
                "#B0BEC5",
                "#B0BEC5",
                "#B0BEC5",
                "#B0BEC5",
                "#B0BEC5",
                "#B0BEC5",
                "#B0BEC5",
                "#B0BEC5",
                "#B0BEC5",
                "#B0BEC5",
                "red",
                "#B0BEC5",
                "#B0BEC5",
                "#B0BEC5",
                "#B0BEC5",
                "#B0BEC5",
                "#B0BEC5",
                "#B0BEC5",
                "#B0BEC5",
                "#B0BEC5"
               ]
              ]
             }
            ],
            "label": "Topic 54",
            "method": "update"
           },
           {
            "args": [
             {
              "marker.color": [
               [
                "#B0BEC5",
                "#B0BEC5",
                "#B0BEC5",
                "#B0BEC5",
                "#B0BEC5",
                "#B0BEC5",
                "#B0BEC5",
                "#B0BEC5",
                "#B0BEC5",
                "#B0BEC5",
                "#B0BEC5",
                "#B0BEC5",
                "#B0BEC5",
                "#B0BEC5",
                "#B0BEC5",
                "#B0BEC5",
                "#B0BEC5",
                "#B0BEC5",
                "#B0BEC5",
                "#B0BEC5",
                "#B0BEC5",
                "#B0BEC5",
                "#B0BEC5",
                "#B0BEC5",
                "#B0BEC5",
                "#B0BEC5",
                "#B0BEC5",
                "#B0BEC5",
                "#B0BEC5",
                "#B0BEC5",
                "#B0BEC5",
                "#B0BEC5",
                "#B0BEC5",
                "#B0BEC5",
                "#B0BEC5",
                "#B0BEC5",
                "#B0BEC5",
                "#B0BEC5",
                "#B0BEC5",
                "#B0BEC5",
                "#B0BEC5",
                "#B0BEC5",
                "#B0BEC5",
                "#B0BEC5",
                "#B0BEC5",
                "#B0BEC5",
                "#B0BEC5",
                "#B0BEC5",
                "#B0BEC5",
                "#B0BEC5",
                "#B0BEC5",
                "#B0BEC5",
                "#B0BEC5",
                "#B0BEC5",
                "#B0BEC5",
                "red",
                "#B0BEC5",
                "#B0BEC5",
                "#B0BEC5",
                "#B0BEC5",
                "#B0BEC5",
                "#B0BEC5",
                "#B0BEC5",
                "#B0BEC5"
               ]
              ]
             }
            ],
            "label": "Topic 55",
            "method": "update"
           },
           {
            "args": [
             {
              "marker.color": [
               [
                "#B0BEC5",
                "#B0BEC5",
                "#B0BEC5",
                "#B0BEC5",
                "#B0BEC5",
                "#B0BEC5",
                "#B0BEC5",
                "#B0BEC5",
                "#B0BEC5",
                "#B0BEC5",
                "#B0BEC5",
                "#B0BEC5",
                "#B0BEC5",
                "#B0BEC5",
                "#B0BEC5",
                "#B0BEC5",
                "#B0BEC5",
                "#B0BEC5",
                "#B0BEC5",
                "#B0BEC5",
                "#B0BEC5",
                "#B0BEC5",
                "#B0BEC5",
                "#B0BEC5",
                "#B0BEC5",
                "#B0BEC5",
                "#B0BEC5",
                "#B0BEC5",
                "#B0BEC5",
                "#B0BEC5",
                "#B0BEC5",
                "#B0BEC5",
                "#B0BEC5",
                "#B0BEC5",
                "#B0BEC5",
                "#B0BEC5",
                "#B0BEC5",
                "#B0BEC5",
                "#B0BEC5",
                "#B0BEC5",
                "#B0BEC5",
                "#B0BEC5",
                "#B0BEC5",
                "#B0BEC5",
                "#B0BEC5",
                "#B0BEC5",
                "#B0BEC5",
                "#B0BEC5",
                "#B0BEC5",
                "#B0BEC5",
                "#B0BEC5",
                "#B0BEC5",
                "#B0BEC5",
                "#B0BEC5",
                "#B0BEC5",
                "#B0BEC5",
                "red",
                "#B0BEC5",
                "#B0BEC5",
                "#B0BEC5",
                "#B0BEC5",
                "#B0BEC5",
                "#B0BEC5",
                "#B0BEC5"
               ]
              ]
             }
            ],
            "label": "Topic 56",
            "method": "update"
           },
           {
            "args": [
             {
              "marker.color": [
               [
                "#B0BEC5",
                "#B0BEC5",
                "#B0BEC5",
                "#B0BEC5",
                "#B0BEC5",
                "#B0BEC5",
                "#B0BEC5",
                "#B0BEC5",
                "#B0BEC5",
                "#B0BEC5",
                "#B0BEC5",
                "#B0BEC5",
                "#B0BEC5",
                "#B0BEC5",
                "#B0BEC5",
                "#B0BEC5",
                "#B0BEC5",
                "#B0BEC5",
                "#B0BEC5",
                "#B0BEC5",
                "#B0BEC5",
                "#B0BEC5",
                "#B0BEC5",
                "#B0BEC5",
                "#B0BEC5",
                "#B0BEC5",
                "#B0BEC5",
                "#B0BEC5",
                "#B0BEC5",
                "#B0BEC5",
                "#B0BEC5",
                "#B0BEC5",
                "#B0BEC5",
                "#B0BEC5",
                "#B0BEC5",
                "#B0BEC5",
                "#B0BEC5",
                "#B0BEC5",
                "#B0BEC5",
                "#B0BEC5",
                "#B0BEC5",
                "#B0BEC5",
                "#B0BEC5",
                "#B0BEC5",
                "#B0BEC5",
                "#B0BEC5",
                "#B0BEC5",
                "#B0BEC5",
                "#B0BEC5",
                "#B0BEC5",
                "#B0BEC5",
                "#B0BEC5",
                "#B0BEC5",
                "#B0BEC5",
                "#B0BEC5",
                "#B0BEC5",
                "#B0BEC5",
                "red",
                "#B0BEC5",
                "#B0BEC5",
                "#B0BEC5",
                "#B0BEC5",
                "#B0BEC5",
                "#B0BEC5"
               ]
              ]
             }
            ],
            "label": "Topic 57",
            "method": "update"
           },
           {
            "args": [
             {
              "marker.color": [
               [
                "#B0BEC5",
                "#B0BEC5",
                "#B0BEC5",
                "#B0BEC5",
                "#B0BEC5",
                "#B0BEC5",
                "#B0BEC5",
                "#B0BEC5",
                "#B0BEC5",
                "#B0BEC5",
                "#B0BEC5",
                "#B0BEC5",
                "#B0BEC5",
                "#B0BEC5",
                "#B0BEC5",
                "#B0BEC5",
                "#B0BEC5",
                "#B0BEC5",
                "#B0BEC5",
                "#B0BEC5",
                "#B0BEC5",
                "#B0BEC5",
                "#B0BEC5",
                "#B0BEC5",
                "#B0BEC5",
                "#B0BEC5",
                "#B0BEC5",
                "#B0BEC5",
                "#B0BEC5",
                "#B0BEC5",
                "#B0BEC5",
                "#B0BEC5",
                "#B0BEC5",
                "#B0BEC5",
                "#B0BEC5",
                "#B0BEC5",
                "#B0BEC5",
                "#B0BEC5",
                "#B0BEC5",
                "#B0BEC5",
                "#B0BEC5",
                "#B0BEC5",
                "#B0BEC5",
                "#B0BEC5",
                "#B0BEC5",
                "#B0BEC5",
                "#B0BEC5",
                "#B0BEC5",
                "#B0BEC5",
                "#B0BEC5",
                "#B0BEC5",
                "#B0BEC5",
                "#B0BEC5",
                "#B0BEC5",
                "#B0BEC5",
                "#B0BEC5",
                "#B0BEC5",
                "#B0BEC5",
                "red",
                "#B0BEC5",
                "#B0BEC5",
                "#B0BEC5",
                "#B0BEC5",
                "#B0BEC5"
               ]
              ]
             }
            ],
            "label": "Topic 58",
            "method": "update"
           },
           {
            "args": [
             {
              "marker.color": [
               [
                "#B0BEC5",
                "#B0BEC5",
                "#B0BEC5",
                "#B0BEC5",
                "#B0BEC5",
                "#B0BEC5",
                "#B0BEC5",
                "#B0BEC5",
                "#B0BEC5",
                "#B0BEC5",
                "#B0BEC5",
                "#B0BEC5",
                "#B0BEC5",
                "#B0BEC5",
                "#B0BEC5",
                "#B0BEC5",
                "#B0BEC5",
                "#B0BEC5",
                "#B0BEC5",
                "#B0BEC5",
                "#B0BEC5",
                "#B0BEC5",
                "#B0BEC5",
                "#B0BEC5",
                "#B0BEC5",
                "#B0BEC5",
                "#B0BEC5",
                "#B0BEC5",
                "#B0BEC5",
                "#B0BEC5",
                "#B0BEC5",
                "#B0BEC5",
                "#B0BEC5",
                "#B0BEC5",
                "#B0BEC5",
                "#B0BEC5",
                "#B0BEC5",
                "#B0BEC5",
                "#B0BEC5",
                "#B0BEC5",
                "#B0BEC5",
                "#B0BEC5",
                "#B0BEC5",
                "#B0BEC5",
                "#B0BEC5",
                "#B0BEC5",
                "#B0BEC5",
                "#B0BEC5",
                "#B0BEC5",
                "#B0BEC5",
                "#B0BEC5",
                "#B0BEC5",
                "#B0BEC5",
                "#B0BEC5",
                "#B0BEC5",
                "#B0BEC5",
                "#B0BEC5",
                "#B0BEC5",
                "#B0BEC5",
                "red",
                "#B0BEC5",
                "#B0BEC5",
                "#B0BEC5",
                "#B0BEC5"
               ]
              ]
             }
            ],
            "label": "Topic 59",
            "method": "update"
           },
           {
            "args": [
             {
              "marker.color": [
               [
                "#B0BEC5",
                "#B0BEC5",
                "#B0BEC5",
                "#B0BEC5",
                "#B0BEC5",
                "#B0BEC5",
                "#B0BEC5",
                "#B0BEC5",
                "#B0BEC5",
                "#B0BEC5",
                "#B0BEC5",
                "#B0BEC5",
                "#B0BEC5",
                "#B0BEC5",
                "#B0BEC5",
                "#B0BEC5",
                "#B0BEC5",
                "#B0BEC5",
                "#B0BEC5",
                "#B0BEC5",
                "#B0BEC5",
                "#B0BEC5",
                "#B0BEC5",
                "#B0BEC5",
                "#B0BEC5",
                "#B0BEC5",
                "#B0BEC5",
                "#B0BEC5",
                "#B0BEC5",
                "#B0BEC5",
                "#B0BEC5",
                "#B0BEC5",
                "#B0BEC5",
                "#B0BEC5",
                "#B0BEC5",
                "#B0BEC5",
                "#B0BEC5",
                "#B0BEC5",
                "#B0BEC5",
                "#B0BEC5",
                "#B0BEC5",
                "#B0BEC5",
                "#B0BEC5",
                "#B0BEC5",
                "#B0BEC5",
                "#B0BEC5",
                "#B0BEC5",
                "#B0BEC5",
                "#B0BEC5",
                "#B0BEC5",
                "#B0BEC5",
                "#B0BEC5",
                "#B0BEC5",
                "#B0BEC5",
                "#B0BEC5",
                "#B0BEC5",
                "#B0BEC5",
                "#B0BEC5",
                "#B0BEC5",
                "#B0BEC5",
                "red",
                "#B0BEC5",
                "#B0BEC5",
                "#B0BEC5"
               ]
              ]
             }
            ],
            "label": "Topic 60",
            "method": "update"
           },
           {
            "args": [
             {
              "marker.color": [
               [
                "#B0BEC5",
                "#B0BEC5",
                "#B0BEC5",
                "#B0BEC5",
                "#B0BEC5",
                "#B0BEC5",
                "#B0BEC5",
                "#B0BEC5",
                "#B0BEC5",
                "#B0BEC5",
                "#B0BEC5",
                "#B0BEC5",
                "#B0BEC5",
                "#B0BEC5",
                "#B0BEC5",
                "#B0BEC5",
                "#B0BEC5",
                "#B0BEC5",
                "#B0BEC5",
                "#B0BEC5",
                "#B0BEC5",
                "#B0BEC5",
                "#B0BEC5",
                "#B0BEC5",
                "#B0BEC5",
                "#B0BEC5",
                "#B0BEC5",
                "#B0BEC5",
                "#B0BEC5",
                "#B0BEC5",
                "#B0BEC5",
                "#B0BEC5",
                "#B0BEC5",
                "#B0BEC5",
                "#B0BEC5",
                "#B0BEC5",
                "#B0BEC5",
                "#B0BEC5",
                "#B0BEC5",
                "#B0BEC5",
                "#B0BEC5",
                "#B0BEC5",
                "#B0BEC5",
                "#B0BEC5",
                "#B0BEC5",
                "#B0BEC5",
                "#B0BEC5",
                "#B0BEC5",
                "#B0BEC5",
                "#B0BEC5",
                "#B0BEC5",
                "#B0BEC5",
                "#B0BEC5",
                "#B0BEC5",
                "#B0BEC5",
                "#B0BEC5",
                "#B0BEC5",
                "#B0BEC5",
                "#B0BEC5",
                "#B0BEC5",
                "#B0BEC5",
                "red",
                "#B0BEC5",
                "#B0BEC5"
               ]
              ]
             }
            ],
            "label": "Topic 61",
            "method": "update"
           },
           {
            "args": [
             {
              "marker.color": [
               [
                "#B0BEC5",
                "#B0BEC5",
                "#B0BEC5",
                "#B0BEC5",
                "#B0BEC5",
                "#B0BEC5",
                "#B0BEC5",
                "#B0BEC5",
                "#B0BEC5",
                "#B0BEC5",
                "#B0BEC5",
                "#B0BEC5",
                "#B0BEC5",
                "#B0BEC5",
                "#B0BEC5",
                "#B0BEC5",
                "#B0BEC5",
                "#B0BEC5",
                "#B0BEC5",
                "#B0BEC5",
                "#B0BEC5",
                "#B0BEC5",
                "#B0BEC5",
                "#B0BEC5",
                "#B0BEC5",
                "#B0BEC5",
                "#B0BEC5",
                "#B0BEC5",
                "#B0BEC5",
                "#B0BEC5",
                "#B0BEC5",
                "#B0BEC5",
                "#B0BEC5",
                "#B0BEC5",
                "#B0BEC5",
                "#B0BEC5",
                "#B0BEC5",
                "#B0BEC5",
                "#B0BEC5",
                "#B0BEC5",
                "#B0BEC5",
                "#B0BEC5",
                "#B0BEC5",
                "#B0BEC5",
                "#B0BEC5",
                "#B0BEC5",
                "#B0BEC5",
                "#B0BEC5",
                "#B0BEC5",
                "#B0BEC5",
                "#B0BEC5",
                "#B0BEC5",
                "#B0BEC5",
                "#B0BEC5",
                "#B0BEC5",
                "#B0BEC5",
                "#B0BEC5",
                "#B0BEC5",
                "#B0BEC5",
                "#B0BEC5",
                "#B0BEC5",
                "#B0BEC5",
                "red",
                "#B0BEC5"
               ]
              ]
             }
            ],
            "label": "Topic 62",
            "method": "update"
           },
           {
            "args": [
             {
              "marker.color": [
               [
                "#B0BEC5",
                "#B0BEC5",
                "#B0BEC5",
                "#B0BEC5",
                "#B0BEC5",
                "#B0BEC5",
                "#B0BEC5",
                "#B0BEC5",
                "#B0BEC5",
                "#B0BEC5",
                "#B0BEC5",
                "#B0BEC5",
                "#B0BEC5",
                "#B0BEC5",
                "#B0BEC5",
                "#B0BEC5",
                "#B0BEC5",
                "#B0BEC5",
                "#B0BEC5",
                "#B0BEC5",
                "#B0BEC5",
                "#B0BEC5",
                "#B0BEC5",
                "#B0BEC5",
                "#B0BEC5",
                "#B0BEC5",
                "#B0BEC5",
                "#B0BEC5",
                "#B0BEC5",
                "#B0BEC5",
                "#B0BEC5",
                "#B0BEC5",
                "#B0BEC5",
                "#B0BEC5",
                "#B0BEC5",
                "#B0BEC5",
                "#B0BEC5",
                "#B0BEC5",
                "#B0BEC5",
                "#B0BEC5",
                "#B0BEC5",
                "#B0BEC5",
                "#B0BEC5",
                "#B0BEC5",
                "#B0BEC5",
                "#B0BEC5",
                "#B0BEC5",
                "#B0BEC5",
                "#B0BEC5",
                "#B0BEC5",
                "#B0BEC5",
                "#B0BEC5",
                "#B0BEC5",
                "#B0BEC5",
                "#B0BEC5",
                "#B0BEC5",
                "#B0BEC5",
                "#B0BEC5",
                "#B0BEC5",
                "#B0BEC5",
                "#B0BEC5",
                "#B0BEC5",
                "#B0BEC5",
                "red"
               ]
              ]
             }
            ],
            "label": "Topic 63",
            "method": "update"
           }
          ]
         }
        ],
        "template": {
         "data": {
          "bar": [
           {
            "error_x": {
             "color": "rgb(36,36,36)"
            },
            "error_y": {
             "color": "rgb(36,36,36)"
            },
            "marker": {
             "line": {
              "color": "white",
              "width": 0.5
             },
             "pattern": {
              "fillmode": "overlay",
              "size": 10,
              "solidity": 0.2
             }
            },
            "type": "bar"
           }
          ],
          "barpolar": [
           {
            "marker": {
             "line": {
              "color": "white",
              "width": 0.5
             },
             "pattern": {
              "fillmode": "overlay",
              "size": 10,
              "solidity": 0.2
             }
            },
            "type": "barpolar"
           }
          ],
          "carpet": [
           {
            "aaxis": {
             "endlinecolor": "rgb(36,36,36)",
             "gridcolor": "white",
             "linecolor": "white",
             "minorgridcolor": "white",
             "startlinecolor": "rgb(36,36,36)"
            },
            "baxis": {
             "endlinecolor": "rgb(36,36,36)",
             "gridcolor": "white",
             "linecolor": "white",
             "minorgridcolor": "white",
             "startlinecolor": "rgb(36,36,36)"
            },
            "type": "carpet"
           }
          ],
          "choropleth": [
           {
            "colorbar": {
             "outlinewidth": 1,
             "tickcolor": "rgb(36,36,36)",
             "ticks": "outside"
            },
            "type": "choropleth"
           }
          ],
          "contour": [
           {
            "colorbar": {
             "outlinewidth": 1,
             "tickcolor": "rgb(36,36,36)",
             "ticks": "outside"
            },
            "colorscale": [
             [
              0,
              "#440154"
             ],
             [
              0.1111111111111111,
              "#482878"
             ],
             [
              0.2222222222222222,
              "#3e4989"
             ],
             [
              0.3333333333333333,
              "#31688e"
             ],
             [
              0.4444444444444444,
              "#26828e"
             ],
             [
              0.5555555555555556,
              "#1f9e89"
             ],
             [
              0.6666666666666666,
              "#35b779"
             ],
             [
              0.7777777777777778,
              "#6ece58"
             ],
             [
              0.8888888888888888,
              "#b5de2b"
             ],
             [
              1,
              "#fde725"
             ]
            ],
            "type": "contour"
           }
          ],
          "contourcarpet": [
           {
            "colorbar": {
             "outlinewidth": 1,
             "tickcolor": "rgb(36,36,36)",
             "ticks": "outside"
            },
            "type": "contourcarpet"
           }
          ],
          "heatmap": [
           {
            "colorbar": {
             "outlinewidth": 1,
             "tickcolor": "rgb(36,36,36)",
             "ticks": "outside"
            },
            "colorscale": [
             [
              0,
              "#440154"
             ],
             [
              0.1111111111111111,
              "#482878"
             ],
             [
              0.2222222222222222,
              "#3e4989"
             ],
             [
              0.3333333333333333,
              "#31688e"
             ],
             [
              0.4444444444444444,
              "#26828e"
             ],
             [
              0.5555555555555556,
              "#1f9e89"
             ],
             [
              0.6666666666666666,
              "#35b779"
             ],
             [
              0.7777777777777778,
              "#6ece58"
             ],
             [
              0.8888888888888888,
              "#b5de2b"
             ],
             [
              1,
              "#fde725"
             ]
            ],
            "type": "heatmap"
           }
          ],
          "heatmapgl": [
           {
            "colorbar": {
             "outlinewidth": 1,
             "tickcolor": "rgb(36,36,36)",
             "ticks": "outside"
            },
            "colorscale": [
             [
              0,
              "#440154"
             ],
             [
              0.1111111111111111,
              "#482878"
             ],
             [
              0.2222222222222222,
              "#3e4989"
             ],
             [
              0.3333333333333333,
              "#31688e"
             ],
             [
              0.4444444444444444,
              "#26828e"
             ],
             [
              0.5555555555555556,
              "#1f9e89"
             ],
             [
              0.6666666666666666,
              "#35b779"
             ],
             [
              0.7777777777777778,
              "#6ece58"
             ],
             [
              0.8888888888888888,
              "#b5de2b"
             ],
             [
              1,
              "#fde725"
             ]
            ],
            "type": "heatmapgl"
           }
          ],
          "histogram": [
           {
            "marker": {
             "line": {
              "color": "white",
              "width": 0.6
             }
            },
            "type": "histogram"
           }
          ],
          "histogram2d": [
           {
            "colorbar": {
             "outlinewidth": 1,
             "tickcolor": "rgb(36,36,36)",
             "ticks": "outside"
            },
            "colorscale": [
             [
              0,
              "#440154"
             ],
             [
              0.1111111111111111,
              "#482878"
             ],
             [
              0.2222222222222222,
              "#3e4989"
             ],
             [
              0.3333333333333333,
              "#31688e"
             ],
             [
              0.4444444444444444,
              "#26828e"
             ],
             [
              0.5555555555555556,
              "#1f9e89"
             ],
             [
              0.6666666666666666,
              "#35b779"
             ],
             [
              0.7777777777777778,
              "#6ece58"
             ],
             [
              0.8888888888888888,
              "#b5de2b"
             ],
             [
              1,
              "#fde725"
             ]
            ],
            "type": "histogram2d"
           }
          ],
          "histogram2dcontour": [
           {
            "colorbar": {
             "outlinewidth": 1,
             "tickcolor": "rgb(36,36,36)",
             "ticks": "outside"
            },
            "colorscale": [
             [
              0,
              "#440154"
             ],
             [
              0.1111111111111111,
              "#482878"
             ],
             [
              0.2222222222222222,
              "#3e4989"
             ],
             [
              0.3333333333333333,
              "#31688e"
             ],
             [
              0.4444444444444444,
              "#26828e"
             ],
             [
              0.5555555555555556,
              "#1f9e89"
             ],
             [
              0.6666666666666666,
              "#35b779"
             ],
             [
              0.7777777777777778,
              "#6ece58"
             ],
             [
              0.8888888888888888,
              "#b5de2b"
             ],
             [
              1,
              "#fde725"
             ]
            ],
            "type": "histogram2dcontour"
           }
          ],
          "mesh3d": [
           {
            "colorbar": {
             "outlinewidth": 1,
             "tickcolor": "rgb(36,36,36)",
             "ticks": "outside"
            },
            "type": "mesh3d"
           }
          ],
          "parcoords": [
           {
            "line": {
             "colorbar": {
              "outlinewidth": 1,
              "tickcolor": "rgb(36,36,36)",
              "ticks": "outside"
             }
            },
            "type": "parcoords"
           }
          ],
          "pie": [
           {
            "automargin": true,
            "type": "pie"
           }
          ],
          "scatter": [
           {
            "marker": {
             "colorbar": {
              "outlinewidth": 1,
              "tickcolor": "rgb(36,36,36)",
              "ticks": "outside"
             }
            },
            "type": "scatter"
           }
          ],
          "scatter3d": [
           {
            "line": {
             "colorbar": {
              "outlinewidth": 1,
              "tickcolor": "rgb(36,36,36)",
              "ticks": "outside"
             }
            },
            "marker": {
             "colorbar": {
              "outlinewidth": 1,
              "tickcolor": "rgb(36,36,36)",
              "ticks": "outside"
             }
            },
            "type": "scatter3d"
           }
          ],
          "scattercarpet": [
           {
            "marker": {
             "colorbar": {
              "outlinewidth": 1,
              "tickcolor": "rgb(36,36,36)",
              "ticks": "outside"
             }
            },
            "type": "scattercarpet"
           }
          ],
          "scattergeo": [
           {
            "marker": {
             "colorbar": {
              "outlinewidth": 1,
              "tickcolor": "rgb(36,36,36)",
              "ticks": "outside"
             }
            },
            "type": "scattergeo"
           }
          ],
          "scattergl": [
           {
            "marker": {
             "colorbar": {
              "outlinewidth": 1,
              "tickcolor": "rgb(36,36,36)",
              "ticks": "outside"
             }
            },
            "type": "scattergl"
           }
          ],
          "scattermapbox": [
           {
            "marker": {
             "colorbar": {
              "outlinewidth": 1,
              "tickcolor": "rgb(36,36,36)",
              "ticks": "outside"
             }
            },
            "type": "scattermapbox"
           }
          ],
          "scatterpolar": [
           {
            "marker": {
             "colorbar": {
              "outlinewidth": 1,
              "tickcolor": "rgb(36,36,36)",
              "ticks": "outside"
             }
            },
            "type": "scatterpolar"
           }
          ],
          "scatterpolargl": [
           {
            "marker": {
             "colorbar": {
              "outlinewidth": 1,
              "tickcolor": "rgb(36,36,36)",
              "ticks": "outside"
             }
            },
            "type": "scatterpolargl"
           }
          ],
          "scatterternary": [
           {
            "marker": {
             "colorbar": {
              "outlinewidth": 1,
              "tickcolor": "rgb(36,36,36)",
              "ticks": "outside"
             }
            },
            "type": "scatterternary"
           }
          ],
          "surface": [
           {
            "colorbar": {
             "outlinewidth": 1,
             "tickcolor": "rgb(36,36,36)",
             "ticks": "outside"
            },
            "colorscale": [
             [
              0,
              "#440154"
             ],
             [
              0.1111111111111111,
              "#482878"
             ],
             [
              0.2222222222222222,
              "#3e4989"
             ],
             [
              0.3333333333333333,
              "#31688e"
             ],
             [
              0.4444444444444444,
              "#26828e"
             ],
             [
              0.5555555555555556,
              "#1f9e89"
             ],
             [
              0.6666666666666666,
              "#35b779"
             ],
             [
              0.7777777777777778,
              "#6ece58"
             ],
             [
              0.8888888888888888,
              "#b5de2b"
             ],
             [
              1,
              "#fde725"
             ]
            ],
            "type": "surface"
           }
          ],
          "table": [
           {
            "cells": {
             "fill": {
              "color": "rgb(237,237,237)"
             },
             "line": {
              "color": "white"
             }
            },
            "header": {
             "fill": {
              "color": "rgb(217,217,217)"
             },
             "line": {
              "color": "white"
             }
            },
            "type": "table"
           }
          ]
         },
         "layout": {
          "annotationdefaults": {
           "arrowhead": 0,
           "arrowwidth": 1
          },
          "autotypenumbers": "strict",
          "coloraxis": {
           "colorbar": {
            "outlinewidth": 1,
            "tickcolor": "rgb(36,36,36)",
            "ticks": "outside"
           }
          },
          "colorscale": {
           "diverging": [
            [
             0,
             "rgb(103,0,31)"
            ],
            [
             0.1,
             "rgb(178,24,43)"
            ],
            [
             0.2,
             "rgb(214,96,77)"
            ],
            [
             0.3,
             "rgb(244,165,130)"
            ],
            [
             0.4,
             "rgb(253,219,199)"
            ],
            [
             0.5,
             "rgb(247,247,247)"
            ],
            [
             0.6,
             "rgb(209,229,240)"
            ],
            [
             0.7,
             "rgb(146,197,222)"
            ],
            [
             0.8,
             "rgb(67,147,195)"
            ],
            [
             0.9,
             "rgb(33,102,172)"
            ],
            [
             1,
             "rgb(5,48,97)"
            ]
           ],
           "sequential": [
            [
             0,
             "#440154"
            ],
            [
             0.1111111111111111,
             "#482878"
            ],
            [
             0.2222222222222222,
             "#3e4989"
            ],
            [
             0.3333333333333333,
             "#31688e"
            ],
            [
             0.4444444444444444,
             "#26828e"
            ],
            [
             0.5555555555555556,
             "#1f9e89"
            ],
            [
             0.6666666666666666,
             "#35b779"
            ],
            [
             0.7777777777777778,
             "#6ece58"
            ],
            [
             0.8888888888888888,
             "#b5de2b"
            ],
            [
             1,
             "#fde725"
            ]
           ],
           "sequentialminus": [
            [
             0,
             "#440154"
            ],
            [
             0.1111111111111111,
             "#482878"
            ],
            [
             0.2222222222222222,
             "#3e4989"
            ],
            [
             0.3333333333333333,
             "#31688e"
            ],
            [
             0.4444444444444444,
             "#26828e"
            ],
            [
             0.5555555555555556,
             "#1f9e89"
            ],
            [
             0.6666666666666666,
             "#35b779"
            ],
            [
             0.7777777777777778,
             "#6ece58"
            ],
            [
             0.8888888888888888,
             "#b5de2b"
            ],
            [
             1,
             "#fde725"
            ]
           ]
          },
          "colorway": [
           "#1F77B4",
           "#FF7F0E",
           "#2CA02C",
           "#D62728",
           "#9467BD",
           "#8C564B",
           "#E377C2",
           "#7F7F7F",
           "#BCBD22",
           "#17BECF"
          ],
          "font": {
           "color": "rgb(36,36,36)"
          },
          "geo": {
           "bgcolor": "white",
           "lakecolor": "white",
           "landcolor": "white",
           "showlakes": true,
           "showland": true,
           "subunitcolor": "white"
          },
          "hoverlabel": {
           "align": "left"
          },
          "hovermode": "closest",
          "mapbox": {
           "style": "light"
          },
          "paper_bgcolor": "white",
          "plot_bgcolor": "white",
          "polar": {
           "angularaxis": {
            "gridcolor": "rgb(232,232,232)",
            "linecolor": "rgb(36,36,36)",
            "showgrid": false,
            "showline": true,
            "ticks": "outside"
           },
           "bgcolor": "white",
           "radialaxis": {
            "gridcolor": "rgb(232,232,232)",
            "linecolor": "rgb(36,36,36)",
            "showgrid": false,
            "showline": true,
            "ticks": "outside"
           }
          },
          "scene": {
           "xaxis": {
            "backgroundcolor": "white",
            "gridcolor": "rgb(232,232,232)",
            "gridwidth": 2,
            "linecolor": "rgb(36,36,36)",
            "showbackground": true,
            "showgrid": false,
            "showline": true,
            "ticks": "outside",
            "zeroline": false,
            "zerolinecolor": "rgb(36,36,36)"
           },
           "yaxis": {
            "backgroundcolor": "white",
            "gridcolor": "rgb(232,232,232)",
            "gridwidth": 2,
            "linecolor": "rgb(36,36,36)",
            "showbackground": true,
            "showgrid": false,
            "showline": true,
            "ticks": "outside",
            "zeroline": false,
            "zerolinecolor": "rgb(36,36,36)"
           },
           "zaxis": {
            "backgroundcolor": "white",
            "gridcolor": "rgb(232,232,232)",
            "gridwidth": 2,
            "linecolor": "rgb(36,36,36)",
            "showbackground": true,
            "showgrid": false,
            "showline": true,
            "ticks": "outside",
            "zeroline": false,
            "zerolinecolor": "rgb(36,36,36)"
           }
          },
          "shapedefaults": {
           "fillcolor": "black",
           "line": {
            "width": 0
           },
           "opacity": 0.3
          },
          "ternary": {
           "aaxis": {
            "gridcolor": "rgb(232,232,232)",
            "linecolor": "rgb(36,36,36)",
            "showgrid": false,
            "showline": true,
            "ticks": "outside"
           },
           "baxis": {
            "gridcolor": "rgb(232,232,232)",
            "linecolor": "rgb(36,36,36)",
            "showgrid": false,
            "showline": true,
            "ticks": "outside"
           },
           "bgcolor": "white",
           "caxis": {
            "gridcolor": "rgb(232,232,232)",
            "linecolor": "rgb(36,36,36)",
            "showgrid": false,
            "showline": true,
            "ticks": "outside"
           }
          },
          "title": {
           "x": 0.05
          },
          "xaxis": {
           "automargin": true,
           "gridcolor": "rgb(232,232,232)",
           "linecolor": "rgb(36,36,36)",
           "showgrid": false,
           "showline": true,
           "ticks": "outside",
           "title": {
            "standoff": 15
           },
           "zeroline": false,
           "zerolinecolor": "rgb(36,36,36)"
          },
          "yaxis": {
           "automargin": true,
           "gridcolor": "rgb(232,232,232)",
           "linecolor": "rgb(36,36,36)",
           "showgrid": false,
           "showline": true,
           "ticks": "outside",
           "title": {
            "standoff": 15
           },
           "zeroline": false,
           "zerolinecolor": "rgb(36,36,36)"
          }
         }
        },
        "title": {
         "font": {
          "color": "Black",
          "size": 22
         },
         "text": "<b>Intertopic Distance Map",
         "x": 0.5,
         "xanchor": "center",
         "y": 0.95,
         "yanchor": "top"
        },
        "width": 650,
        "xaxis": {
         "anchor": "y",
         "domain": [
          0,
          1
         ],
         "range": [
          -9.875542306900025,
          24.687654304504395
         ],
         "title": {
          "text": ""
         },
         "visible": false
        },
        "yaxis": {
         "anchor": "x",
         "domain": [
          0,
          1
         ],
         "range": [
          -9.51423487663269,
          24.087262916564942
         ],
         "title": {
          "text": ""
         },
         "visible": false
        }
       }
      }
     },
     "metadata": {},
     "output_type": "display_data"
    }
   ],
   "source": [
    "topic_model.visualize_topics()"
   ]
  },
  {
   "cell_type": "code",
   "execution_count": 11,
   "metadata": {},
   "outputs": [
    {
     "data": {
      "application/vnd.plotly.v1+json": {
       "config": {
        "plotlyServerURL": "https://plot.ly"
       },
       "data": [
        {
         "marker": {
          "color": "#D55E00"
         },
         "orientation": "h",
         "type": "bar",
         "x": [
          0.011742868731778338,
          0.012592141055549337,
          0.01264781091894655,
          0.013678013384004964,
          0.014175062242961754
         ],
         "xaxis": "x",
         "y": [
          "user  ",
          "of  ",
          "in  ",
          "to  ",
          "the  "
         ],
         "yaxis": "y"
        },
        {
         "marker": {
          "color": "#0072B2"
         },
         "orientation": "h",
         "type": "bar",
         "x": [
          0.031213452147541367,
          0.03345724647018061,
          0.034031863024367254,
          0.04009550771981585,
          0.04111992631334846
         ],
         "xaxis": "x2",
         "y": [
          "whore  ",
          "you  ",
          "user  ",
          "cunt  ",
          "bitch  "
         ],
         "yaxis": "y2"
        },
        {
         "marker": {
          "color": "#CC79A7"
         },
         "orientation": "h",
         "type": "bar",
         "x": [
          0.021230571207712007,
          0.032005546563251996,
          0.03758149495731234,
          0.04011142422268873,
          0.08118472752081325
         ],
         "xaxis": "x3",
         "y": [
          "life  ",
          "re  ",
          "your  ",
          "you  ",
          "when  "
         ],
         "yaxis": "y3"
        },
        {
         "marker": {
          "color": "#E69F00"
         },
         "orientation": "h",
         "type": "bar",
         "x": [
          0.017075927107461603,
          0.01758660307913699,
          0.019386919694726813,
          0.0307810311562095,
          0.09850577497690541
         ],
         "xaxis": "x4",
         "y": [
          "user  ",
          "raped  ",
          "woman  ",
          "women  ",
          "rape  "
         ],
         "yaxis": "y4"
        },
        {
         "marker": {
          "color": "#56B4E9"
         },
         "orientation": "h",
         "type": "bar",
         "x": [
          0.023245710290106067,
          0.025500073596496167,
          0.03819907830516906,
          0.05345454737191083,
          0.12051663993153236
         ],
         "xaxis": "x5",
         "y": [
          "my  ",
          "you  ",
          "bitch  ",
          "hoes  ",
          "hoe  "
         ],
         "yaxis": "y5"
        },
        {
         "marker": {
          "color": "#009E73"
         },
         "orientation": "h",
         "type": "bar",
         "x": [
          0.03498572042469349,
          0.03574611635692255,
          0.04511477409703141,
          0.046656032865068246,
          0.053825087593960874
         ],
         "xaxis": "x6",
         "y": [
          "amp  ",
          "migrants  ",
          "illegal  ",
          "delhi  ",
          "india  "
         ],
         "yaxis": "y6"
        },
        {
         "marker": {
          "color": "#F0E442"
         },
         "orientation": "h",
         "type": "bar",
         "x": [
          0.014575485215739361,
          0.014669160076929847,
          0.0419592474514959,
          0.04510291819071987,
          0.18214193083941765
         ],
         "xaxis": "x7",
         "y": [
          "stupid  ",
          "re  ",
          "user  ",
          "you  ",
          "skank  "
         ],
         "yaxis": "y7"
        },
        {
         "marker": {
          "color": "#D55E00"
         },
         "orientation": "h",
         "type": "bar",
         "x": [
          0.02532726671925487,
          0.025434951659538907,
          0.025557706161585064,
          0.04582559765956126,
          0.07293107649475775
         ],
         "xaxis": "x8",
         "y": [
          "if  ",
          "your  ",
          "you  ",
          "my  ",
          "dick  "
         ],
         "yaxis": "y8"
        }
       ],
       "layout": {
        "annotations": [
         {
          "font": {
           "size": 16
          },
          "showarrow": false,
          "text": "Topic 0",
          "x": 0.0875,
          "xanchor": "center",
          "xref": "paper",
          "y": 1,
          "yanchor": "bottom",
          "yref": "paper"
         },
         {
          "font": {
           "size": 16
          },
          "showarrow": false,
          "text": "Topic 1",
          "x": 0.36250000000000004,
          "xanchor": "center",
          "xref": "paper",
          "y": 1,
          "yanchor": "bottom",
          "yref": "paper"
         },
         {
          "font": {
           "size": 16
          },
          "showarrow": false,
          "text": "Topic 2",
          "x": 0.6375000000000001,
          "xanchor": "center",
          "xref": "paper",
          "y": 1,
          "yanchor": "bottom",
          "yref": "paper"
         },
         {
          "font": {
           "size": 16
          },
          "showarrow": false,
          "text": "Topic 3",
          "x": 0.9125,
          "xanchor": "center",
          "xref": "paper",
          "y": 1,
          "yanchor": "bottom",
          "yref": "paper"
         },
         {
          "font": {
           "size": 16
          },
          "showarrow": false,
          "text": "Topic 4",
          "x": 0.0875,
          "xanchor": "center",
          "xref": "paper",
          "y": 0.4,
          "yanchor": "bottom",
          "yref": "paper"
         },
         {
          "font": {
           "size": 16
          },
          "showarrow": false,
          "text": "Topic 5",
          "x": 0.36250000000000004,
          "xanchor": "center",
          "xref": "paper",
          "y": 0.4,
          "yanchor": "bottom",
          "yref": "paper"
         },
         {
          "font": {
           "size": 16
          },
          "showarrow": false,
          "text": "Topic 6",
          "x": 0.6375000000000001,
          "xanchor": "center",
          "xref": "paper",
          "y": 0.4,
          "yanchor": "bottom",
          "yref": "paper"
         },
         {
          "font": {
           "size": 16
          },
          "showarrow": false,
          "text": "Topic 7",
          "x": 0.9125,
          "xanchor": "center",
          "xref": "paper",
          "y": 0.4,
          "yanchor": "bottom",
          "yref": "paper"
         }
        ],
        "height": 500,
        "hoverlabel": {
         "bgcolor": "white",
         "font": {
          "family": "Rockwell",
          "size": 16
         }
        },
        "showlegend": false,
        "template": {
         "data": {
          "bar": [
           {
            "error_x": {
             "color": "#2a3f5f"
            },
            "error_y": {
             "color": "#2a3f5f"
            },
            "marker": {
             "line": {
              "color": "white",
              "width": 0.5
             },
             "pattern": {
              "fillmode": "overlay",
              "size": 10,
              "solidity": 0.2
             }
            },
            "type": "bar"
           }
          ],
          "barpolar": [
           {
            "marker": {
             "line": {
              "color": "white",
              "width": 0.5
             },
             "pattern": {
              "fillmode": "overlay",
              "size": 10,
              "solidity": 0.2
             }
            },
            "type": "barpolar"
           }
          ],
          "carpet": [
           {
            "aaxis": {
             "endlinecolor": "#2a3f5f",
             "gridcolor": "#C8D4E3",
             "linecolor": "#C8D4E3",
             "minorgridcolor": "#C8D4E3",
             "startlinecolor": "#2a3f5f"
            },
            "baxis": {
             "endlinecolor": "#2a3f5f",
             "gridcolor": "#C8D4E3",
             "linecolor": "#C8D4E3",
             "minorgridcolor": "#C8D4E3",
             "startlinecolor": "#2a3f5f"
            },
            "type": "carpet"
           }
          ],
          "choropleth": [
           {
            "colorbar": {
             "outlinewidth": 0,
             "ticks": ""
            },
            "type": "choropleth"
           }
          ],
          "contour": [
           {
            "colorbar": {
             "outlinewidth": 0,
             "ticks": ""
            },
            "colorscale": [
             [
              0,
              "#0d0887"
             ],
             [
              0.1111111111111111,
              "#46039f"
             ],
             [
              0.2222222222222222,
              "#7201a8"
             ],
             [
              0.3333333333333333,
              "#9c179e"
             ],
             [
              0.4444444444444444,
              "#bd3786"
             ],
             [
              0.5555555555555556,
              "#d8576b"
             ],
             [
              0.6666666666666666,
              "#ed7953"
             ],
             [
              0.7777777777777778,
              "#fb9f3a"
             ],
             [
              0.8888888888888888,
              "#fdca26"
             ],
             [
              1,
              "#f0f921"
             ]
            ],
            "type": "contour"
           }
          ],
          "contourcarpet": [
           {
            "colorbar": {
             "outlinewidth": 0,
             "ticks": ""
            },
            "type": "contourcarpet"
           }
          ],
          "heatmap": [
           {
            "colorbar": {
             "outlinewidth": 0,
             "ticks": ""
            },
            "colorscale": [
             [
              0,
              "#0d0887"
             ],
             [
              0.1111111111111111,
              "#46039f"
             ],
             [
              0.2222222222222222,
              "#7201a8"
             ],
             [
              0.3333333333333333,
              "#9c179e"
             ],
             [
              0.4444444444444444,
              "#bd3786"
             ],
             [
              0.5555555555555556,
              "#d8576b"
             ],
             [
              0.6666666666666666,
              "#ed7953"
             ],
             [
              0.7777777777777778,
              "#fb9f3a"
             ],
             [
              0.8888888888888888,
              "#fdca26"
             ],
             [
              1,
              "#f0f921"
             ]
            ],
            "type": "heatmap"
           }
          ],
          "heatmapgl": [
           {
            "colorbar": {
             "outlinewidth": 0,
             "ticks": ""
            },
            "colorscale": [
             [
              0,
              "#0d0887"
             ],
             [
              0.1111111111111111,
              "#46039f"
             ],
             [
              0.2222222222222222,
              "#7201a8"
             ],
             [
              0.3333333333333333,
              "#9c179e"
             ],
             [
              0.4444444444444444,
              "#bd3786"
             ],
             [
              0.5555555555555556,
              "#d8576b"
             ],
             [
              0.6666666666666666,
              "#ed7953"
             ],
             [
              0.7777777777777778,
              "#fb9f3a"
             ],
             [
              0.8888888888888888,
              "#fdca26"
             ],
             [
              1,
              "#f0f921"
             ]
            ],
            "type": "heatmapgl"
           }
          ],
          "histogram": [
           {
            "marker": {
             "pattern": {
              "fillmode": "overlay",
              "size": 10,
              "solidity": 0.2
             }
            },
            "type": "histogram"
           }
          ],
          "histogram2d": [
           {
            "colorbar": {
             "outlinewidth": 0,
             "ticks": ""
            },
            "colorscale": [
             [
              0,
              "#0d0887"
             ],
             [
              0.1111111111111111,
              "#46039f"
             ],
             [
              0.2222222222222222,
              "#7201a8"
             ],
             [
              0.3333333333333333,
              "#9c179e"
             ],
             [
              0.4444444444444444,
              "#bd3786"
             ],
             [
              0.5555555555555556,
              "#d8576b"
             ],
             [
              0.6666666666666666,
              "#ed7953"
             ],
             [
              0.7777777777777778,
              "#fb9f3a"
             ],
             [
              0.8888888888888888,
              "#fdca26"
             ],
             [
              1,
              "#f0f921"
             ]
            ],
            "type": "histogram2d"
           }
          ],
          "histogram2dcontour": [
           {
            "colorbar": {
             "outlinewidth": 0,
             "ticks": ""
            },
            "colorscale": [
             [
              0,
              "#0d0887"
             ],
             [
              0.1111111111111111,
              "#46039f"
             ],
             [
              0.2222222222222222,
              "#7201a8"
             ],
             [
              0.3333333333333333,
              "#9c179e"
             ],
             [
              0.4444444444444444,
              "#bd3786"
             ],
             [
              0.5555555555555556,
              "#d8576b"
             ],
             [
              0.6666666666666666,
              "#ed7953"
             ],
             [
              0.7777777777777778,
              "#fb9f3a"
             ],
             [
              0.8888888888888888,
              "#fdca26"
             ],
             [
              1,
              "#f0f921"
             ]
            ],
            "type": "histogram2dcontour"
           }
          ],
          "mesh3d": [
           {
            "colorbar": {
             "outlinewidth": 0,
             "ticks": ""
            },
            "type": "mesh3d"
           }
          ],
          "parcoords": [
           {
            "line": {
             "colorbar": {
              "outlinewidth": 0,
              "ticks": ""
             }
            },
            "type": "parcoords"
           }
          ],
          "pie": [
           {
            "automargin": true,
            "type": "pie"
           }
          ],
          "scatter": [
           {
            "marker": {
             "colorbar": {
              "outlinewidth": 0,
              "ticks": ""
             }
            },
            "type": "scatter"
           }
          ],
          "scatter3d": [
           {
            "line": {
             "colorbar": {
              "outlinewidth": 0,
              "ticks": ""
             }
            },
            "marker": {
             "colorbar": {
              "outlinewidth": 0,
              "ticks": ""
             }
            },
            "type": "scatter3d"
           }
          ],
          "scattercarpet": [
           {
            "marker": {
             "colorbar": {
              "outlinewidth": 0,
              "ticks": ""
             }
            },
            "type": "scattercarpet"
           }
          ],
          "scattergeo": [
           {
            "marker": {
             "colorbar": {
              "outlinewidth": 0,
              "ticks": ""
             }
            },
            "type": "scattergeo"
           }
          ],
          "scattergl": [
           {
            "marker": {
             "colorbar": {
              "outlinewidth": 0,
              "ticks": ""
             }
            },
            "type": "scattergl"
           }
          ],
          "scattermapbox": [
           {
            "marker": {
             "colorbar": {
              "outlinewidth": 0,
              "ticks": ""
             }
            },
            "type": "scattermapbox"
           }
          ],
          "scatterpolar": [
           {
            "marker": {
             "colorbar": {
              "outlinewidth": 0,
              "ticks": ""
             }
            },
            "type": "scatterpolar"
           }
          ],
          "scatterpolargl": [
           {
            "marker": {
             "colorbar": {
              "outlinewidth": 0,
              "ticks": ""
             }
            },
            "type": "scatterpolargl"
           }
          ],
          "scatterternary": [
           {
            "marker": {
             "colorbar": {
              "outlinewidth": 0,
              "ticks": ""
             }
            },
            "type": "scatterternary"
           }
          ],
          "surface": [
           {
            "colorbar": {
             "outlinewidth": 0,
             "ticks": ""
            },
            "colorscale": [
             [
              0,
              "#0d0887"
             ],
             [
              0.1111111111111111,
              "#46039f"
             ],
             [
              0.2222222222222222,
              "#7201a8"
             ],
             [
              0.3333333333333333,
              "#9c179e"
             ],
             [
              0.4444444444444444,
              "#bd3786"
             ],
             [
              0.5555555555555556,
              "#d8576b"
             ],
             [
              0.6666666666666666,
              "#ed7953"
             ],
             [
              0.7777777777777778,
              "#fb9f3a"
             ],
             [
              0.8888888888888888,
              "#fdca26"
             ],
             [
              1,
              "#f0f921"
             ]
            ],
            "type": "surface"
           }
          ],
          "table": [
           {
            "cells": {
             "fill": {
              "color": "#EBF0F8"
             },
             "line": {
              "color": "white"
             }
            },
            "header": {
             "fill": {
              "color": "#C8D4E3"
             },
             "line": {
              "color": "white"
             }
            },
            "type": "table"
           }
          ]
         },
         "layout": {
          "annotationdefaults": {
           "arrowcolor": "#2a3f5f",
           "arrowhead": 0,
           "arrowwidth": 1
          },
          "autotypenumbers": "strict",
          "coloraxis": {
           "colorbar": {
            "outlinewidth": 0,
            "ticks": ""
           }
          },
          "colorscale": {
           "diverging": [
            [
             0,
             "#8e0152"
            ],
            [
             0.1,
             "#c51b7d"
            ],
            [
             0.2,
             "#de77ae"
            ],
            [
             0.3,
             "#f1b6da"
            ],
            [
             0.4,
             "#fde0ef"
            ],
            [
             0.5,
             "#f7f7f7"
            ],
            [
             0.6,
             "#e6f5d0"
            ],
            [
             0.7,
             "#b8e186"
            ],
            [
             0.8,
             "#7fbc41"
            ],
            [
             0.9,
             "#4d9221"
            ],
            [
             1,
             "#276419"
            ]
           ],
           "sequential": [
            [
             0,
             "#0d0887"
            ],
            [
             0.1111111111111111,
             "#46039f"
            ],
            [
             0.2222222222222222,
             "#7201a8"
            ],
            [
             0.3333333333333333,
             "#9c179e"
            ],
            [
             0.4444444444444444,
             "#bd3786"
            ],
            [
             0.5555555555555556,
             "#d8576b"
            ],
            [
             0.6666666666666666,
             "#ed7953"
            ],
            [
             0.7777777777777778,
             "#fb9f3a"
            ],
            [
             0.8888888888888888,
             "#fdca26"
            ],
            [
             1,
             "#f0f921"
            ]
           ],
           "sequentialminus": [
            [
             0,
             "#0d0887"
            ],
            [
             0.1111111111111111,
             "#46039f"
            ],
            [
             0.2222222222222222,
             "#7201a8"
            ],
            [
             0.3333333333333333,
             "#9c179e"
            ],
            [
             0.4444444444444444,
             "#bd3786"
            ],
            [
             0.5555555555555556,
             "#d8576b"
            ],
            [
             0.6666666666666666,
             "#ed7953"
            ],
            [
             0.7777777777777778,
             "#fb9f3a"
            ],
            [
             0.8888888888888888,
             "#fdca26"
            ],
            [
             1,
             "#f0f921"
            ]
           ]
          },
          "colorway": [
           "#636efa",
           "#EF553B",
           "#00cc96",
           "#ab63fa",
           "#FFA15A",
           "#19d3f3",
           "#FF6692",
           "#B6E880",
           "#FF97FF",
           "#FECB52"
          ],
          "font": {
           "color": "#2a3f5f"
          },
          "geo": {
           "bgcolor": "white",
           "lakecolor": "white",
           "landcolor": "white",
           "showlakes": true,
           "showland": true,
           "subunitcolor": "#C8D4E3"
          },
          "hoverlabel": {
           "align": "left"
          },
          "hovermode": "closest",
          "mapbox": {
           "style": "light"
          },
          "paper_bgcolor": "white",
          "plot_bgcolor": "white",
          "polar": {
           "angularaxis": {
            "gridcolor": "#EBF0F8",
            "linecolor": "#EBF0F8",
            "ticks": ""
           },
           "bgcolor": "white",
           "radialaxis": {
            "gridcolor": "#EBF0F8",
            "linecolor": "#EBF0F8",
            "ticks": ""
           }
          },
          "scene": {
           "xaxis": {
            "backgroundcolor": "white",
            "gridcolor": "#DFE8F3",
            "gridwidth": 2,
            "linecolor": "#EBF0F8",
            "showbackground": true,
            "ticks": "",
            "zerolinecolor": "#EBF0F8"
           },
           "yaxis": {
            "backgroundcolor": "white",
            "gridcolor": "#DFE8F3",
            "gridwidth": 2,
            "linecolor": "#EBF0F8",
            "showbackground": true,
            "ticks": "",
            "zerolinecolor": "#EBF0F8"
           },
           "zaxis": {
            "backgroundcolor": "white",
            "gridcolor": "#DFE8F3",
            "gridwidth": 2,
            "linecolor": "#EBF0F8",
            "showbackground": true,
            "ticks": "",
            "zerolinecolor": "#EBF0F8"
           }
          },
          "shapedefaults": {
           "line": {
            "color": "#2a3f5f"
           }
          },
          "ternary": {
           "aaxis": {
            "gridcolor": "#DFE8F3",
            "linecolor": "#A2B1C6",
            "ticks": ""
           },
           "baxis": {
            "gridcolor": "#DFE8F3",
            "linecolor": "#A2B1C6",
            "ticks": ""
           },
           "bgcolor": "white",
           "caxis": {
            "gridcolor": "#DFE8F3",
            "linecolor": "#A2B1C6",
            "ticks": ""
           }
          },
          "title": {
           "x": 0.05
          },
          "xaxis": {
           "automargin": true,
           "gridcolor": "#EBF0F8",
           "linecolor": "#EBF0F8",
           "ticks": "",
           "title": {
            "standoff": 15
           },
           "zerolinecolor": "#EBF0F8",
           "zerolinewidth": 2
          },
          "yaxis": {
           "automargin": true,
           "gridcolor": "#EBF0F8",
           "linecolor": "#EBF0F8",
           "ticks": "",
           "title": {
            "standoff": 15
           },
           "zerolinecolor": "#EBF0F8",
           "zerolinewidth": 2
          }
         }
        },
        "title": {
         "font": {
          "color": "Black",
          "size": 22
         },
         "text": "<b>Topic Word Scores",
         "x": 0.5,
         "xanchor": "center",
         "yanchor": "top"
        },
        "width": 1000,
        "xaxis": {
         "anchor": "y",
         "domain": [
          0,
          0.175
         ],
         "showgrid": true
        },
        "xaxis2": {
         "anchor": "y2",
         "domain": [
          0.275,
          0.45
         ],
         "showgrid": true
        },
        "xaxis3": {
         "anchor": "y3",
         "domain": [
          0.55,
          0.7250000000000001
         ],
         "showgrid": true
        },
        "xaxis4": {
         "anchor": "y4",
         "domain": [
          0.825,
          1
         ],
         "showgrid": true
        },
        "xaxis5": {
         "anchor": "y5",
         "domain": [
          0,
          0.175
         ],
         "showgrid": true
        },
        "xaxis6": {
         "anchor": "y6",
         "domain": [
          0.275,
          0.45
         ],
         "showgrid": true
        },
        "xaxis7": {
         "anchor": "y7",
         "domain": [
          0.55,
          0.7250000000000001
         ],
         "showgrid": true
        },
        "xaxis8": {
         "anchor": "y8",
         "domain": [
          0.825,
          1
         ],
         "showgrid": true
        },
        "yaxis": {
         "anchor": "x",
         "domain": [
          0.6000000000000001,
          1
         ],
         "showgrid": true
        },
        "yaxis2": {
         "anchor": "x2",
         "domain": [
          0.6000000000000001,
          1
         ],
         "showgrid": true
        },
        "yaxis3": {
         "anchor": "x3",
         "domain": [
          0.6000000000000001,
          1
         ],
         "showgrid": true
        },
        "yaxis4": {
         "anchor": "x4",
         "domain": [
          0.6000000000000001,
          1
         ],
         "showgrid": true
        },
        "yaxis5": {
         "anchor": "x5",
         "domain": [
          0,
          0.4
         ],
         "showgrid": true
        },
        "yaxis6": {
         "anchor": "x6",
         "domain": [
          0,
          0.4
         ],
         "showgrid": true
        },
        "yaxis7": {
         "anchor": "x7",
         "domain": [
          0,
          0.4
         ],
         "showgrid": true
        },
        "yaxis8": {
         "anchor": "x8",
         "domain": [
          0,
          0.4
         ],
         "showgrid": true
        }
       }
      }
     },
     "metadata": {},
     "output_type": "display_data"
    }
   ],
   "source": [
    "topic_model.visualize_barchart()"
   ]
  },
  {
   "cell_type": "code",
   "execution_count": 12,
   "metadata": {},
   "outputs": [
    {
     "data": {
      "text/html": [
       "<div>\n",
       "<style scoped>\n",
       "    .dataframe tbody tr th:only-of-type {\n",
       "        vertical-align: middle;\n",
       "    }\n",
       "\n",
       "    .dataframe tbody tr th {\n",
       "        vertical-align: top;\n",
       "    }\n",
       "\n",
       "    .dataframe thead th {\n",
       "        text-align: right;\n",
       "    }\n",
       "</style>\n",
       "<table border=\"1\" class=\"dataframe\">\n",
       "  <thead>\n",
       "    <tr style=\"text-align: right;\">\n",
       "      <th></th>\n",
       "      <th>Topic</th>\n",
       "      <th>Count</th>\n",
       "      <th>Name</th>\n",
       "    </tr>\n",
       "  </thead>\n",
       "  <tbody>\n",
       "    <tr>\n",
       "      <th>0</th>\n",
       "      <td>-1</td>\n",
       "      <td>1797</td>\n",
       "      <td>-1_bitch_you_women_men</td>\n",
       "    </tr>\n",
       "    <tr>\n",
       "      <th>1</th>\n",
       "      <td>0</td>\n",
       "      <td>4173</td>\n",
       "      <td>0_the_to_in_of</td>\n",
       "    </tr>\n",
       "    <tr>\n",
       "      <th>2</th>\n",
       "      <td>1</td>\n",
       "      <td>363</td>\n",
       "      <td>1_bitch_cunt_user_you</td>\n",
       "    </tr>\n",
       "    <tr>\n",
       "      <th>3</th>\n",
       "      <td>2</td>\n",
       "      <td>331</td>\n",
       "      <td>2_when_you_your_re</td>\n",
       "    </tr>\n",
       "    <tr>\n",
       "      <th>4</th>\n",
       "      <td>3</td>\n",
       "      <td>274</td>\n",
       "      <td>3_rape_women_woman_raped</td>\n",
       "    </tr>\n",
       "    <tr>\n",
       "      <th>...</th>\n",
       "      <td>...</td>\n",
       "      <td>...</td>\n",
       "      <td>...</td>\n",
       "    </tr>\n",
       "    <tr>\n",
       "      <th>60</th>\n",
       "      <td>59</td>\n",
       "      <td>11</td>\n",
       "      <td>59_nyc_brain_god_women</td>\n",
       "    </tr>\n",
       "    <tr>\n",
       "      <th>61</th>\n",
       "      <td>60</td>\n",
       "      <td>10</td>\n",
       "      <td>60_metoo_victim_rape_woman</td>\n",
       "    </tr>\n",
       "    <tr>\n",
       "      <th>62</th>\n",
       "      <td>61</td>\n",
       "      <td>10</td>\n",
       "      <td>61_mom_katie_whore_dad</td>\n",
       "    </tr>\n",
       "    <tr>\n",
       "      <th>63</th>\n",
       "      <td>62</td>\n",
       "      <td>10</td>\n",
       "      <td>62_cough_fucking_buy_whores</td>\n",
       "    </tr>\n",
       "    <tr>\n",
       "      <th>64</th>\n",
       "      <td>63</td>\n",
       "      <td>10</td>\n",
       "      <td>63_ask_unfunny_delight_unfollow</td>\n",
       "    </tr>\n",
       "  </tbody>\n",
       "</table>\n",
       "<p>65 rows × 3 columns</p>\n",
       "</div>"
      ],
      "text/plain": [
       "    Topic  Count                             Name\n",
       "0      -1   1797           -1_bitch_you_women_men\n",
       "1       0   4173                   0_the_to_in_of\n",
       "2       1    363            1_bitch_cunt_user_you\n",
       "3       2    331               2_when_you_your_re\n",
       "4       3    274         3_rape_women_woman_raped\n",
       "..    ...    ...                              ...\n",
       "60     59     11           59_nyc_brain_god_women\n",
       "61     60     10       60_metoo_victim_rape_woman\n",
       "62     61     10           61_mom_katie_whore_dad\n",
       "63     62     10      62_cough_fucking_buy_whores\n",
       "64     63     10  63_ask_unfunny_delight_unfollow\n",
       "\n",
       "[65 rows x 3 columns]"
      ]
     },
     "execution_count": 12,
     "metadata": {},
     "output_type": "execute_result"
    }
   ],
   "source": [
    "topic_model.get_topic_info()"
   ]
  },
  {
   "cell_type": "markdown",
   "metadata": {},
   "source": [
    "**What do you think about the results?**\n",
    "\n",
    "The results are quite **expected**. Most of them are related to **juron, insult and vulgarity**. We still have some topics on basic words that are not really important for us such as the topic 0 and 2 with \"the\", \"to\", \"in\" or \"you\".\n",
    "\n",
    "\n",
    "**How do you think it could impact a model trained on these data?**\n",
    "\n",
    "It could impact the model because the model will learn to classify a tweet as hate if it contains some of these words. It could also impact the model because the model will learn to classify a tweet as hate if it contains some of these topics."
   ]
  },
  {
   "cell_type": "markdown",
   "metadata": {},
   "source": [
    "---\n",
    "\n",
    "## Evaluate a model"
   ]
  },
  {
   "cell_type": "markdown",
   "metadata": {},
   "source": [
    "We wanted to use a RoBERTa model on our dataset, but RoBERTa has been train on 2019 data, which do not include any tweeet.  \n",
    "Fortunately, we can found a RoBERTa model trained on the same dataset as our dataset [here](https://huggingface.co/cardiffnlp/twitter-roberta-base-hate).\n"
   ]
  },
  {
   "cell_type": "code",
   "execution_count": 13,
   "metadata": {},
   "outputs": [],
   "source": [
    "from transformers import AutoModelForSequenceClassification\n",
    "from transformers import AutoTokenizer\n",
    "import numpy as np\n",
    "from scipy.special import softmax\n",
    "import csv\n",
    "import torch\n",
    "from sklearn.metrics import precision_score, f1_score, recall_score, accuracy_score\n",
    "from tqdm import tqdm\n",
    "import urllib.request"
   ]
  },
  {
   "cell_type": "code",
   "execution_count": 14,
   "metadata": {},
   "outputs": [],
   "source": [
    "# Preprocess text (username and link placeholders)\n",
    "def preprocess(text):\n",
    "    new_text = []\n",
    "    for t in text.split(\" \"):\n",
    "        t = '@user' if t.startswith('@') and len(t) > 1 else t\n",
    "        t = 'http' if t.startswith('http') else t\n",
    "        new_text.append(t)\n",
    "    return \" \".join(new_text)"
   ]
  },
  {
   "cell_type": "code",
   "execution_count": 15,
   "metadata": {},
   "outputs": [
    {
     "name": "stderr",
     "output_type": "stream",
     "text": [
      "Downloading: 100%|██████████| 588/588 [00:00<00:00, 594kB/s]\n",
      "Downloading: 100%|██████████| 899k/899k [00:00<00:00, 1.65MB/s]\n",
      "Downloading: 100%|██████████| 456k/456k [00:00<00:00, 1.02MB/s]\n",
      "Downloading: 100%|██████████| 150/150 [00:00<00:00, 129kB/s]\n"
     ]
    }
   ],
   "source": [
    "MODEL = f\"cardiffnlp/twitter-roberta-base-hate\"\n",
    "\n",
    "tokenizer = AutoTokenizer.from_pretrained(MODEL)"
   ]
  },
  {
   "cell_type": "code",
   "execution_count": 16,
   "metadata": {},
   "outputs": [],
   "source": [
    "# download label mapping\n",
    "labels=[]\n",
    "mapping_link = f\"https://raw.githubusercontent.com/cardiffnlp/tweeteval/main/datasets/hate/mapping.txt\"\n",
    "with urllib.request.urlopen(mapping_link) as f:\n",
    "    html = f.read().decode('utf-8').split(\"\\n\")\n",
    "    csvreader = csv.reader(html, delimiter='\\t')\n",
    "labels = [row[1] for row in csvreader if len(row) > 1]"
   ]
  },
  {
   "cell_type": "code",
   "execution_count": 17,
   "metadata": {},
   "outputs": [
    {
     "name": "stderr",
     "output_type": "stream",
     "text": [
      "Downloading: 100%|██████████| 499M/499M [00:08<00:00, 56.1MB/s] \n"
     ]
    }
   ],
   "source": [
    "# PT\n",
    "model = AutoModelForSequenceClassification.from_pretrained(MODEL)\n",
    "#model = TFAutoModelForSequenceClassification.from_pretrained(MODEL)\n",
    "model.save_pretrained(MODEL)"
   ]
  },
  {
   "cell_type": "markdown",
   "metadata": {},
   "source": [
    "Now let's evaluate the model on the `test` split."
   ]
  },
  {
   "cell_type": "code",
   "execution_count": 18,
   "metadata": {},
   "outputs": [
    {
     "name": "stderr",
     "output_type": "stream",
     "text": [
      "100%|██████████| 2970/2970 [02:50<00:00, 17.41it/s]"
     ]
    },
    {
     "name": "stdout",
     "output_type": "stream",
     "text": [
      "Precision: 0.6944830293835869\n",
      "Recall: 0.6271265160841606\n",
      "F1: 0.5547114323640363\n",
      "Accuracy: 0.5767676767676768\n"
     ]
    },
    {
     "name": "stderr",
     "output_type": "stream",
     "text": [
      "\n"
     ]
    }
   ],
   "source": [
    "with torch.no_grad():\n",
    "    y_true = dataset['test']['label']\n",
    "    y_pred = []\n",
    "    for tweet in tqdm(dataset['test']['text']):\n",
    "        inputs = tokenizer(preprocess(tweet), return_tensors=\"pt\")\n",
    "        outputs = model(**inputs)\n",
    "        logits = outputs[0]\n",
    "        probs = softmax(logits.numpy(), axis=1)\n",
    "        y_pred.append(np.argmax(probs))\n",
    "    print(f\"Precision: {precision_score(y_true, y_pred, average='macro')}\")\n",
    "    print(f\"Recall: {recall_score(y_true, y_pred, average='macro')}\")\n",
    "    print(f\"F1: {f1_score(y_true, y_pred, average='macro')}\")\n",
    "    print(f\"Accuracy: {accuracy_score(y_true, y_pred)}\")\n",
    "    "
   ]
  },
  {
   "cell_type": "markdown",
   "metadata": {},
   "source": [
    "We can observe that the model is not very good. It has a precision of 0.69, a recall of 0.62 and an F1-score of 0.55."
   ]
  },
  {
   "cell_type": "markdown",
   "metadata": {},
   "source": [
    "Now let's extract the top 50 tweets the model is most confident about being hate tweets, the top 50 in the neutral class, and the top 50 the model is most uncertain about."
   ]
  },
  {
   "cell_type": "code",
   "execution_count": 19,
   "metadata": {},
   "outputs": [
    {
     "name": "stderr",
     "output_type": "stream",
     "text": [
      "100%|██████████| 2970/2970 [03:03<00:00, 16.23it/s]\n"
     ]
    }
   ],
   "source": [
    "# Extract top 50 tweets the model is most confident about being hate tweets\n",
    "\n",
    "tweets_hate_rate = {}\n",
    "with torch.no_grad():\n",
    "    for tweet in tqdm(dataset['test']['text']):\n",
    "        inputs = tokenizer(preprocess(tweet), return_tensors=\"pt\")\n",
    "        outputs = model(**inputs)\n",
    "        logits = outputs[0]\n",
    "        probs = softmax(logits.numpy(), axis=1)\n",
    "        tweets_hate_rate[tweet] = probs[0][1]\n",
    "        "
   ]
  },
  {
   "cell_type": "code",
   "execution_count": 20,
   "metadata": {},
   "outputs": [],
   "source": [
    "top_50_best_rate = sorted(tweets_hate_rate.items(), key=lambda x: x[1], reverse=True)[:50]\n",
    "top_50_worst_rate = sorted(tweets_hate_rate.items(), key=lambda x: x[1], reverse=False)[:50]\n",
    "top_50_mid_rate = sorted(tweets_hate_rate.items(), key=lambda x: x[1], reverse=False)[len(tweets_hate_rate)//2-25:len(tweets_hate_rate)//2+25]"
   ]
  },
  {
   "cell_type": "code",
   "execution_count": 21,
   "metadata": {},
   "outputs": [
    {
     "data": {
      "text/html": [
       "<div>\n",
       "<style scoped>\n",
       "    .dataframe tbody tr th:only-of-type {\n",
       "        vertical-align: middle;\n",
       "    }\n",
       "\n",
       "    .dataframe tbody tr th {\n",
       "        vertical-align: top;\n",
       "    }\n",
       "\n",
       "    .dataframe thead th {\n",
       "        text-align: right;\n",
       "    }\n",
       "</style>\n",
       "<table border=\"1\" class=\"dataframe\">\n",
       "  <thead>\n",
       "    <tr style=\"text-align: right;\">\n",
       "      <th></th>\n",
       "      <th>Tweet</th>\n",
       "      <th>Hate Rate</th>\n",
       "    </tr>\n",
       "  </thead>\n",
       "  <tbody>\n",
       "    <tr>\n",
       "      <th>0</th>\n",
       "      <td>@user @user @user @user Good shut it all down let's get this wall built, if was up to me illegals would leave this country by Catapulting not ICE. #DeportByCatapulting #StopOpenBorders #BuildThatWall #MAGA</td>\n",
       "      <td>0.989568</td>\n",
       "    </tr>\n",
       "    <tr>\n",
       "      <th>1</th>\n",
       "      <td>Think about that folks, keep them out of USA @user @user #BuildTheWall #LockHerUp #EndDACA</td>\n",
       "      <td>0.989146</td>\n",
       "    </tr>\n",
       "    <tr>\n",
       "      <th>2</th>\n",
       "      <td>Mollie Tibbetts And The Low Illegal Crime Rate Lie - American Thinker #MollieTibbetts #BuildTheDamnWall #BuildTheWall #BuildTheWallNow #BuildThatWall #MAGA #RedNationRising #KeepAmericaGreat #KAG2020 #KAG TW502</td>\n",
       "      <td>0.988874</td>\n",
       "    </tr>\n",
       "    <tr>\n",
       "      <th>3</th>\n",
       "      <td>@user @user @user @user @user @user #BuildTheWallNow @user @user BEFORE the Midterm elections #BuildTheDamnWall #EndChainMigration #MandateEverify #NoAmnesty #KeepPheonixPromise National Security</td>\n",
       "      <td>0.988597</td>\n",
       "    </tr>\n",
       "    <tr>\n",
       "      <th>4</th>\n",
       "      <td>#DeportThemAll The only money any illegals should recieve should be a ticket back to where they are from! Nothing More!#EndIllegalImmigration #EndDACA#EndChainMigration #NoAmnesty#EndVisaLottery #EndSanctuaryCities #NoWelfareForImmigrants#AmericaFirst #BuildTheWall</td>\n",
       "      <td>0.988451</td>\n",
       "    </tr>\n",
       "    <tr>\n",
       "      <th>5</th>\n",
       "      <td>They just keep on coming. Build that damn wall and deport. Please! @user #BuildThatWall</td>\n",
       "      <td>0.988386</td>\n",
       "    </tr>\n",
       "    <tr>\n",
       "      <th>6</th>\n",
       "      <td>@user @user Absolutely! No DACA, No Amnesty, No Sanctury Cities, Deport All Illegal Aliens, Build The Wall! #MAGA #2A #NoDACA #DeportThemAll #BuildTheWall #OBAMAgate #StandWithICE #PEDOgate #LockThemAllUp #BanIslam #TRUMP2020 @user @user</td>\n",
       "      <td>0.988370</td>\n",
       "    </tr>\n",
       "    <tr>\n",
       "      <th>7</th>\n",
       "      <td>@user Yes so we need to BUILD The Wall! Blood is on your hands evertime an MS13 gang member or DUI illegal kills an American! #BuildTheWall #FundTheWall #EndVisaLottery #EnactEVerify #EndChainMigration 183 billion yearly taxpayers pay for illegals! Go home!</td>\n",
       "      <td>0.988178</td>\n",
       "    </tr>\n",
       "    <tr>\n",
       "      <th>8</th>\n",
       "      <td>@user #BuildTheDamnWall #BuildThatDamnWall #BuildThatWall #BuildTheWall4MollieTibbetts #BuildTheWallNow Need I say more? Solves ALL the problems!!</td>\n",
       "      <td>0.987793</td>\n",
       "    </tr>\n",
       "    <tr>\n",
       "      <th>9</th>\n",
       "      <td>@user Its time to give hunting licenses to border homes and make it year round open season on this invading force! Free guns and ammo to those willing to defend our borders!!! #BuildThatWall #BuildThatDamnWallNow</td>\n",
       "      <td>0.987752</td>\n",
       "    </tr>\n",
       "    <tr>\n",
       "      <th>10</th>\n",
       "      <td>@user Illegals can reunite back across the border in Mexico! We dont need the extra crime that the illegal or refugees invaders bring to America.#NoDACA #NoVisaLottery #NoBenefits4Illegals #NoChainMigration #BuildTheWall #E-Verify @user @user @user</td>\n",
       "      <td>0.987656</td>\n",
       "    </tr>\n",
       "    <tr>\n",
       "      <th>11</th>\n",
       "      <td>#BuildTheWall National Security @user @user @user @user @user @user @user @user @user @user #NoDACAdeal #NoAmnesty #MandateEverify #EndChainMigration #MAGA #MakeDCListen</td>\n",
       "      <td>0.987499</td>\n",
       "    </tr>\n",
       "    <tr>\n",
       "      <th>12</th>\n",
       "      <td>@user Asylum seekers should enter at a LEGAL #USA port of entry &amp; not enter illegally! Separation only occurs with those breaking American #immigration law! #WakeUp #Democrats to lies &amp; #WalkAway #MAGA #BuildThatWall</td>\n",
       "      <td>0.987409</td>\n",
       "    </tr>\n",
       "    <tr>\n",
       "      <th>13</th>\n",
       "      <td>#DeportIllegalAliens Sanctuary Cities Government Aid (Taxpayer $$$) for Illegals No excuses#BuildThatWall #BuildThatDamnWall</td>\n",
       "      <td>0.987253</td>\n",
       "    </tr>\n",
       "    <tr>\n",
       "      <th>14</th>\n",
       "      <td>Illegal Alien Stabbed Mother Of Five To Death In Missouri via @user needless death!@realDonaldTrump @user @user #BuildTheWall #EndDACA #DeportThemAll #KeepAmericansSafeStop the Assault from Illegal Migrants on US citizens!</td>\n",
       "      <td>0.987136</td>\n",
       "    </tr>\n",
       "    <tr>\n",
       "      <th>15</th>\n",
       "      <td>Border Agents arrest 5,000 illegal immigrants with criminal records @user @user #BuildTheWallSince they only catch about 50% another 5,000 made it in.#KeepAmericansSafe#DeportThemAll#FamiliesStayTogetherInOwnCountry</td>\n",
       "      <td>0.987124</td>\n",
       "    </tr>\n",
       "    <tr>\n",
       "      <th>16</th>\n",
       "      <td>@user @user @user @user @user AMERICA FIRST @user #NoDACA #NoAmnesty #NoDreamNoDeal #SchumerShutdown #BuildTheWall #DrainTheSwamp #MAGA2020</td>\n",
       "      <td>0.987006</td>\n",
       "    </tr>\n",
       "    <tr>\n",
       "      <th>17</th>\n",
       "      <td>Yes! ThankQ! .@POTUS Violent criminals out! You do not have the right to be in the US! You should earn it! #deportillegalimmigrants #MeritBasedImmigration #BuildThatWall #VoteRedToSaveAmerica #TheRainMakers #TrumpWorld</td>\n",
       "      <td>0.986991</td>\n",
       "    </tr>\n",
       "    <tr>\n",
       "      <th>18</th>\n",
       "      <td>Who said that a #BorderWall won't work???? #BuildTheWall #Buildthatwall #NoAmnesty #SendThemBack</td>\n",
       "      <td>0.986942</td>\n",
       "    </tr>\n",
       "    <tr>\n",
       "      <th>19</th>\n",
       "      <td>@user @user @user Children or not, send the back. If an illegal is arrested, bye!!!#PutThemOnTheBoatFirst#SendThemBack#SendThemAllBack#NoDaca#BuildTheWallNow#AmericaFirst#MAGA#LiberalismIsTheDisease</td>\n",
       "      <td>0.986916</td>\n",
       "    </tr>\n",
       "    <tr>\n",
       "      <th>20</th>\n",
       "      <td>@user @user @user Cut all the free shit for illegals..guarantee they won't be crossing anymore. #BuildThatWall</td>\n",
       "      <td>0.986847</td>\n",
       "    </tr>\n",
       "    <tr>\n",
       "      <th>21</th>\n",
       "      <td>I #stress How long before there becomes here? With no assimilating, open borders and the diluting of American #values and #culture. America is becoming there! @user @user @user @user @user @user #BuildThatWall #MAGA @user #BuildTheWall #Purge</td>\n",
       "      <td>0.986674</td>\n",
       "    </tr>\n",
       "    <tr>\n",
       "      <th>22</th>\n",
       "      <td>Too many immigrants unlicensed to kill #IllegalAliens #IllegalImmigration#Transportation #BuildThatWall @user @user</td>\n",
       "      <td>0.986661</td>\n",
       "    </tr>\n",
       "    <tr>\n",
       "      <th>23</th>\n",
       "      <td>Illegal Alien Raped Woman On Her Front Porch via @user @user @user #BuildTheWall #DeportThemAll#KeepAmericansSafe#NoAmnesty #NoDACADeal</td>\n",
       "      <td>0.986657</td>\n",
       "    </tr>\n",
       "    <tr>\n",
       "      <th>24</th>\n",
       "      <td>500 ex DACA Criminal Gang.Members still at Large.Will they get Amnesty too?@realDonaldTrump@HouseGOP @user risk is just too great!#EndDACA #BuildTheWall #ReturnLawAndOrder#KeepAmericansSafe#EndChainMigration #EVerify#EnforceUSLaws</td>\n",
       "      <td>0.986632</td>\n",
       "    </tr>\n",
       "    <tr>\n",
       "      <th>25</th>\n",
       "      <td>Illegal Alien Raped Girlfriend's Daughter In North Carolina via @user is an everyday occurrence in North Carolina, Why?#BuildTheWall #EnforceUSLaws#NoAmnesty #EndSanctuaryCities #KeepAmericansSafe#DeportThemAll</td>\n",
       "      <td>0.986547</td>\n",
       "    </tr>\n",
       "    <tr>\n",
       "      <th>26</th>\n",
       "      <td>@user Excellent! #IllegalAlien Parents will not be catch and release anymore!If you dont want families separated then families go to jail together!#BuildTheWall #DeportThemAll #WompWomp #EndDACA #DefundSanctuaryCities #MAGA</td>\n",
       "      <td>0.986489</td>\n",
       "    </tr>\n",
       "    <tr>\n",
       "      <th>27</th>\n",
       "      <td>@user @user Illegal Aliens should all be deported along with their entire family NOT, I repeat NOT given free anything .. #NoHealthCare #NoHousing #NoFinancialSupport #NoDACA #NoAmnesty #SendThemBack #StopTheInvasion #BuildTheWallNow from the Pacific Ocean to the Gulf of Mexico #VoteRed</td>\n",
       "      <td>0.986479</td>\n",
       "    </tr>\n",
       "    <tr>\n",
       "      <th>28</th>\n",
       "      <td>.@NancyPelosi and @user precious illegal aliens! #DeportThemAll #BuildTheDamnWall</td>\n",
       "      <td>0.986456</td>\n",
       "    </tr>\n",
       "    <tr>\n",
       "      <th>29</th>\n",
       "      <td>Mexican Fugitive Wanted For Murder Found In South Carolina We need a wall to keep these scum out of our country!#BuildTheWall #NoDACA#NoAmnesty #MAGA#KAG #VoteRed #WalkAway</td>\n",
       "      <td>0.986455</td>\n",
       "    </tr>\n",
       "    <tr>\n",
       "      <th>30</th>\n",
       "      <td>@user @user Dont F*ck up What we Voted For - We See You. #MandatoryEVerify #EndRepublicanCheapLabor #EndBirthRightCitizenship #BuildTheWall #EndChainMigration #FixEntryExit #NoDACA</td>\n",
       "      <td>0.986371</td>\n",
       "    </tr>\n",
       "    <tr>\n",
       "      <th>31</th>\n",
       "      <td>@user @user @user It will only be a matter of time before something happens to those ranchers.#BuildThatWall#BuildTheWall #BuildTheDamnWall</td>\n",
       "      <td>0.986322</td>\n",
       "    </tr>\n",
       "    <tr>\n",
       "      <th>32</th>\n",
       "      <td>Another illegal alien that shouldn't be in America killed an innocent American couple!#BuildThatWall #BuildTheWallNow @user</td>\n",
       "      <td>0.986261</td>\n",
       "    </tr>\n",
       "    <tr>\n",
       "      <th>33</th>\n",
       "      <td>Illegal Alien Repeatedly Raped Two Girls, Ages 8 and 10 less than #DeathPenalty will not be justice served!#BuildTheWallNow #DeportThemALL #BanSanctuaryCities#KeepChildrenSafe#KeepAmericaSafe</td>\n",
       "      <td>0.986251</td>\n",
       "    </tr>\n",
       "    <tr>\n",
       "      <th>34</th>\n",
       "      <td>#BuildTheDamnWalland keep this criminal trash out of USA #NoDACA #2A</td>\n",
       "      <td>0.986246</td>\n",
       "    </tr>\n",
       "    <tr>\n",
       "      <th>35</th>\n",
       "      <td>Illegal Alien Broke Into Neighbor's Home, Tried To Rape Her @user @user A majority of these heinous crimes and acts of violence are committed by Dreamer and DACA aged Illegal Aliens.#NoAmnesty #NoDACADeal #BuildTheWall #DeportThemAll</td>\n",
       "      <td>0.986239</td>\n",
       "    </tr>\n",
       "    <tr>\n",
       "      <th>36</th>\n",
       "      <td>@user @user @user We are being INVADED!!!! #BuildThatWall BUILD THE WALL and SHUT THE DOOR on our border with Mexico NOW!</td>\n",
       "      <td>0.986169</td>\n",
       "    </tr>\n",
       "    <tr>\n",
       "      <th>37</th>\n",
       "      <td>Yes he should for life @user @user #BuildTheWall #LockHerUp #BoycottNike #BoycottNFL #EndDACA now</td>\n",
       "      <td>0.986168</td>\n",
       "    </tr>\n",
       "    <tr>\n",
       "      <th>38</th>\n",
       "      <td>@user #BuildThatWall send her back hommeeeee! Hahaha</td>\n",
       "      <td>0.986133</td>\n",
       "    </tr>\n",
       "    <tr>\n",
       "      <th>39</th>\n",
       "      <td>Great job, deport them all on out of our nation, they are not as-simulating to USA either way, @user @user #BuildTheWall #LockThemUp #EndDACA #BoycottNFL #BoycottNike</td>\n",
       "      <td>0.986129</td>\n",
       "    </tr>\n",
       "    <tr>\n",
       "      <th>40</th>\n",
       "      <td>@user Please honor your threat to #DefundPlannedParenthood &amp; #SanctuaryCities. @user needs to do their job. #IllegalAliens are CRIMINALS.#DeportThemAll #NoAmnesty #BuildThatWall</td>\n",
       "      <td>0.986081</td>\n",
       "    </tr>\n",
       "    <tr>\n",
       "      <th>41</th>\n",
       "      <td>WAKE UP AMERICA. We cannot continue to allow illegal aliens to stay in County. They are a real and present danger to LEGAL AMERICAN CITIZENS. #BuildThatWall #EndCatchAndReleash #DefundSantuaryCities</td>\n",
       "      <td>0.986073</td>\n",
       "    </tr>\n",
       "    <tr>\n",
       "      <th>42</th>\n",
       "      <td>Yes, why is it not closed down and everyone in it deported, they are not our friends, invaders who do not assimulate into our country, time for them to go @user @user #BuildTheWall #EndDACA #BoycottNFL #BoycottNike #LockThemAllUp</td>\n",
       "      <td>0.986044</td>\n",
       "    </tr>\n",
       "    <tr>\n",
       "      <th>43</th>\n",
       "      <td>@user Just deport all these illegal aliens and their kids back to their 3rd world nation. #MAGA #BuildTheWall #NoDACA #NoAmnesty #DeportAllOfThem</td>\n",
       "      <td>0.986038</td>\n",
       "    </tr>\n",
       "    <tr>\n",
       "      <th>44</th>\n",
       "      <td>WE AS A NATION DESERVE A REASONABLE EXPECTATION OF SAFETY IN OUR OWN COUNTRY! VOTE REPUBLICAN #BuildThatWall #EndChainMigration #ENDVISALOTTERY #EVERIFY #ENDVOTERFRAUD</td>\n",
       "      <td>0.986007</td>\n",
       "    </tr>\n",
       "    <tr>\n",
       "      <th>45</th>\n",
       "      <td>@user Please DO NOT listen to lame duck @user immigration/The Wall is way more important than tax 2.0! Stick to your instinct #BuildThatWall #BuildTheDamnWall #DeportThemAll</td>\n",
       "      <td>0.985921</td>\n",
       "    </tr>\n",
       "    <tr>\n",
       "      <th>46</th>\n",
       "      <td>Enough! #BuildTheWall #DeportThemAll Send the criminals BACK to their country of origin (once we have a GREAT big WALL!)</td>\n",
       "      <td>0.985913</td>\n",
       "    </tr>\n",
       "    <tr>\n",
       "      <th>47</th>\n",
       "      <td>Is she admitting to a crime here? Sure sounds like it to me, traitor who should be in prison for life @user @user #BuildTheWall #EndDACA #BoycottNFL #BoycottNike #LockThemAllUp</td>\n",
       "      <td>0.985878</td>\n",
       "    </tr>\n",
       "    <tr>\n",
       "      <th>48</th>\n",
       "      <td>@user @user @user tell ME-What could people who come through the BACK DOOR,bring to our country-Except 4 CRIME &amp; DISEASE ??#BuildThatWallU Can share</td>\n",
       "      <td>0.985877</td>\n",
       "    </tr>\n",
       "    <tr>\n",
       "      <th>49</th>\n",
       "      <td>Illegal Alien CrimeAn overwhelming majority of the Illegal Alien crimes I post every single day, EVERY SINGLE DAY, are committed by dREAMER age criminals!These heinous monsters are who the Left describes as magnificent patriots.#BuildTheWall #DeportThemAll #KeepAmericaSafe</td>\n",
       "      <td>0.985834</td>\n",
       "    </tr>\n",
       "  </tbody>\n",
       "</table>\n",
       "</div>"
      ],
      "text/plain": [
       "                                                                                                                                                                                                                                                                                              Tweet  \\\n",
       "0                                                                                     @user @user @user @user Good shut it all down let's get this wall built, if was up to me illegals would leave this country by Catapulting not ICE. #DeportByCatapulting #StopOpenBorders #BuildThatWall #MAGA   \n",
       "1                                                                                                                                                                                                        Think about that folks, keep them out of USA @user @user #BuildTheWall #LockHerUp #EndDACA   \n",
       "2                                                                                Mollie Tibbetts And The Low Illegal Crime Rate Lie - American Thinker #MollieTibbetts #BuildTheDamnWall #BuildTheWall #BuildTheWallNow #BuildThatWall #MAGA #RedNationRising #KeepAmericaGreat #KAG2020 #KAG TW502   \n",
       "3                                                                                               @user @user @user @user @user @user #BuildTheWallNow @user @user BEFORE the Midterm elections #BuildTheDamnWall #EndChainMigration #MandateEverify #NoAmnesty #KeepPheonixPromise National Security   \n",
       "4                         #DeportThemAll The only money any illegals should recieve should be a ticket back to where they are from! Nothing More!#EndIllegalImmigration #EndDACA#EndChainMigration #NoAmnesty#EndVisaLottery #EndSanctuaryCities #NoWelfareForImmigrants#AmericaFirst #BuildTheWall   \n",
       "5                                                                                                                                                                                                           They just keep on coming. Build that damn wall and deport. Please! @user #BuildThatWall   \n",
       "6                                                     @user @user Absolutely! No DACA, No Amnesty, No Sanctury Cities, Deport All Illegal Aliens, Build The Wall! #MAGA #2A #NoDACA #DeportThemAll #BuildTheWall #OBAMAgate #StandWithICE #PEDOgate #LockThemAllUp #BanIslam #TRUMP2020 @user @user   \n",
       "7                                 @user Yes so we need to BUILD The Wall! Blood is on your hands evertime an MS13 gang member or DUI illegal kills an American! #BuildTheWall #FundTheWall #EndVisaLottery #EnactEVerify #EndChainMigration 183 billion yearly taxpayers pay for illegals! Go home!   \n",
       "8                                                                                                                                                @user #BuildTheDamnWall #BuildThatDamnWall #BuildThatWall #BuildTheWall4MollieTibbetts #BuildTheWallNow Need I say more? Solves ALL the problems!!   \n",
       "9                                                                              @user Its time to give hunting licenses to border homes and make it year round open season on this invading force! Free guns and ammo to those willing to defend our borders!!! #BuildThatWall #BuildThatDamnWallNow   \n",
       "10                                         @user Illegals can reunite back across the border in Mexico! We dont need the extra crime that the illegal or refugees invaders bring to America.#NoDACA #NoVisaLottery #NoBenefits4Illegals #NoChainMigration #BuildTheWall #E-Verify @user @user @user   \n",
       "11                                                                                                                        #BuildTheWall National Security @user @user @user @user @user @user @user @user @user @user #NoDACAdeal #NoAmnesty #MandateEverify #EndChainMigration #MAGA #MakeDCListen   \n",
       "12                                                                         @user Asylum seekers should enter at a LEGAL #USA port of entry & not enter illegally! Separation only occurs with those breaking American #immigration law! #WakeUp #Democrats to lies & #WalkAway #MAGA #BuildThatWall   \n",
       "13                                                                                                                                                                     #DeportIllegalAliens Sanctuary Cities Government Aid (Taxpayer $$$) for Illegals No excuses#BuildThatWall #BuildThatDamnWall   \n",
       "14                                                                   Illegal Alien Stabbed Mother Of Five To Death In Missouri via @user needless death!@realDonaldTrump @user @user #BuildTheWall #EndDACA #DeportThemAll #KeepAmericansSafeStop the Assault from Illegal Migrants on US citizens!   \n",
       "15                                                                          Border Agents arrest 5,000 illegal immigrants with criminal records @user @user #BuildTheWallSince they only catch about 50% another 5,000 made it in.#KeepAmericansSafe#DeportThemAll#FamiliesStayTogetherInOwnCountry   \n",
       "16                                                                                                                                                      @user @user @user @user @user AMERICA FIRST @user #NoDACA #NoAmnesty #NoDreamNoDeal #SchumerShutdown #BuildTheWall #DrainTheSwamp #MAGA2020   \n",
       "17                                                                       Yes! ThankQ! .@POTUS Violent criminals out! You do not have the right to be in the US! You should earn it! #deportillegalimmigrants #MeritBasedImmigration #BuildThatWall #VoteRedToSaveAmerica #TheRainMakers #TrumpWorld   \n",
       "18                                                                                                                                                                                                 Who said that a #BorderWall won't work???? #BuildTheWall #Buildthatwall #NoAmnesty #SendThemBack   \n",
       "19                                                                                           @user @user @user Children or not, send the back. If an illegal is arrested, bye!!!#PutThemOnTheBoatFirst#SendThemBack#SendThemAllBack#NoDaca#BuildTheWallNow#AmericaFirst#MAGA#LiberalismIsTheDisease   \n",
       "20                                                                                                                                                                                   @user @user @user Cut all the free shit for illegals..guarantee they won't be crossing anymore. #BuildThatWall   \n",
       "21                                               I #stress How long before there becomes here? With no assimilating, open borders and the diluting of American #values and #culture. America is becoming there! @user @user @user @user @user @user #BuildThatWall #MAGA @user #BuildTheWall #Purge   \n",
       "22                                                                                                                                                                              Too many immigrants unlicensed to kill #IllegalAliens #IllegalImmigration#Transportation #BuildThatWall @user @user   \n",
       "23                                                                                                                                                          Illegal Alien Raped Woman On Her Front Porch via @user @user @user #BuildTheWall #DeportThemAll#KeepAmericansSafe#NoAmnesty #NoDACADeal   \n",
       "24                                                           500 ex DACA Criminal Gang.Members still at Large.Will they get Amnesty too?@realDonaldTrump@HouseGOP @user risk is just too great!#EndDACA #BuildTheWall #ReturnLawAndOrder#KeepAmericansSafe#EndChainMigration #EVerify#EnforceUSLaws   \n",
       "25                                                                               Illegal Alien Raped Girlfriend's Daughter In North Carolina via @user is an everyday occurrence in North Carolina, Why?#BuildTheWall #EnforceUSLaws#NoAmnesty #EndSanctuaryCities #KeepAmericansSafe#DeportThemAll   \n",
       "26                                                                  @user Excellent! #IllegalAlien Parents will not be catch and release anymore!If you dont want families separated then families go to jail together!#BuildTheWall #DeportThemAll #WompWomp #EndDACA #DefundSanctuaryCities #MAGA   \n",
       "27  @user @user Illegal Aliens should all be deported along with their entire family NOT, I repeat NOT given free anything .. #NoHealthCare #NoHousing #NoFinancialSupport #NoDACA #NoAmnesty #SendThemBack #StopTheInvasion #BuildTheWallNow from the Pacific Ocean to the Gulf of Mexico #VoteRed   \n",
       "28                                                                                                                                                                                                                .@NancyPelosi and @user precious illegal aliens! #DeportThemAll #BuildTheDamnWall   \n",
       "29                                                                                                                     Mexican Fugitive Wanted For Murder Found In South Carolina We need a wall to keep these scum out of our country!#BuildTheWall #NoDACA#NoAmnesty #MAGA#KAG #VoteRed #WalkAway   \n",
       "30                                                                                                             @user @user Dont F*ck up What we Voted For - We See You. #MandatoryEVerify #EndRepublicanCheapLabor #EndBirthRightCitizenship #BuildTheWall #EndChainMigration #FixEntryExit #NoDACA   \n",
       "31                                                                                                                                                      @user @user @user It will only be a matter of time before something happens to those ranchers.#BuildThatWall#BuildTheWall #BuildTheDamnWall   \n",
       "32                                                                                                                                                                      Another illegal alien that shouldn't be in America killed an innocent American couple!#BuildThatWall #BuildTheWallNow @user   \n",
       "33                                                                                                  Illegal Alien Repeatedly Raped Two Girls, Ages 8 and 10 less than #DeathPenalty will not be justice served!#BuildTheWallNow #DeportThemALL #BanSanctuaryCities#KeepChildrenSafe#KeepAmericaSafe   \n",
       "34                                                                                                                                                                                                                             #BuildTheDamnWalland keep this criminal trash out of USA #NoDACA #2A   \n",
       "35                                                        Illegal Alien Broke Into Neighbor's Home, Tried To Rape Her @user @user A majority of these heinous crimes and acts of violence are committed by Dreamer and DACA aged Illegal Aliens.#NoAmnesty #NoDACADeal #BuildTheWall #DeportThemAll   \n",
       "36                                                                                                                                                                        @user @user @user We are being INVADED!!!! #BuildThatWall BUILD THE WALL and SHUT THE DOOR on our border with Mexico NOW!   \n",
       "37                                                                                                                                                                                                Yes he should for life @user @user #BuildTheWall #LockHerUp #BoycottNike #BoycottNFL #EndDACA now   \n",
       "38                                                                                                                                                                                                                                             @user #BuildThatWall send her back hommeeeee! Hahaha   \n",
       "39                                                                                                                           Great job, deport them all on out of our nation, they are not as-simulating to USA either way, @user @user #BuildTheWall #LockThemUp #EndDACA #BoycottNFL #BoycottNike   \n",
       "40                                                                                                                @user Please honor your threat to #DefundPlannedParenthood & #SanctuaryCities. @user needs to do their job. #IllegalAliens are CRIMINALS.#DeportThemAll #NoAmnesty #BuildThatWall   \n",
       "41                                                                                           WAKE UP AMERICA. We cannot continue to allow illegal aliens to stay in County. They are a real and present danger to LEGAL AMERICAN CITIZENS. #BuildThatWall #EndCatchAndReleash #DefundSantuaryCities   \n",
       "42                                                            Yes, why is it not closed down and everyone in it deported, they are not our friends, invaders who do not assimulate into our country, time for them to go @user @user #BuildTheWall #EndDACA #BoycottNFL #BoycottNike #LockThemAllUp   \n",
       "43                                                                                                                                                @user Just deport all these illegal aliens and their kids back to their 3rd world nation. #MAGA #BuildTheWall #NoDACA #NoAmnesty #DeportAllOfThem   \n",
       "44                                                                                                                          WE AS A NATION DESERVE A REASONABLE EXPECTATION OF SAFETY IN OUR OWN COUNTRY! VOTE REPUBLICAN #BuildThatWall #EndChainMigration #ENDVISALOTTERY #EVERIFY #ENDVOTERFRAUD   \n",
       "45                                                                                                                    @user Please DO NOT listen to lame duck @user immigration/The Wall is way more important than tax 2.0! Stick to your instinct #BuildThatWall #BuildTheDamnWall #DeportThemAll   \n",
       "46                                                                                                                                                                         Enough! #BuildTheWall #DeportThemAll Send the criminals BACK to their country of origin (once we have a GREAT big WALL!)   \n",
       "47                                                                                                                 Is she admitting to a crime here? Sure sounds like it to me, traitor who should be in prison for life @user @user #BuildTheWall #EndDACA #BoycottNFL #BoycottNike #LockThemAllUp   \n",
       "48                                                                                                                                             @user @user @user tell ME-What could people who come through the BACK DOOR,bring to our country-Except 4 CRIME & DISEASE ??#BuildThatWallU Can share   \n",
       "49                Illegal Alien CrimeAn overwhelming majority of the Illegal Alien crimes I post every single day, EVERY SINGLE DAY, are committed by dREAMER age criminals!These heinous monsters are who the Left describes as magnificent patriots.#BuildTheWall #DeportThemAll #KeepAmericaSafe   \n",
       "\n",
       "    Hate Rate  \n",
       "0    0.989568  \n",
       "1    0.989146  \n",
       "2    0.988874  \n",
       "3    0.988597  \n",
       "4    0.988451  \n",
       "5    0.988386  \n",
       "6    0.988370  \n",
       "7    0.988178  \n",
       "8    0.987793  \n",
       "9    0.987752  \n",
       "10   0.987656  \n",
       "11   0.987499  \n",
       "12   0.987409  \n",
       "13   0.987253  \n",
       "14   0.987136  \n",
       "15   0.987124  \n",
       "16   0.987006  \n",
       "17   0.986991  \n",
       "18   0.986942  \n",
       "19   0.986916  \n",
       "20   0.986847  \n",
       "21   0.986674  \n",
       "22   0.986661  \n",
       "23   0.986657  \n",
       "24   0.986632  \n",
       "25   0.986547  \n",
       "26   0.986489  \n",
       "27   0.986479  \n",
       "28   0.986456  \n",
       "29   0.986455  \n",
       "30   0.986371  \n",
       "31   0.986322  \n",
       "32   0.986261  \n",
       "33   0.986251  \n",
       "34   0.986246  \n",
       "35   0.986239  \n",
       "36   0.986169  \n",
       "37   0.986168  \n",
       "38   0.986133  \n",
       "39   0.986129  \n",
       "40   0.986081  \n",
       "41   0.986073  \n",
       "42   0.986044  \n",
       "43   0.986038  \n",
       "44   0.986007  \n",
       "45   0.985921  \n",
       "46   0.985913  \n",
       "47   0.985878  \n",
       "48   0.985877  \n",
       "49   0.985834  "
      ]
     },
     "execution_count": 21,
     "metadata": {},
     "output_type": "execute_result"
    }
   ],
   "source": [
    "import pandas as pd\n",
    "pd.set_option(\"display.max_colwidth\", None) \n",
    "pd.DataFrame(top_50_best_rate, columns=['Tweet', 'Hate Rate'])"
   ]
  },
  {
   "cell_type": "code",
   "execution_count": 22,
   "metadata": {},
   "outputs": [
    {
     "data": {
      "text/html": [
       "<div>\n",
       "<style scoped>\n",
       "    .dataframe tbody tr th:only-of-type {\n",
       "        vertical-align: middle;\n",
       "    }\n",
       "\n",
       "    .dataframe tbody tr th {\n",
       "        vertical-align: top;\n",
       "    }\n",
       "\n",
       "    .dataframe thead th {\n",
       "        text-align: right;\n",
       "    }\n",
       "</style>\n",
       "<table border=\"1\" class=\"dataframe\">\n",
       "  <thead>\n",
       "    <tr style=\"text-align: right;\">\n",
       "      <th></th>\n",
       "      <th>Tweet</th>\n",
       "      <th>Hate Rate</th>\n",
       "    </tr>\n",
       "  </thead>\n",
       "  <tbody>\n",
       "    <tr>\n",
       "      <th>0</th>\n",
       "      <td>America, weve been INVADED! This is not immigration, it is an invasion-thousands now entrenched &amp; prepared to cause mayhem, street battles far worse than gang warfare. DEMS have been highjacked by communists/socialists/subversives! #MAGA #IllegalAliens @user @user</td>\n",
       "      <td>0.850300</td>\n",
       "    </tr>\n",
       "    <tr>\n",
       "      <th>1</th>\n",
       "      <td>@user You ASAP yams built body Bitch, wasn't I your body goals a few weeks ago? Fuck outta here orangutang titty flopping hoe.</td>\n",
       "      <td>0.850506</td>\n",
       "    </tr>\n",
       "    <tr>\n",
       "      <th>2</th>\n",
       "      <td>So illegal alien tweets are blocked by twitter because its considered hate speech #illegalalien I actually would love for all the #illegalaliens to get legal status and become actual citizens. I welcome all people to enjoy our great country, legally.</td>\n",
       "      <td>0.851045</td>\n",
       "    </tr>\n",
       "    <tr>\n",
       "      <th>3</th>\n",
       "      <td>@user @user cnn the CORRUPT NEWS NETWORK #1 in fake news, enemy of the people, lowest in ratings and falling. Pathetic. #MAGA #BUILDTHEWALL #NODACA</td>\n",
       "      <td>0.851342</td>\n",
       "    </tr>\n",
       "    <tr>\n",
       "      <th>4</th>\n",
       "      <td>I talk a lot of shit about hoes but Fr tho fellas why would you want to be broke fuckin wit a female you can't even get the bitch no fries 🍟</td>\n",
       "      <td>0.851521</td>\n",
       "    </tr>\n",
       "    <tr>\n",
       "      <th>5</th>\n",
       "      <td>@user @user @user @user @user @user #VOTE #GOP IN #DELAWARE @user @user @user #RESEARCH #Delaware #COONS #Carney #illegals #gangs,#wilmington #delaware #1 #CrimeTown look at fact #noSanctuary #nodaca #dems #drive #DELAWARE #BANKRUPT!#GANGS #DRUGS @user @user TELL THE #TRUTH</td>\n",
       "      <td>0.851680</td>\n",
       "    </tr>\n",
       "    <tr>\n",
       "      <th>6</th>\n",
       "      <td>Fucking cheating bitch whore.</td>\n",
       "      <td>0.851925</td>\n",
       "    </tr>\n",
       "    <tr>\n",
       "      <th>7</th>\n",
       "      <td>No Filter Ill Smack The Shit outta You that Bitch the next Bitch &amp;&amp; Whoever Tf Else</td>\n",
       "      <td>0.851955</td>\n",
       "    </tr>\n",
       "    <tr>\n",
       "      <th>8</th>\n",
       "      <td>#IllegalAliens are in the USA illegally and they are alien to our soil. Hence the term #IllegalAlien</td>\n",
       "      <td>0.852239</td>\n",
       "    </tr>\n",
       "    <tr>\n",
       "      <th>9</th>\n",
       "      <td>@user @user #ILLEGALS aren't kept in cages you fake Bishop! THAT pic was a #PublicityStunt at a whacko #Soros funded #Protest Fool! #ILLEGAL #FamiliesBelongTogether in #Mexico ! #DeportThemAll EVERY #Illegal is a criminal! #VoteRed 4 #AmericanDreamers AND #AmericanFamiliesFirst</td>\n",
       "      <td>0.852290</td>\n",
       "    </tr>\n",
       "    <tr>\n",
       "      <th>10</th>\n",
       "      <td>@user Bitch u know. You a good bitch. You mah main hoe. Loveyou😘💕</td>\n",
       "      <td>0.852342</td>\n",
       "    </tr>\n",
       "    <tr>\n",
       "      <th>11</th>\n",
       "      <td>And you're a hoe like you I said mind your business or get slapped, you wish it was you they was arguing over bitch…</td>\n",
       "      <td>0.852583</td>\n",
       "    </tr>\n",
       "    <tr>\n",
       "      <th>12</th>\n",
       "      <td>Fucking cunt ass bitches!</td>\n",
       "      <td>0.853026</td>\n",
       "    </tr>\n",
       "    <tr>\n",
       "      <th>13</th>\n",
       "      <td>I love when needy bitches block me so I don't have to.     Like hello cunt I have a life</td>\n",
       "      <td>0.853309</td>\n",
       "    </tr>\n",
       "    <tr>\n",
       "      <th>14</th>\n",
       "      <td>You seem like a hoe    Ok bitch? Did I ever deny that?   Nope, Next.</td>\n",
       "      <td>0.853332</td>\n",
       "    </tr>\n",
       "    <tr>\n",
       "      <th>15</th>\n",
       "      <td>We don't cuff hoes  if you fuck my bitch thanks cuz you can keep her #FreeJigga man I miss my nigga</td>\n",
       "      <td>0.853528</td>\n",
       "    </tr>\n",
       "    <tr>\n",
       "      <th>16</th>\n",
       "      <td>@user #IllegalAliens are Lawbreakers! #sendthemhome</td>\n",
       "      <td>0.853593</td>\n",
       "    </tr>\n",
       "    <tr>\n",
       "      <th>17</th>\n",
       "      <td>#DEMS are using #Muslims &amp; #BlackLivesMatter (aka militant #NationOFislam extremist) &amp; #NFL as insurgents in their #Communist REVOLUTION: FACT=HALF of USA Total Muslim Population immigrated under #OBAMA=#NoDACA NO #DACA #Amnesty No #DacaDEAL #BoycottNFL</td>\n",
       "      <td>0.853779</td>\n",
       "    </tr>\n",
       "    <tr>\n",
       "      <th>18</th>\n",
       "      <td>We must Remove the Tens of Millions of Invasive Parasites!!We must End this Long Going Nightmare!!#DeportThemAll #FoxNews #MAGA #AmericaFirst@realDonaldTrump @user @user @user @user @user @user @user</td>\n",
       "      <td>0.853838</td>\n",
       "    </tr>\n",
       "    <tr>\n",
       "      <th>19</th>\n",
       "      <td>If they are undocumented, they are illegal aliens. Im a documented Latina. Call them what they are Illegal Aliens #IllegalAliens</td>\n",
       "      <td>0.854096</td>\n",
       "    </tr>\n",
       "    <tr>\n",
       "      <th>20</th>\n",
       "      <td>@user @user Naw bitch Ima talk every day until then hoe. Who the fuck your thought you was talkin…</td>\n",
       "      <td>0.854381</td>\n",
       "    </tr>\n",
       "    <tr>\n",
       "      <th>21</th>\n",
       "      <td>#FakeRefugees #AsylumAbusers #IllegalAliens #Migrants all need to be #Deported. Other countries are doing by the thous &amp; we must to. America can no longer be a doormat &amp; bank for these disrespectful, demanding, greedy people. If they can overrun our country, they can fix theirs</td>\n",
       "      <td>0.854510</td>\n",
       "    </tr>\n",
       "    <tr>\n",
       "      <th>22</th>\n",
       "      <td>@user @user That's what happens when you let in a bunch of savages from Africa riddled with diseases!!! #CloseTheBorders #SendThemBack</td>\n",
       "      <td>0.854917</td>\n",
       "    </tr>\n",
       "    <tr>\n",
       "      <th>23</th>\n",
       "      <td>Absolute state of that cunt that just served me in Dunne's. Ignorant bitch</td>\n",
       "      <td>0.855358</td>\n",
       "    </tr>\n",
       "    <tr>\n",
       "      <th>24</th>\n",
       "      <td>When will #WeThePeople have enough of #CAIR &amp; Muslims in our America? They came here not to assimilate, but to spread their vile Sharia Law, they need to #SendThemBack no one is above our #Constitution our laws. @user close this down! Let them have not another inch!</td>\n",
       "      <td>0.855377</td>\n",
       "    </tr>\n",
       "    <tr>\n",
       "      <th>25</th>\n",
       "      <td>.@KamalaHarris says Dreamers represent the best of what #America has to offer 60K with arrest records NOT OUR BESTNote to #KamalaHarris USCIS Director Cissna~you could be arrested a whole lot of times and still get DACA#NoDACA</td>\n",
       "      <td>0.855420</td>\n",
       "    </tr>\n",
       "    <tr>\n",
       "      <th>26</th>\n",
       "      <td>We let these #migrants in to our country for a better life but what's about our lives and our children's future. That do not want to live by our laws. These #Muslims do not respect our way of life. #SENDTHEMBACK</td>\n",
       "      <td>0.855535</td>\n",
       "    </tr>\n",
       "    <tr>\n",
       "      <th>27</th>\n",
       "      <td>@user Hmm. People in the country without permission are illegal. People from other counties are aliens. (An immigrant should have applied for status to immigrate. Yup, Im sticking with #illegalaliens</td>\n",
       "      <td>0.856163</td>\n",
       "    </tr>\n",
       "    <tr>\n",
       "      <th>28</th>\n",
       "      <td>@user @user @user @user Understood this in Ohio. Now in Florida. Cant wait to vote in DeSantis. His opponent IS a socialist commie. #MAGA #NoDACA #howdoyoulikeusnow</td>\n",
       "      <td>0.856364</td>\n",
       "    </tr>\n",
       "    <tr>\n",
       "      <th>29</th>\n",
       "      <td>\"@SchadeTom @user @user I don't vote \"\"D\"\"More like got to get rid of my dumb lib neighbors and all the illegals from 3rd world holes.#SendThemBack\"</td>\n",
       "      <td>0.856543</td>\n",
       "    </tr>\n",
       "    <tr>\n",
       "      <th>30</th>\n",
       "      <td>i truly should've blocked carter when this bitch said orange juice and grape juice better than apple juice.</td>\n",
       "      <td>0.856592</td>\n",
       "    </tr>\n",
       "    <tr>\n",
       "      <th>31</th>\n",
       "      <td>21 savage: You put a ring on that bitch and she a freak hoe     Also 21 Savage:</td>\n",
       "      <td>0.856764</td>\n",
       "    </tr>\n",
       "    <tr>\n",
       "      <th>32</th>\n",
       "      <td>@user Ask this old whore to suicide or I can help this bitch die screaming. #BBUK You guyz r shit to bring her back.</td>\n",
       "      <td>0.856975</td>\n",
       "    </tr>\n",
       "    <tr>\n",
       "      <th>33</th>\n",
       "      <td>@user @user This refers 2 a favorable political effort by GOOGLE 2 DEM Party's Pres. candidate - they were surprised that \"sure-fire\" voters they gave rides 2 didn't ALL vote 4 their woman! They expected it, like the Blacks used 2 do, but began 2 wake up. Next up? MUSLIMS!#StopTheInvasion</td>\n",
       "      <td>0.857159</td>\n",
       "    </tr>\n",
       "    <tr>\n",
       "      <th>34</th>\n",
       "      <td>two-faced bitch u fuckin annoying cunt 😝😅</td>\n",
       "      <td>0.857235</td>\n",
       "    </tr>\n",
       "    <tr>\n",
       "      <th>35</th>\n",
       "      <td>Stop tweet watching my shit bitch you don't even follow me HOE</td>\n",
       "      <td>0.857347</td>\n",
       "    </tr>\n",
       "    <tr>\n",
       "      <th>36</th>\n",
       "      <td>@user And this is exactly how it should be in England!! Crime is low in Slovakia etc but all the scumbags come to to commit crimes as they know they can get away with it - THEY NEVER RETURN!!! #stopimmigration</td>\n",
       "      <td>0.857893</td>\n",
       "    </tr>\n",
       "    <tr>\n",
       "      <th>37</th>\n",
       "      <td>@user you can't expose me on my birthday hoe bitch🙄</td>\n",
       "      <td>0.857930</td>\n",
       "    </tr>\n",
       "    <tr>\n",
       "      <th>38</th>\n",
       "      <td>Like that ugly ass bitch earlier who said I don't blend my makeup 😂 that wasn't tea. That was a cunt making an inaccurate statement.</td>\n",
       "      <td>0.858019</td>\n",
       "    </tr>\n",
       "    <tr>\n",
       "      <th>39</th>\n",
       "      <td>@user #MAGA #KAG 2020 USA!! USA!! USA!! USA!! #BUILDKATESWALL #NODACA #AmericaFirst Please remember the only reason the left the libtards the Democrats are so triggered and resistant is because their criminal murderous candidate didn't win that's it that's the only reason!!!</td>\n",
       "      <td>0.858140</td>\n",
       "    </tr>\n",
       "    <tr>\n",
       "      <th>40</th>\n",
       "      <td>Hoes wanna get bold AFTER the fact. Bitch bye. Where was you at when we called yall out for round 2, 3 or 4? 🤔 Scary.</td>\n",
       "      <td>0.858603</td>\n",
       "    </tr>\n",
       "    <tr>\n",
       "      <th>41</th>\n",
       "      <td>What a disgusting fucking cunt this bitch is I hope she was attacked by the dogs defending their owner #getridofthem</td>\n",
       "      <td>0.858809</td>\n",
       "    </tr>\n",
       "    <tr>\n",
       "      <th>42</th>\n",
       "      <td>Bitch I never cuffed yo rat ass you was just one of my freak hoes.</td>\n",
       "      <td>0.858824</td>\n",
       "    </tr>\n",
       "    <tr>\n",
       "      <th>43</th>\n",
       "      <td>bitch whole pussy out wit some pro-keds on.</td>\n",
       "      <td>0.858966</td>\n",
       "    </tr>\n",
       "    <tr>\n",
       "      <th>44</th>\n",
       "      <td>people stay talking about \"I don't have her number no more\" BITCH THE WAY YOU STALK ME HOE YOU KNOW HOW TO GET AT ME BE FR‼️</td>\n",
       "      <td>0.859141</td>\n",
       "    </tr>\n",
       "    <tr>\n",
       "      <th>45</th>\n",
       "      <td>rah don't turn up at my door acting like a cunt😂 u drove to me bitch</td>\n",
       "      <td>0.859253</td>\n",
       "    </tr>\n",
       "    <tr>\n",
       "      <th>46</th>\n",
       "      <td>I hate when a bitch call you ugly hoe you had to Sneak up on a mirror 😝😂tf</td>\n",
       "      <td>0.859327</td>\n",
       "    </tr>\n",
       "    <tr>\n",
       "      <th>47</th>\n",
       "      <td>We done fucked her before yo bitch a whore n you mad about it?</td>\n",
       "      <td>0.859839</td>\n",
       "    </tr>\n",
       "    <tr>\n",
       "      <th>48</th>\n",
       "      <td>About Time! Non Citizens and DACA Illegals Who Voted Must be Arrested For Voter Fraud Serve their time then Deported ASAP All Forms ask you to Swear Your a Citizen they lied ! #SendThemBack #Trump #MAGA #RedNationRising #Immigration</td>\n",
       "      <td>0.859856</td>\n",
       "    </tr>\n",
       "    <tr>\n",
       "      <th>49</th>\n",
       "      <td>17-year-old charged in killing of teenager in Annapolis linked to MS-13 #NoAmnesty #NoDACA #DeportThemAll @user @user these are not anomalies this is becoming the norm.Immigration reform does not entail giving a free pass!</td>\n",
       "      <td>0.860161</td>\n",
       "    </tr>\n",
       "  </tbody>\n",
       "</table>\n",
       "</div>"
      ],
      "text/plain": [
       "                                                                                                                                                                                                                                                                                                Tweet  \\\n",
       "0                            America, weve been INVADED! This is not immigration, it is an invasion-thousands now entrenched & prepared to cause mayhem, street battles far worse than gang warfare. DEMS have been highjacked by communists/socialists/subversives! #MAGA #IllegalAliens @user @user   \n",
       "1                                                                                                                                                                      @user You ASAP yams built body Bitch, wasn't I your body goals a few weeks ago? Fuck outta here orangutang titty flopping hoe.   \n",
       "2                                          So illegal alien tweets are blocked by twitter because its considered hate speech #illegalalien I actually would love for all the #illegalaliens to get legal status and become actual citizens. I welcome all people to enjoy our great country, legally.   \n",
       "3                                                                                                                                                 @user @user cnn the CORRUPT NEWS NETWORK #1 in fake news, enemy of the people, lowest in ratings and falling. Pathetic. #MAGA #BUILDTHEWALL #NODACA   \n",
       "4                                                                                                                                                        I talk a lot of shit about hoes but Fr tho fellas why would you want to be broke fuckin wit a female you can't even get the bitch no fries 🍟   \n",
       "5                  @user @user @user @user @user @user #VOTE #GOP IN #DELAWARE @user @user @user #RESEARCH #Delaware #COONS #Carney #illegals #gangs,#wilmington #delaware #1 #CrimeTown look at fact #noSanctuary #nodaca #dems #drive #DELAWARE #BANKRUPT!#GANGS #DRUGS @user @user TELL THE #TRUTH   \n",
       "6                                                                                                                                                                                                                                                                       Fucking cheating bitch whore.   \n",
       "7                                                                                                                                                                                                                 No Filter Ill Smack The Shit outta You that Bitch the next Bitch && Whoever Tf Else   \n",
       "8                                                                                                                                                                                                #IllegalAliens are in the USA illegally and they are alien to our soil. Hence the term #IllegalAlien   \n",
       "9              @user @user #ILLEGALS aren't kept in cages you fake Bishop! THAT pic was a #PublicityStunt at a whacko #Soros funded #Protest Fool! #ILLEGAL #FamiliesBelongTogether in #Mexico ! #DeportThemAll EVERY #Illegal is a criminal! #VoteRed 4 #AmericanDreamers AND #AmericanFamiliesFirst   \n",
       "10                                                                                                                                                                                                                                  @user Bitch u know. You a good bitch. You mah main hoe. Loveyou😘💕   \n",
       "11                                                                                                                                                                               And you're a hoe like you I said mind your business or get slapped, you wish it was you they was arguing over bitch…   \n",
       "12                                                                                                                                                                                                                                                                          Fucking cunt ass bitches!   \n",
       "13                                                                                                                                                                                                           I love when needy bitches block me so I don't have to.     Like hello cunt I have a life   \n",
       "14                                                                                                                                                                                                                               You seem like a hoe    Ok bitch? Did I ever deny that?   Nope, Next.   \n",
       "15                                                                                                                                                                                                We don't cuff hoes  if you fuck my bitch thanks cuz you can keep her #FreeJigga man I miss my nigga   \n",
       "16                                                                                                                                                                                                                                                @user #IllegalAliens are Lawbreakers! #sendthemhome   \n",
       "17                                      #DEMS are using #Muslims & #BlackLivesMatter (aka militant #NationOFislam extremist) & #NFL as insurgents in their #Communist REVOLUTION: FACT=HALF of USA Total Muslim Population immigrated under #OBAMA=#NoDACA NO #DACA #Amnesty No #DacaDEAL #BoycottNFL   \n",
       "18                                                                                            We must Remove the Tens of Millions of Invasive Parasites!!We must End this Long Going Nightmare!!#DeportThemAll #FoxNews #MAGA #AmericaFirst@realDonaldTrump @user @user @user @user @user @user @user   \n",
       "19                                                                                                                                                                   If they are undocumented, they are illegal aliens. Im a documented Latina. Call them what they are Illegal Aliens #IllegalAliens   \n",
       "20                                                                                                                                                                                                 @user @user Naw bitch Ima talk every day until then hoe. Who the fuck your thought you was talkin…   \n",
       "21             #FakeRefugees #AsylumAbusers #IllegalAliens #Migrants all need to be #Deported. Other countries are doing by the thous & we must to. America can no longer be a doormat & bank for these disrespectful, demanding, greedy people. If they can overrun our country, they can fix theirs   \n",
       "22                                                                                                                                                             @user @user That's what happens when you let in a bunch of savages from Africa riddled with diseases!!! #CloseTheBorders #SendThemBack   \n",
       "23                                                                                                                                                                                                                         Absolute state of that cunt that just served me in Dunne's. Ignorant bitch   \n",
       "24                         When will #WeThePeople have enough of #CAIR & Muslims in our America? They came here not to assimilate, but to spread their vile Sharia Law, they need to #SendThemBack no one is above our #Constitution our laws. @user close this down! Let them have not another inch!   \n",
       "25                                                                 .@KamalaHarris says Dreamers represent the best of what #America has to offer 60K with arrest records NOT OUR BESTNote to #KamalaHarris USCIS Director Cissna~you could be arrested a whole lot of times and still get DACA#NoDACA   \n",
       "26                                                                                We let these #migrants in to our country for a better life but what's about our lives and our children's future. That do not want to live by our laws. These #Muslims do not respect our way of life. #SENDTHEMBACK   \n",
       "27                                                                                            @user Hmm. People in the country without permission are illegal. People from other counties are aliens. (An immigrant should have applied for status to immigrate. Yup, Im sticking with #illegalaliens   \n",
       "28                                                                                                                               @user @user @user @user Understood this in Ohio. Now in Florida. Cant wait to vote in DeSantis. His opponent IS a socialist commie. #MAGA #NoDACA #howdoyoulikeusnow   \n",
       "29                                                                                                                                               \"@SchadeTom @user @user I don't vote \"\"D\"\"More like got to get rid of my dumb lib neighbors and all the illegals from 3rd world holes.#SendThemBack\"   \n",
       "30                                                                                                                                                                                        i truly should've blocked carter when this bitch said orange juice and grape juice better than apple juice.   \n",
       "31                                                                                                                                                                                                                    21 savage: You put a ring on that bitch and she a freak hoe     Also 21 Savage:   \n",
       "32                                                                                                                                                                               @user Ask this old whore to suicide or I can help this bitch die screaming. #BBUK You guyz r shit to bring her back.   \n",
       "33  @user @user This refers 2 a favorable political effort by GOOGLE 2 DEM Party's Pres. candidate - they were surprised that \"sure-fire\" voters they gave rides 2 didn't ALL vote 4 their woman! They expected it, like the Blacks used 2 do, but began 2 wake up. Next up? MUSLIMS!#StopTheInvasion   \n",
       "34                                                                                                                                                                                                                                                          two-faced bitch u fuckin annoying cunt 😝😅   \n",
       "35                                                                                                                                                                                                                                     Stop tweet watching my shit bitch you don't even follow me HOE   \n",
       "36                                                                                  @user And this is exactly how it should be in England!! Crime is low in Slovakia etc but all the scumbags come to to commit crimes as they know they can get away with it - THEY NEVER RETURN!!! #stopimmigration   \n",
       "37                                                                                                                                                                                                                                                @user you can't expose me on my birthday hoe bitch🙄   \n",
       "38                                                                                                                                                               Like that ugly ass bitch earlier who said I don't blend my makeup 😂 that wasn't tea. That was a cunt making an inaccurate statement.   \n",
       "39                @user #MAGA #KAG 2020 USA!! USA!! USA!! USA!! #BUILDKATESWALL #NODACA #AmericaFirst Please remember the only reason the left the libtards the Democrats are so triggered and resistant is because their criminal murderous candidate didn't win that's it that's the only reason!!!   \n",
       "40                                                                                                                                                                              Hoes wanna get bold AFTER the fact. Bitch bye. Where was you at when we called yall out for round 2, 3 or 4? 🤔 Scary.   \n",
       "41                                                                                                                                                                               What a disgusting fucking cunt this bitch is I hope she was attacked by the dogs defending their owner #getridofthem   \n",
       "42                                                                                                                                                                                                                                 Bitch I never cuffed yo rat ass you was just one of my freak hoes.   \n",
       "43                                                                                                                                                                                                                                                        bitch whole pussy out wit some pro-keds on.   \n",
       "44                                                                                                                                                                       people stay talking about \"I don't have her number no more\" BITCH THE WAY YOU STALK ME HOE YOU KNOW HOW TO GET AT ME BE FR‼️   \n",
       "45                                                                                                                                                                                                                               rah don't turn up at my door acting like a cunt😂 u drove to me bitch   \n",
       "46                                                                                                                                                                                                                         I hate when a bitch call you ugly hoe you had to Sneak up on a mirror 😝😂tf   \n",
       "47                                                                                                                                                                                                                                     We done fucked her before yo bitch a whore n you mad about it?   \n",
       "48                                                           About Time! Non Citizens and DACA Illegals Who Voted Must be Arrested For Voter Fraud Serve their time then Deported ASAP All Forms ask you to Swear Your a Citizen they lied ! #SendThemBack #Trump #MAGA #RedNationRising #Immigration   \n",
       "49                                                                     17-year-old charged in killing of teenager in Annapolis linked to MS-13 #NoAmnesty #NoDACA #DeportThemAll @user @user these are not anomalies this is becoming the norm.Immigration reform does not entail giving a free pass!   \n",
       "\n",
       "    Hate Rate  \n",
       "0    0.850300  \n",
       "1    0.850506  \n",
       "2    0.851045  \n",
       "3    0.851342  \n",
       "4    0.851521  \n",
       "5    0.851680  \n",
       "6    0.851925  \n",
       "7    0.851955  \n",
       "8    0.852239  \n",
       "9    0.852290  \n",
       "10   0.852342  \n",
       "11   0.852583  \n",
       "12   0.853026  \n",
       "13   0.853309  \n",
       "14   0.853332  \n",
       "15   0.853528  \n",
       "16   0.853593  \n",
       "17   0.853779  \n",
       "18   0.853838  \n",
       "19   0.854096  \n",
       "20   0.854381  \n",
       "21   0.854510  \n",
       "22   0.854917  \n",
       "23   0.855358  \n",
       "24   0.855377  \n",
       "25   0.855420  \n",
       "26   0.855535  \n",
       "27   0.856163  \n",
       "28   0.856364  \n",
       "29   0.856543  \n",
       "30   0.856592  \n",
       "31   0.856764  \n",
       "32   0.856975  \n",
       "33   0.857159  \n",
       "34   0.857235  \n",
       "35   0.857347  \n",
       "36   0.857893  \n",
       "37   0.857930  \n",
       "38   0.858019  \n",
       "39   0.858140  \n",
       "40   0.858603  \n",
       "41   0.858809  \n",
       "42   0.858824  \n",
       "43   0.858966  \n",
       "44   0.859141  \n",
       "45   0.859253  \n",
       "46   0.859327  \n",
       "47   0.859839  \n",
       "48   0.859856  \n",
       "49   0.860161  "
      ]
     },
     "execution_count": 22,
     "metadata": {},
     "output_type": "execute_result"
    }
   ],
   "source": [
    "pd.DataFrame(top_50_mid_rate, columns=['Tweet', 'Hate Rate'])"
   ]
  },
  {
   "cell_type": "code",
   "execution_count": 23,
   "metadata": {},
   "outputs": [
    {
     "data": {
      "text/html": [
       "<div>\n",
       "<style scoped>\n",
       "    .dataframe tbody tr th:only-of-type {\n",
       "        vertical-align: middle;\n",
       "    }\n",
       "\n",
       "    .dataframe tbody tr th {\n",
       "        vertical-align: top;\n",
       "    }\n",
       "\n",
       "    .dataframe thead th {\n",
       "        text-align: right;\n",
       "    }\n",
       "</style>\n",
       "<table border=\"1\" class=\"dataframe\">\n",
       "  <thead>\n",
       "    <tr style=\"text-align: right;\">\n",
       "      <th></th>\n",
       "      <th>Tweet</th>\n",
       "      <th>Hate Rate</th>\n",
       "    </tr>\n",
       "  </thead>\n",
       "  <tbody>\n",
       "    <tr>\n",
       "      <th>0</th>\n",
       "      <td>The latest Pundits' Post! w/ articles tweeted by @user @user @user #flipboard10fortoday #enddaca</td>\n",
       "      <td>0.008872</td>\n",
       "    </tr>\n",
       "    <tr>\n",
       "      <th>1</th>\n",
       "      <td>How did people respond to @user tweets today?Friday 07 Sep 2018 16:00:26 UTCTop hashtags:#fridayfeeiing#buildthatwall#fridaymotivation#retweet#maga#nikeMost influential accounts:@adventuregirl@WeSupport45@DailyCaller@MichaelRapaport@LouiseMensch</td>\n",
       "      <td>0.012090</td>\n",
       "    </tr>\n",
       "    <tr>\n",
       "      <th>2</th>\n",
       "      <td>Very excited that @user is sponsoring BITCH! @user @user #womendirect #ALOT!</td>\n",
       "      <td>0.015839</td>\n",
       "    </tr>\n",
       "    <tr>\n",
       "      <th>3</th>\n",
       "      <td>Only 14 more days to #BackToSchool #SendThemBack</td>\n",
       "      <td>0.021851</td>\n",
       "    </tr>\n",
       "    <tr>\n",
       "      <th>4</th>\n",
       "      <td>Fake News: Iconic Crying Migrant Girl Never Separated from Mother, Says Father via @user @user @user</td>\n",
       "      <td>0.022212</td>\n",
       "    </tr>\n",
       "    <tr>\n",
       "      <th>5</th>\n",
       "      <td>Whenever HP is on I have this sick need to watch it &amp; bitch the whole time.   Scene that grind my gears:  \"HARRY DID U PUT UR NAME IN GOF!?\"📢</td>\n",
       "      <td>0.023171</td>\n",
       "    </tr>\n",
       "    <tr>\n",
       "      <th>6</th>\n",
       "      <td>THE WHOLE #LUSTFORLIFE ALBUM IS JUST LIKE BITCH STOP ITS STILL 10AM HERE AND IM ALREADY ROLLING ON THE FLOOR AND AH…</td>\n",
       "      <td>0.023525</td>\n",
       "    </tr>\n",
       "    <tr>\n",
       "      <th>7</th>\n",
       "      <td>37 seconds ago I was tearing up over how overworked 1D was, i've snapped out of it! im a whole new bitch! MOVING AL…</td>\n",
       "      <td>0.023668</td>\n",
       "    </tr>\n",
       "    <tr>\n",
       "      <th>8</th>\n",
       "      <td>@user Bitch😭😭😭 dude I didn't even bother to read the whole sentence😕 I almost went to Instagram to check😑</td>\n",
       "      <td>0.023793</td>\n",
       "    </tr>\n",
       "    <tr>\n",
       "      <th>9</th>\n",
       "      <td>I preordered 7 wings concept book and they all came without the lenticular i was a depressed bitch for a whole week</td>\n",
       "      <td>0.023833</td>\n",
       "    </tr>\n",
       "    <tr>\n",
       "      <th>10</th>\n",
       "      <td>#mikeandike #sierraandhunter #twomonkeys #sugarhigh #amped #sendthemhome #sweetuncle #guncle @ Burbank, California</td>\n",
       "      <td>0.026517</td>\n",
       "    </tr>\n",
       "    <tr>\n",
       "      <th>11</th>\n",
       "      <td>Been listening to LP th whole shift. Life is a bitch. But we must continue the fight. RIP</td>\n",
       "      <td>0.027800</td>\n",
       "    </tr>\n",
       "    <tr>\n",
       "      <th>12</th>\n",
       "      <td>How did people respond to @user tweets today?Tuesday 11 Sep 2018 16:00:32 UTCTop hashtags:#neverforget#september11th#911memorial#buildthatwall#retweet#trumpMost influential accounts:@WeSupport45@JeffreyGuterman@Brimshack@wdunlap@WashingtonDCTea</td>\n",
       "      <td>0.028594</td>\n",
       "    </tr>\n",
       "    <tr>\n",
       "      <th>13</th>\n",
       "      <td>In shock, destroyed and devastated. When a person you love and loved you back calls you a cunt, and a hoe, and wishes you harm.</td>\n",
       "      <td>0.033335</td>\n",
       "    </tr>\n",
       "    <tr>\n",
       "      <th>14</th>\n",
       "      <td>Lol if we're being honest I spent the whole day depressed as a bitch in my room, this is the only time I've felt ok today .. rn at 11pm</td>\n",
       "      <td>0.034416</td>\n",
       "    </tr>\n",
       "    <tr>\n",
       "      <th>15</th>\n",
       "      <td>Im literally counting down the days until the kids go back to school. #SendThemBack</td>\n",
       "      <td>0.035436</td>\n",
       "    </tr>\n",
       "    <tr>\n",
       "      <th>16</th>\n",
       "      <td>Bitch I am literally a whore for songs that transition perfectly into each other and Tyler really did That! We eati…</td>\n",
       "      <td>0.037013</td>\n",
       "    </tr>\n",
       "    <tr>\n",
       "      <th>17</th>\n",
       "      <td>Depression is such a bitch man. Pls stop treating it as a joke. I fought depression my whole and I got help for it. I feel more at peace now</td>\n",
       "      <td>0.037068</td>\n",
       "    </tr>\n",
       "    <tr>\n",
       "      <th>18</th>\n",
       "      <td>bitch if i buy these shoes i will also need money for the comeback and jungkook's birthday god help me i wanna be r…</td>\n",
       "      <td>0.037528</td>\n",
       "    </tr>\n",
       "    <tr>\n",
       "      <th>19</th>\n",
       "      <td>For everyone who calls me a bitch, hoe, annoying, ugly, emo, etc. you're probably right congrats here's your medal good job 👏</td>\n",
       "      <td>0.037902</td>\n",
       "    </tr>\n",
       "    <tr>\n",
       "      <th>20</th>\n",
       "      <td>P. O. A  Freestyle #kehoe #youcantfuckwithme @user Boyz bitch) #Va #rva#804…</td>\n",
       "      <td>0.040183</td>\n",
       "    </tr>\n",
       "    <tr>\n",
       "      <th>21</th>\n",
       "      <td>@user Bitch planet, the walking dead, morning glories, chew, chrononauts, all of the Luther strode titles,…</td>\n",
       "      <td>0.040766</td>\n",
       "    </tr>\n",
       "    <tr>\n",
       "      <th>22</th>\n",
       "      <td>BITCH HE OUT HERE LOOKING LIKE WHOLE NATIONS BEST MODEL IM SO PROUD OF HIM HE IS SO TALENTED HES THE MAN OF VISUAL</td>\n",
       "      <td>0.041045</td>\n",
       "    </tr>\n",
       "    <tr>\n",
       "      <th>23</th>\n",
       "      <td>i was like oH hEll nO bITCh, so i just kinda like looked away and he went to sit down and the whole time he kept looking over at me</td>\n",
       "      <td>0.041155</td>\n",
       "    </tr>\n",
       "    <tr>\n",
       "      <th>24</th>\n",
       "      <td>BITCH. They ship TODAY if you order before 1pm + they have Afterpay and free samples. UP UR GAME HOES</td>\n",
       "      <td>0.044665</td>\n",
       "    </tr>\n",
       "    <tr>\n",
       "      <th>25</th>\n",
       "      <td>Second Impostor in Three Weeks Caught by CBP Biometric Verification Technology at Washington Dulles Airport #facialrecognition #illegalaliens #uscustomsandborderprotection #washingtondullesairport</td>\n",
       "      <td>0.045015</td>\n",
       "    </tr>\n",
       "    <tr>\n",
       "      <th>26</th>\n",
       "      <td>my manager just asked me why i seem so depressed like bitch i been this way my whole life</td>\n",
       "      <td>0.045745</td>\n",
       "    </tr>\n",
       "    <tr>\n",
       "      <th>27</th>\n",
       "      <td>bitch is episode 41 out yet im going to kms i hate having to wait a whole week for new episodes</td>\n",
       "      <td>0.045869</td>\n",
       "    </tr>\n",
       "    <tr>\n",
       "      <th>28</th>\n",
       "      <td>I learned today that whoever runs the watchmojo YouTube channel is fucking bleeding like a bitch</td>\n",
       "      <td>0.049182</td>\n",
       "    </tr>\n",
       "    <tr>\n",
       "      <th>29</th>\n",
       "      <td>Depression isn't just a bitch. It's a Cunt! Still gutted about the Chester Bennington news. #LinkinPark</td>\n",
       "      <td>0.051301</td>\n",
       "    </tr>\n",
       "    <tr>\n",
       "      <th>30</th>\n",
       "      <td>BITCH. YUGYEOM IS A WHOLE DAMN LEGEND</td>\n",
       "      <td>0.053007</td>\n",
       "    </tr>\n",
       "    <tr>\n",
       "      <th>31</th>\n",
       "      <td>Finally watching black lightening. Great spirituals in the background. #BlackLightning #Jesus #sendthemback</td>\n",
       "      <td>0.054359</td>\n",
       "    </tr>\n",
       "    <tr>\n",
       "      <th>32</th>\n",
       "      <td>just spent a whole 16 minutes in court..... bitch it takes longer to drive there</td>\n",
       "      <td>0.054396</td>\n",
       "    </tr>\n",
       "    <tr>\n",
       "      <th>33</th>\n",
       "      <td>@user Bitch, I'm,,,,,, I'm glad you shared. I'm flattered 😩 I love you hoe ❤🍷❤</td>\n",
       "      <td>0.055712</td>\n",
       "    </tr>\n",
       "    <tr>\n",
       "      <th>34</th>\n",
       "      <td>uGh n e ways my irl always pushing me to buy svt hi touch ticket and the puma shoes uH BITCH i would've bought them if i have money annoYing</td>\n",
       "      <td>0.056392</td>\n",
       "    </tr>\n",
       "    <tr>\n",
       "      <th>35</th>\n",
       "      <td>It's funny when people say \"if someone says they're a boy, they're a boy!\" while calling me a \"bitch\" or a \"cunt,\" referencing my gender.</td>\n",
       "      <td>0.056432</td>\n",
       "    </tr>\n",
       "    <tr>\n",
       "      <th>36</th>\n",
       "      <td>getting the justice that hundreds of unarmed black men and women never received. double standards are a bitch.</td>\n",
       "      <td>0.056549</td>\n",
       "    </tr>\n",
       "    <tr>\n",
       "      <th>37</th>\n",
       "      <td>5. last time i cried bitch i cry every day i am a phoenix so when i cry someone else comes back 2 life thank me later</td>\n",
       "      <td>0.056731</td>\n",
       "    </tr>\n",
       "    <tr>\n",
       "      <th>38</th>\n",
       "      <td>@user @user PLS KEEP SHARING for the release of Kato and Kleo cruelty keeping these babies behind bars #SendThemHome allow them time left to spend w their human family #HaveAHeart #FREEKatoAndKleo</td>\n",
       "      <td>0.057163</td>\n",
       "    </tr>\n",
       "    <tr>\n",
       "      <th>39</th>\n",
       "      <td>Bitch why am I shook af I didn't know this crockpot meatballs recipe needed grape jelly?!</td>\n",
       "      <td>0.058527</td>\n",
       "    </tr>\n",
       "    <tr>\n",
       "      <th>40</th>\n",
       "      <td>Bitch I went from survey specialist to Therapeutic Preschool Specialist aye</td>\n",
       "      <td>0.058778</td>\n",
       "    </tr>\n",
       "    <tr>\n",
       "      <th>41</th>\n",
       "      <td>BITCH  BTS ALREADY BURNED THE WHOLE UNIVERSE WITH NOT TODAY WHAT DO U MEAN HOT BUT EVEN BETTER IS THERE ANYTHING LEFT TO BURN</td>\n",
       "      <td>0.059156</td>\n",
       "    </tr>\n",
       "    <tr>\n",
       "      <th>42</th>\n",
       "      <td>Trump is a wicked son of a bitch. Can't get his way, so why not hurt everyone. Whoever said he was the best 4🇺🇸was…</td>\n",
       "      <td>0.059372</td>\n",
       "    </tr>\n",
       "    <tr>\n",
       "      <th>43</th>\n",
       "      <td>i rlly rlly rlly rlly rlly wanna buy those puma shoes but bITCH I JUST BOUGHT AN ALBUM AND I HAVE LIKE 50 PESOS IN MY WALLET</td>\n",
       "      <td>0.060014</td>\n",
       "    </tr>\n",
       "    <tr>\n",
       "      <th>44</th>\n",
       "      <td>BITCH MINSEOK CENTER IS SO DAMN BEAUTIFUL A WHOLE MAIN DANCER</td>\n",
       "      <td>0.060020</td>\n",
       "    </tr>\n",
       "    <tr>\n",
       "      <th>45</th>\n",
       "      <td>8. I REMEMBER LIVE DMING U DWP. ur a g and i hope yr 11 treats u right. REMEMBER MY ADIVCE U BITCH ASS CUNT. ilysm!!</td>\n",
       "      <td>0.061154</td>\n",
       "    </tr>\n",
       "    <tr>\n",
       "      <th>46</th>\n",
       "      <td>Force yourself to love yourself! Love it!! Be it!! Feel it!! Slay it!! Get into your kunt!!!</td>\n",
       "      <td>0.062013</td>\n",
       "    </tr>\n",
       "    <tr>\n",
       "      <th>47</th>\n",
       "      <td>I'm glad I have friends who call each other queens and goddesses not bitch or whore.     #goalsreached</td>\n",
       "      <td>0.062334</td>\n",
       "    </tr>\n",
       "    <tr>\n",
       "      <th>48</th>\n",
       "      <td>The Atlantic takes a close look at how programmes for refugees in America are changing for the worse under President Trump's administration. #USA #world #Refugees #RefugeesWelcome #refugeesNOTwelcome #symmitree #4change</td>\n",
       "      <td>0.064620</td>\n",
       "    </tr>\n",
       "    <tr>\n",
       "      <th>49</th>\n",
       "      <td>I LOVE WATCHING YOUTUBE VIDEOS WHERE THEY CALL OUT YOUTUBERS OR WHOEVER. I DEADASS LOVE CALL OUT CULTURE, IT'S PETTY BUT BITCH AND?</td>\n",
       "      <td>0.064709</td>\n",
       "    </tr>\n",
       "  </tbody>\n",
       "</table>\n",
       "</div>"
      ],
      "text/plain": [
       "                                                                                                                                                                                                                                                    Tweet  \\\n",
       "0                                                                                                                                                        The latest Pundits' Post! w/ articles tweeted by @user @user @user #flipboard10fortoday #enddaca   \n",
       "1   How did people respond to @user tweets today?Friday 07 Sep 2018 16:00:26 UTCTop hashtags:#fridayfeeiing#buildthatwall#fridaymotivation#retweet#maga#nikeMost influential accounts:@adventuregirl@WeSupport45@DailyCaller@MichaelRapaport@LouiseMensch   \n",
       "2                                                                                                                                                                            Very excited that @user is sponsoring BITCH! @user @user #womendirect #ALOT!   \n",
       "3                                                                                                                                                                                                        Only 14 more days to #BackToSchool #SendThemBack   \n",
       "4                                                                                                                                                    Fake News: Iconic Crying Migrant Girl Never Separated from Mother, Says Father via @user @user @user   \n",
       "5                                                                                                           Whenever HP is on I have this sick need to watch it & bitch the whole time.   Scene that grind my gears:  \"HARRY DID U PUT UR NAME IN GOF!?\"📢   \n",
       "6                                                                                                                                    THE WHOLE #LUSTFORLIFE ALBUM IS JUST LIKE BITCH STOP ITS STILL 10AM HERE AND IM ALREADY ROLLING ON THE FLOOR AND AH…   \n",
       "7                                                                                                                                    37 seconds ago I was tearing up over how overworked 1D was, i've snapped out of it! im a whole new bitch! MOVING AL…   \n",
       "8                                                                                                                                               @user Bitch😭😭😭 dude I didn't even bother to read the whole sentence😕 I almost went to Instagram to check😑   \n",
       "9                                                                                                                                     I preordered 7 wings concept book and they all came without the lenticular i was a depressed bitch for a whole week   \n",
       "10                                                                                                                                     #mikeandike #sierraandhunter #twomonkeys #sugarhigh #amped #sendthemhome #sweetuncle #guncle @ Burbank, California   \n",
       "11                                                                                                                                                              Been listening to LP th whole shift. Life is a bitch. But we must continue the fight. RIP   \n",
       "12   How did people respond to @user tweets today?Tuesday 11 Sep 2018 16:00:32 UTCTop hashtags:#neverforget#september11th#911memorial#buildthatwall#retweet#trumpMost influential accounts:@WeSupport45@JeffreyGuterman@Brimshack@wdunlap@WashingtonDCTea   \n",
       "13                                                                                                                        In shock, destroyed and devastated. When a person you love and loved you back calls you a cunt, and a hoe, and wishes you harm.   \n",
       "14                                                                                                                Lol if we're being honest I spent the whole day depressed as a bitch in my room, this is the only time I've felt ok today .. rn at 11pm   \n",
       "15                                                                                                                                                                    Im literally counting down the days until the kids go back to school. #SendThemBack   \n",
       "16                                                                                                                                   Bitch I am literally a whore for songs that transition perfectly into each other and Tyler really did That! We eati…   \n",
       "17                                                                                                           Depression is such a bitch man. Pls stop treating it as a joke. I fought depression my whole and I got help for it. I feel more at peace now   \n",
       "18                                                                                                                                   bitch if i buy these shoes i will also need money for the comeback and jungkook's birthday god help me i wanna be r…   \n",
       "19                                                                                                                          For everyone who calls me a bitch, hoe, annoying, ugly, emo, etc. you're probably right congrats here's your medal good job 👏   \n",
       "20                                                                                                                                                                           P. O. A  Freestyle #kehoe #youcantfuckwithme @user Boyz bitch) #Va #rva#804…   \n",
       "21                                                                                                                                            @user Bitch planet, the walking dead, morning glories, chew, chrononauts, all of the Luther strode titles,…   \n",
       "22                                                                                                                                     BITCH HE OUT HERE LOOKING LIKE WHOLE NATIONS BEST MODEL IM SO PROUD OF HIM HE IS SO TALENTED HES THE MAN OF VISUAL   \n",
       "23                                                                                                                    i was like oH hEll nO bITCh, so i just kinda like looked away and he went to sit down and the whole time he kept looking over at me   \n",
       "24                                                                                                                                                  BITCH. They ship TODAY if you order before 1pm + they have Afterpay and free samples. UP UR GAME HOES   \n",
       "25                                                   Second Impostor in Three Weeks Caught by CBP Biometric Verification Technology at Washington Dulles Airport #facialrecognition #illegalaliens #uscustomsandborderprotection #washingtondullesairport   \n",
       "26                                                                                                                                                              my manager just asked me why i seem so depressed like bitch i been this way my whole life   \n",
       "27                                                                                                                                                        bitch is episode 41 out yet im going to kms i hate having to wait a whole week for new episodes   \n",
       "28                                                                                                                                                       I learned today that whoever runs the watchmojo YouTube channel is fucking bleeding like a bitch   \n",
       "29                                                                                                                                                Depression isn't just a bitch. It's a Cunt! Still gutted about the Chester Bennington news. #LinkinPark   \n",
       "30                                                                                                                                                                                                                  BITCH. YUGYEOM IS A WHOLE DAMN LEGEND   \n",
       "31                                                                                                                                            Finally watching black lightening. Great spirituals in the background. #BlackLightning #Jesus #sendthemback   \n",
       "32                                                                                                                                                                       just spent a whole 16 minutes in court..... bitch it takes longer to drive there   \n",
       "33                                                                                                                                                                         @user Bitch, I'm,,,,,, I'm glad you shared. I'm flattered 😩 I love you hoe ❤🍷❤   \n",
       "34                                                                                                           uGh n e ways my irl always pushing me to buy svt hi touch ticket and the puma shoes uH BITCH i would've bought them if i have money annoYing   \n",
       "35                                                                                                              It's funny when people say \"if someone says they're a boy, they're a boy!\" while calling me a \"bitch\" or a \"cunt,\" referencing my gender.   \n",
       "36                                                                                                                                         getting the justice that hundreds of unarmed black men and women never received. double standards are a bitch.   \n",
       "37                                                                                                                                  5. last time i cried bitch i cry every day i am a phoenix so when i cry someone else comes back 2 life thank me later   \n",
       "38                                                   @user @user PLS KEEP SHARING for the release of Kato and Kleo cruelty keeping these babies behind bars #SendThemHome allow them time left to spend w their human family #HaveAHeart #FREEKatoAndKleo   \n",
       "39                                                                                                                                                              Bitch why am I shook af I didn't know this crockpot meatballs recipe needed grape jelly?!   \n",
       "40                                                                                                                                                                            Bitch I went from survey specialist to Therapeutic Preschool Specialist aye   \n",
       "41                                                                                                                          BITCH  BTS ALREADY BURNED THE WHOLE UNIVERSE WITH NOT TODAY WHAT DO U MEAN HOT BUT EVEN BETTER IS THERE ANYTHING LEFT TO BURN   \n",
       "42                                                                                                                                    Trump is a wicked son of a bitch. Can't get his way, so why not hurt everyone. Whoever said he was the best 4🇺🇸was…   \n",
       "43                                                                                                                           i rlly rlly rlly rlly rlly wanna buy those puma shoes but bITCH I JUST BOUGHT AN ALBUM AND I HAVE LIKE 50 PESOS IN MY WALLET   \n",
       "44                                                                                                                                                                                          BITCH MINSEOK CENTER IS SO DAMN BEAUTIFUL A WHOLE MAIN DANCER   \n",
       "45                                                                                                                                   8. I REMEMBER LIVE DMING U DWP. ur a g and i hope yr 11 treats u right. REMEMBER MY ADIVCE U BITCH ASS CUNT. ilysm!!   \n",
       "46                                                                                                                                                           Force yourself to love yourself! Love it!! Be it!! Feel it!! Slay it!! Get into your kunt!!!   \n",
       "47                                                                                                                                                 I'm glad I have friends who call each other queens and goddesses not bitch or whore.     #goalsreached   \n",
       "48                            The Atlantic takes a close look at how programmes for refugees in America are changing for the worse under President Trump's administration. #USA #world #Refugees #RefugeesWelcome #refugeesNOTwelcome #symmitree #4change   \n",
       "49                                                                                                                    I LOVE WATCHING YOUTUBE VIDEOS WHERE THEY CALL OUT YOUTUBERS OR WHOEVER. I DEADASS LOVE CALL OUT CULTURE, IT'S PETTY BUT BITCH AND?   \n",
       "\n",
       "    Hate Rate  \n",
       "0    0.008872  \n",
       "1    0.012090  \n",
       "2    0.015839  \n",
       "3    0.021851  \n",
       "4    0.022212  \n",
       "5    0.023171  \n",
       "6    0.023525  \n",
       "7    0.023668  \n",
       "8    0.023793  \n",
       "9    0.023833  \n",
       "10   0.026517  \n",
       "11   0.027800  \n",
       "12   0.028594  \n",
       "13   0.033335  \n",
       "14   0.034416  \n",
       "15   0.035436  \n",
       "16   0.037013  \n",
       "17   0.037068  \n",
       "18   0.037528  \n",
       "19   0.037902  \n",
       "20   0.040183  \n",
       "21   0.040766  \n",
       "22   0.041045  \n",
       "23   0.041155  \n",
       "24   0.044665  \n",
       "25   0.045015  \n",
       "26   0.045745  \n",
       "27   0.045869  \n",
       "28   0.049182  \n",
       "29   0.051301  \n",
       "30   0.053007  \n",
       "31   0.054359  \n",
       "32   0.054396  \n",
       "33   0.055712  \n",
       "34   0.056392  \n",
       "35   0.056432  \n",
       "36   0.056549  \n",
       "37   0.056731  \n",
       "38   0.057163  \n",
       "39   0.058527  \n",
       "40   0.058778  \n",
       "41   0.059156  \n",
       "42   0.059372  \n",
       "43   0.060014  \n",
       "44   0.060020  \n",
       "45   0.061154  \n",
       "46   0.062013  \n",
       "47   0.062334  \n",
       "48   0.064620  \n",
       "49   0.064709  "
      ]
     },
     "execution_count": 23,
     "metadata": {},
     "output_type": "execute_result"
    }
   ],
   "source": [
    "pd.DataFrame(top_50_worst_rate, columns=['Tweet', 'Hate Rate'])"
   ]
  },
  {
   "cell_type": "code",
   "execution_count": 24,
   "metadata": {},
   "outputs": [
    {
     "name": "stdout",
     "output_type": "stream",
     "text": [
      "The mean of hate rate is: 0.7372105 %\n"
     ]
    }
   ],
   "source": [
    "mean_hate_rate = np.mean([x[1] for x in tweets_hate_rate.items()])\n",
    "print(\"The mean of hate rate is:\", mean_hate_rate, '%')"
   ]
  },
  {
   "cell_type": "markdown",
   "metadata": {},
   "source": [
    "We can observe that the model is returning a lot of hate tweets. Or we saw earlier that the dataset is unbalanced, with a majority of non-hate tweets.  \n",
    "That seems to be the reason why the model is not very good."
   ]
  },
  {
   "cell_type": "code",
   "execution_count": 25,
   "metadata": {},
   "outputs": [
    {
     "name": "stderr",
     "output_type": "stream",
     "text": [
      "  0%|          | 11/2970 [00:00<03:00, 16.40it/s]"
     ]
    },
    {
     "name": "stdout",
     "output_type": "stream",
     "text": [
      "Tweet: @user , you are correct that Reid certainly is a weasel. Sadly, we've got our own weasels; @user Sen McConnell & @user .The corrupt Mueller investigation w/be STOPPED if those 3 did their jobs.#MAGA #KAG #POTUS #Trump #NEWS #VoteRed #NoDACA #USA\n",
      "Predicted label: hate\n",
      "True label: not-hate\n",
      "\n",
      "Tweet: Whoever just unfollowed me you a bitch\n",
      "Predicted label: not-hate\n",
      "True label: hate\n",
      "\n",
      "Tweet: @user @user @user Always #NoDACA.I AM BORN IN #USA AND #USA FIRST.\n",
      "Predicted label: hate\n",
      "True label: not-hate\n",
      "\n",
      "Tweet: @user @user Like he ever kept out any threats. He's lying as usual. #BuildThatWall\n",
      "Predicted label: hate\n",
      "True label: not-hate\n",
      "\n",
      "Tweet: @user @user They can scrim whoever they fucking want this isn't a fucking chall you dumb bitch\n",
      "Predicted label: hate\n",
      "True label: not-hate\n",
      "\n"
     ]
    },
    {
     "name": "stderr",
     "output_type": "stream",
     "text": [
      "\n"
     ]
    }
   ],
   "source": [
    "wrong_examples = []\n",
    "nb_examples = 5\n",
    "with torch.no_grad():\n",
    "    y_true = dataset['test']['label']\n",
    "    for tweet in tqdm(dataset['test']['text']):\n",
    "        if (len(wrong_examples) == nb_examples):\n",
    "            break\n",
    "        inputs = tokenizer(preprocess(tweet), return_tensors=\"pt\")\n",
    "        outputs = model(**inputs)\n",
    "        logits = outputs[0]\n",
    "        probs = softmax(logits.numpy(), axis=1)\n",
    "        if np.argmax(probs) != y_true[dataset['test']['text'].index(tweet)]:\n",
    "            wrong_examples.append((tweet, np.argmax(probs), y_true[dataset['test']['text'].index(tweet)]))\n",
    "            \n",
    "for example in wrong_examples:\n",
    "    print(\"Tweet:\", example[0])\n",
    "    print(\"Predicted label:\", labels[example[1]])\n",
    "    print(\"True label:\", labels[example[2]])\n",
    "    print(\"\")"
   ]
  },
  {
   "cell_type": "markdown",
   "metadata": {},
   "source": [
    "Some of the tweets in the test dataset seems to be wrong classified. Indeed, the last tweet : \"@user @user They can scrim whoever they fucking want this isn't a fucking chall you dumb bitch\" should be classified as hate.  \n",
    "Moreover, the tweets with hashtag seems to be wrongly classified and be an argument for their high hate score."
   ]
  },
  {
   "cell_type": "markdown",
   "metadata": {},
   "source": [
    "---\n",
    "\n",
    "## Annotate data"
   ]
  },
  {
   "cell_type": "code",
   "execution_count": 26,
   "metadata": {},
   "outputs": [
    {
     "name": "stderr",
     "output_type": "stream",
     "text": [
      "  1%|          | 26/2970 [00:01<02:59, 16.40it/s]"
     ]
    },
    {
     "name": "stdout",
     "output_type": "stream",
     "text": [
      "Number of tweets: 100\n"
     ]
    },
    {
     "name": "stderr",
     "output_type": "stream",
     "text": [
      "\n"
     ]
    }
   ],
   "source": [
    "import random\n",
    "\n",
    "# Extract 100 tweets containing at least 20% of hate tweets\n",
    "\n",
    "target_perc = 0.2\n",
    "nb_tweets = 100\n",
    "\n",
    "# Extract 80 tweets randomly from test dataset\n",
    "tweets = random.sample(dataset['test']['text'], int(nb_tweets * (1 - target_perc)))\n",
    "\n",
    "with torch.no_grad():\n",
    "    for tweet in tqdm(dataset['test']['text']):\n",
    "        if tweet in tweets:\n",
    "            continue\n",
    "        if (len(tweets) == nb_tweets):\n",
    "            break\n",
    "        inputs = tokenizer(preprocess(tweet), return_tensors=\"pt\")\n",
    "        outputs = model(**inputs)\n",
    "        logits = outputs[0]\n",
    "        probs = softmax(logits.numpy(), axis=1)\n",
    "        if np.argmax(probs) == 1:\n",
    "            tweets.append(tweet)\n",
    "\n",
    "print(\"Number of tweets:\", len(tweets))\n",
    "pd.DataFrame(tweets, columns=['Tweet']).to_csv('tweets.csv', index=False)\n"
   ]
  },
  {
   "cell_type": "markdown",
   "metadata": {},
   "source": [
    "The next cell read the CSV file and add a column for each member of the group to annotate the tweets."
   ]
  },
  {
   "cell_type": "code",
   "execution_count": 42,
   "metadata": {},
   "outputs": [],
   "source": [
    "tweets = pd.read_csv('tweets.csv')\n",
    "tweets\n",
    "\n",
    "tweets['Victor'] = 0\n",
    "tweets['Alexandre'] = 0\n",
    "tweets['Sarah'] = 0\n",
    "tweets['Eliott'] = 0\n",
    "\n",
    "tweets.to_csv('tweets.csv', index=False)"
   ]
  },
  {
   "cell_type": "code",
   "execution_count": null,
   "metadata": {},
   "outputs": [],
   "source": []
  }
 ],
 "metadata": {
  "kernelspec": {
   "display_name": "Python 3.10.6 64-bit",
   "language": "python",
   "name": "python3"
  },
  "language_info": {
   "codemirror_mode": {
    "name": "ipython",
    "version": 3
   },
   "file_extension": ".py",
   "mimetype": "text/x-python",
   "name": "python",
   "nbconvert_exporter": "python",
   "pygments_lexer": "ipython3",
   "version": "3.10.8"
  },
  "orig_nbformat": 4,
  "vscode": {
   "interpreter": {
    "hash": "e7370f93d1d0cde622a1f8e1c04877d8463912d04d973331ad4851f04de6915a"
   }
  }
 },
 "nbformat": 4,
 "nbformat_minor": 2
}
